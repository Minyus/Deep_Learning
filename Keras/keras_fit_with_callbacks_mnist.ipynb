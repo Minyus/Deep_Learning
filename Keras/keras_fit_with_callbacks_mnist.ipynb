{
  "nbformat": 4,
  "nbformat_minor": 0,
  "metadata": {
    "colab": {
      "name": "keras_fit_with_callbacks_mnist.ipynb",
      "version": "0.3.2",
      "provenance": [],
      "collapsed_sections": []
    },
    "kernelspec": {
      "name": "python3",
      "display_name": "Python 3"
    },
    "accelerator": "GPU"
  },
  "cells": [
    {
      "metadata": {
        "id": "vRgMOgH-ajJW",
        "colab_type": "text"
      },
      "cell_type": "markdown",
      "source": [
        "## Set up Google Colab environment"
      ]
    },
    {
      "metadata": {
        "id": "7F29nuHfiiUA",
        "colab_type": "code",
        "outputId": "40e1b2d7-dc22-4046-e71f-476f84ceb2f7",
        "colab": {
          "base_uri": "https://localhost:8080/",
          "height": 34
        }
      },
      "cell_type": "code",
      "source": [
        "### Set colaboratory True to run in Google Colaboratory. \n",
        "colab = True\n",
        "\n",
        "if colab:\n",
        "  from google.colab import drive\n",
        "  drive.mount('/content/drive')\n",
        "  import os\n",
        "  ## Specify a directory in Google Drive\n",
        "  dir = '/content/drive/My Drive/Colab Notebooks/Keras_MNIST'\n",
        "  os.chdir(dir)\n",
        "  #os.getcwd()\n",
        "  #os.listdir()"
      ],
      "execution_count": 1,
      "outputs": [
        {
          "output_type": "stream",
          "text": [
            "Drive already mounted at /content/drive; to attempt to forcibly remount, call drive.mount(\"/content/drive\", force_remount=True).\n"
          ],
          "name": "stdout"
        }
      ]
    },
    {
      "metadata": {
        "id": "As19XFC8jE-g",
        "colab_type": "code",
        "outputId": "07296b14-f460-436b-c701-1d794eb8b644",
        "colab": {
          "base_uri": "https://localhost:8080/",
          "height": 319
        }
      },
      "cell_type": "code",
      "source": [
        "if colab:\n",
        "  ## Check the uptime. (Google Colab reboots every 12 hours)\n",
        "  !cat /proc/uptime | awk '{print \"Uptime is \" $1 /60 /60 \" hours (\" $1 \" sec)\"}'\n",
        "  ## Check the GPU info\n",
        "  !nvidia-smi\n",
        "  ## Check the Python version\n",
        "  !python --version"
      ],
      "execution_count": 2,
      "outputs": [
        {
          "output_type": "stream",
          "text": [
            "Uptime is 1.3406 hours (4826.16 sec)\n",
            "Fri Jan 25 14:37:46 2019       \n",
            "+-----------------------------------------------------------------------------+\n",
            "| NVIDIA-SMI 396.44                 Driver Version: 396.44                    |\n",
            "|-------------------------------+----------------------+----------------------+\n",
            "| GPU  Name        Persistence-M| Bus-Id        Disp.A | Volatile Uncorr. ECC |\n",
            "| Fan  Temp  Perf  Pwr:Usage/Cap|         Memory-Usage | GPU-Util  Compute M. |\n",
            "|===============================+======================+======================|\n",
            "|   0  Tesla K80           Off  | 00000000:00:04.0 Off |                    0 |\n",
            "| N/A   34C    P0    55W / 149W |    459MiB / 11441MiB |      0%      Default |\n",
            "+-------------------------------+----------------------+----------------------+\n",
            "                                                                               \n",
            "+-----------------------------------------------------------------------------+\n",
            "| Processes:                                                       GPU Memory |\n",
            "|  GPU       PID   Type   Process name                             Usage      |\n",
            "|=============================================================================|\n",
            "+-----------------------------------------------------------------------------+\n",
            "Python 3.6.7\n"
          ],
          "name": "stdout"
        }
      ]
    },
    {
      "metadata": {
        "id": "KN-GFrsvarFB",
        "colab_type": "text"
      },
      "cell_type": "markdown",
      "source": [
        "## Import modules"
      ]
    },
    {
      "metadata": {
        "id": "HZ219oTUjJXf",
        "colab_type": "code",
        "outputId": "66f8a320-1ea7-48c0-da74-778f724ceac6",
        "colab": {
          "base_uri": "https://localhost:8080/",
          "height": 34
        }
      },
      "cell_type": "code",
      "source": [
        "import os\n",
        "import glob\n",
        "import numpy as np\n",
        "import pandas as pd\n",
        "from IPython.display import display\n",
        "\n",
        "import tensorflow as tf\n",
        "from tensorflow import keras\n",
        "\n",
        "tf.__version__"
      ],
      "execution_count": 3,
      "outputs": [
        {
          "output_type": "execute_result",
          "data": {
            "text/plain": [
              "'1.12.0'"
            ]
          },
          "metadata": {
            "tags": []
          },
          "execution_count": 3
        }
      ]
    },
    {
      "metadata": {
        "id": "MpoVWvOdxUgf",
        "colab_type": "text"
      },
      "cell_type": "markdown",
      "source": [
        "## Set up data"
      ]
    },
    {
      "metadata": {
        "id": "65zkKSbQ3Jnc",
        "colab_type": "code",
        "colab": {}
      },
      "cell_type": "code",
      "source": [
        "(x_train, y_train), (x_test, y_test) = tf.keras.datasets.mnist.load_data()\n",
        "\n",
        "y_train = y_train[:1000]\n",
        "y_test = y_test[:1000]\n",
        "\n",
        "x_train = x_train[:1000].reshape(-1, 28 * 28) / 255.0\n",
        "x_test = x_test[:1000].reshape(-1, 28 * 28) / 255.0"
      ],
      "execution_count": 0,
      "outputs": []
    },
    {
      "metadata": {
        "id": "ciSTm1zha2ki",
        "colab_type": "text"
      },
      "cell_type": "markdown",
      "source": [
        "## Define model"
      ]
    },
    {
      "metadata": {
        "id": "k8pNftRxLT1i",
        "colab_type": "code",
        "colab": {}
      },
      "cell_type": "code",
      "source": [
        "# Returns a short sequential model\n",
        "def create_model():\n",
        "  model = tf.keras.models.Sequential([\n",
        "    keras.layers.Dense(512, activation=tf.keras.activations.relu, input_shape=(784,)),\n",
        "    keras.layers.Dropout(0.2),\n",
        "    keras.layers.Dense(10, activation=tf.keras.activations.softmax)\n",
        "  ])\n",
        "  \n",
        "  model.compile(optimizer='adam', \n",
        "                loss=tf.keras.losses.sparse_categorical_crossentropy,\n",
        "                metrics=['accuracy'])\n",
        "  return model"
      ],
      "execution_count": 0,
      "outputs": []
    },
    {
      "metadata": {
        "id": "QwFUcdCfa4Vs",
        "colab_type": "text"
      },
      "cell_type": "markdown",
      "source": [
        "## Fit model"
      ]
    },
    {
      "metadata": {
        "id": "jrXvLv4kjx-v",
        "colab_type": "code",
        "outputId": "fa53e50a-ce6a-4cfb-99fb-0319c058596f",
        "colab": {
          "base_uri": "https://localhost:8080/",
          "height": 1378
        }
      },
      "cell_type": "code",
      "source": [
        "### If resume_if_possible = True, fitting can resume using a model file. \n",
        "resume_if_possible = True \n",
        "\n",
        "### Set resume_if_possible = False to force fitting from scratch.\n",
        "#resume_if_possible = False \n",
        "\n",
        "epochs = 100\n",
        "log_file_path = 'training_log.csv'\n",
        "model_file_path = 'model_epoch{epoch:06d}.hdf5'\n",
        "\n",
        "model_file_list = glob.glob('model_epoch*.hdf5')\n",
        "log_file_list = glob.glob(log_file_path)\n",
        "\n",
        "if resume_if_possible:\n",
        "  resume_flag = (len(model_file_list) >= 1) \n",
        "  \n",
        "if not resume_if_possible:\n",
        "  resume_flag = False\n",
        "  for f in model_file_list:\n",
        "    os.remove(f)\n",
        "\n",
        "if resume_flag:\n",
        "  latest_model_file = model_file_list[-1]\n",
        "  latest_epoch = int(latest_model_file[len('model_epoch'):-len('.hdf5')])\n",
        "  ## Load the saved model\n",
        "  model = keras.models.load_model(latest_model_file)\n",
        "\n",
        "  score = model.evaluate(x_test,y_test, verbose=0)\n",
        "  print('Use {} to resume fitting. \\nTest loss: {}   Test accuracy: {}'.format(latest_model_file, score[0], score[1]))\n",
        "\n",
        "  if len(model_file_list) >= 2:\n",
        "    ## Delete all model files excpet the latest to save space\n",
        "    for f in model_file_list[:-1]:\n",
        "      os.remove(f)\n",
        "\n",
        "if not resume_flag:\n",
        "  latest_epoch = 0\n",
        "  ## Create a basic model instance\n",
        "  model = create_model()\n",
        "  for f in log_file_list:\n",
        "    os.remove(f)\n",
        "\n",
        "model.summary()\n",
        "\n",
        "## Create checkpoint callback\n",
        "check_point_ = tf.keras.callbacks.ModelCheckpoint(filepath = model_file_path, \n",
        "                                                 monitor = 'val_acc',\n",
        "                                                 verbose=1,\n",
        "                                                 save_best_only = True,\n",
        "                                                 mode='auto',\n",
        "                                                 save_weights_only=False,\n",
        "                                                 period = 1)\n",
        "\n",
        "## Create early stopping callback\n",
        "early_stopping_ = tf.keras.callbacks.EarlyStopping(monitor='val_acc', \n",
        "                                                   min_delta=0, \n",
        "                                                   patience=5, \n",
        "                                                   verbose=1, \n",
        "                                                   mode='auto', \n",
        "                                                   baseline=None)\n",
        "\n",
        "## Create CSV logger callback\n",
        "csv_logger_ = tf.keras.callbacks.CSVLogger(filename = log_file_path, separator=',',\n",
        "                                           append = resume_flag)\n",
        "\n",
        "## Fit \n",
        "model.fit(x_train, y_train, epochs = epochs, initial_epoch = latest_epoch,\n",
        "          validation_data = (x_test,y_test), shuffle = True,\n",
        "          callbacks = [check_point_, early_stopping_, csv_logger_])\n",
        "\n",
        "## Remove duplicates as save_best_only option of checkpoint is set to True.\n",
        "pd.options.display.max_rows = 8\n",
        "log_df = pd.read_csv(log_file_path)\n",
        "log_wo_dup_df = log_df.drop_duplicates(subset = ['epoch'], keep='last').reset_index(drop=True)\n",
        "log_wo_dup_df.to_csv((log_file_path[:-len('.csv')] + '_processed.csv'), index=False)"
      ],
      "execution_count": 6,
      "outputs": [
        {
          "output_type": "stream",
          "text": [
            "Use model_epoch000005.hdf5 to resume fitting. \n",
            "Test loss: 0.4207589154243469   Test accuracy: 0.869\n",
            "_________________________________________________________________\n",
            "Layer (type)                 Output Shape              Param #   \n",
            "=================================================================\n",
            "dense (Dense)                (None, 512)               401920    \n",
            "_________________________________________________________________\n",
            "dropout (Dropout)            (None, 512)               0         \n",
            "_________________________________________________________________\n",
            "dense_1 (Dense)              (None, 10)                5130      \n",
            "=================================================================\n",
            "Total params: 407,050\n",
            "Trainable params: 407,050\n",
            "Non-trainable params: 0\n",
            "_________________________________________________________________\n",
            "Train on 1000 samples, validate on 1000 samples\n",
            "Epoch 6/100\n",
            " 832/1000 [=======================>......] - ETA: 0s - loss: 0.1229 - acc: 0.9736\n",
            "Epoch 00006: val_acc improved from -inf to 0.85800, saving model to model_epoch000006.hdf5\n",
            "1000/1000 [==============================] - 0s 382us/step - loss: 0.1165 - acc: 0.9750 - val_loss: 0.4296 - val_acc: 0.8580\n",
            "Epoch 7/100\n",
            " 864/1000 [========================>.....] - ETA: 0s - loss: 0.0882 - acc: 0.9861\n",
            "Epoch 00007: val_acc improved from 0.85800 to 0.86600, saving model to model_epoch000007.hdf5\n",
            "1000/1000 [==============================] - 0s 239us/step - loss: 0.0909 - acc: 0.9860 - val_loss: 0.4156 - val_acc: 0.8660\n",
            "Epoch 8/100\n",
            " 832/1000 [=======================>......] - ETA: 0s - loss: 0.0650 - acc: 0.9976\n",
            "Epoch 00008: val_acc did not improve from 0.86600\n",
            "1000/1000 [==============================] - 0s 200us/step - loss: 0.0635 - acc: 0.9970 - val_loss: 0.4127 - val_acc: 0.8560\n",
            "Epoch 9/100\n",
            " 768/1000 [======================>.......] - ETA: 0s - loss: 0.0544 - acc: 0.9935\n",
            "Epoch 00009: val_acc did not improve from 0.86600\n",
            "1000/1000 [==============================] - 0s 207us/step - loss: 0.0549 - acc: 0.9930 - val_loss: 0.4374 - val_acc: 0.8620\n",
            "Epoch 10/100\n",
            " 864/1000 [========================>.....] - ETA: 0s - loss: 0.0456 - acc: 0.9942\n",
            "Epoch 00010: val_acc improved from 0.86600 to 0.87000, saving model to model_epoch000010.hdf5\n",
            "1000/1000 [==============================] - 0s 238us/step - loss: 0.0441 - acc: 0.9950 - val_loss: 0.4043 - val_acc: 0.8700\n",
            "Epoch 11/100\n",
            " 832/1000 [=======================>......] - ETA: 0s - loss: 0.0308 - acc: 1.0000\n",
            "Epoch 00011: val_acc did not improve from 0.87000\n",
            "1000/1000 [==============================] - 0s 204us/step - loss: 0.0313 - acc: 1.0000 - val_loss: 0.4212 - val_acc: 0.8560\n",
            "Epoch 12/100\n",
            " 864/1000 [========================>.....] - ETA: 0s - loss: 0.0250 - acc: 1.0000\n",
            "Epoch 00012: val_acc did not improve from 0.87000\n",
            "1000/1000 [==============================] - 0s 196us/step - loss: 0.0243 - acc: 1.0000 - val_loss: 0.4192 - val_acc: 0.8650\n",
            "Epoch 13/100\n",
            " 832/1000 [=======================>......] - ETA: 0s - loss: 0.0213 - acc: 1.0000\n",
            "Epoch 00013: val_acc did not improve from 0.87000\n",
            "1000/1000 [==============================] - 0s 197us/step - loss: 0.0220 - acc: 1.0000 - val_loss: 0.4087 - val_acc: 0.8680\n",
            "Epoch 14/100\n",
            " 736/1000 [=====================>........] - ETA: 0s - loss: 0.0180 - acc: 1.0000\n",
            "Epoch 00014: val_acc did not improve from 0.87000\n",
            "1000/1000 [==============================] - 0s 213us/step - loss: 0.0178 - acc: 1.0000 - val_loss: 0.4129 - val_acc: 0.8650\n",
            "Epoch 15/100\n",
            " 832/1000 [=======================>......] - ETA: 0s - loss: 0.0139 - acc: 1.0000\n",
            "Epoch 00015: val_acc improved from 0.87000 to 0.87400, saving model to model_epoch000015.hdf5\n",
            "1000/1000 [==============================] - 0s 239us/step - loss: 0.0143 - acc: 1.0000 - val_loss: 0.4136 - val_acc: 0.8740\n",
            "Epoch 16/100\n",
            " 832/1000 [=======================>......] - ETA: 0s - loss: 0.0145 - acc: 1.0000\n",
            "Epoch 00016: val_acc improved from 0.87400 to 0.87800, saving model to model_epoch000016.hdf5\n",
            "1000/1000 [==============================] - 0s 240us/step - loss: 0.0145 - acc: 1.0000 - val_loss: 0.4191 - val_acc: 0.8780\n",
            "Epoch 17/100\n",
            " 832/1000 [=======================>......] - ETA: 0s - loss: 0.0122 - acc: 1.0000\n",
            "Epoch 00017: val_acc did not improve from 0.87800\n",
            "1000/1000 [==============================] - 0s 199us/step - loss: 0.0123 - acc: 1.0000 - val_loss: 0.4424 - val_acc: 0.8670\n",
            "Epoch 18/100\n",
            " 832/1000 [=======================>......] - ETA: 0s - loss: 0.0097 - acc: 1.0000\n",
            "Epoch 00018: val_acc did not improve from 0.87800\n",
            "1000/1000 [==============================] - 0s 208us/step - loss: 0.0104 - acc: 1.0000 - val_loss: 0.4280 - val_acc: 0.8730\n",
            "Epoch 19/100\n",
            " 800/1000 [=======================>......] - ETA: 0s - loss: 0.0084 - acc: 1.0000\n",
            "Epoch 00019: val_acc did not improve from 0.87800\n",
            "1000/1000 [==============================] - 0s 198us/step - loss: 0.0085 - acc: 1.0000 - val_loss: 0.4309 - val_acc: 0.8710\n",
            "Epoch 20/100\n",
            " 832/1000 [=======================>......] - ETA: 0s - loss: 0.0086 - acc: 1.0000\n",
            "Epoch 00020: val_acc did not improve from 0.87800\n",
            "1000/1000 [==============================] - 0s 201us/step - loss: 0.0086 - acc: 1.0000 - val_loss: 0.4260 - val_acc: 0.8720\n",
            "Epoch 21/100\n",
            " 832/1000 [=======================>......] - ETA: 0s - loss: 0.0082 - acc: 1.0000\n",
            "Epoch 00021: val_acc did not improve from 0.87800\n",
            "1000/1000 [==============================] - 0s 196us/step - loss: 0.0083 - acc: 1.0000 - val_loss: 0.4351 - val_acc: 0.8710\n",
            "Epoch 00021: early stopping\n"
          ],
          "name": "stdout"
        }
      ]
    },
    {
      "metadata": {
        "id": "R4CIfQhOYmi8",
        "colab_type": "code",
        "colab": {
          "base_uri": "https://localhost:8080/",
          "height": 1047
        },
        "outputId": "7da73f00-4ec2-4551-99b9-b7e6240a1d29"
      },
      "cell_type": "code",
      "source": [
        "display(log_wo_dup_df)\n",
        "log_wo_dup_df[['epoch', 'acc', 'val_acc']].plot(x='epoch')\n",
        "log_wo_dup_df[['epoch', 'loss', 'val_loss']].plot(x='epoch')"
      ],
      "execution_count": 7,
      "outputs": [
        {
          "output_type": "display_data",
          "data": {
            "text/html": [
              "<div>\n",
              "<style scoped>\n",
              "    .dataframe tbody tr th:only-of-type {\n",
              "        vertical-align: middle;\n",
              "    }\n",
              "\n",
              "    .dataframe tbody tr th {\n",
              "        vertical-align: top;\n",
              "    }\n",
              "\n",
              "    .dataframe thead th {\n",
              "        text-align: right;\n",
              "    }\n",
              "</style>\n",
              "<table border=\"1\" class=\"dataframe\">\n",
              "  <thead>\n",
              "    <tr style=\"text-align: right;\">\n",
              "      <th></th>\n",
              "      <th>epoch</th>\n",
              "      <th>acc</th>\n",
              "      <th>loss</th>\n",
              "      <th>val_acc</th>\n",
              "      <th>val_loss</th>\n",
              "    </tr>\n",
              "  </thead>\n",
              "  <tbody>\n",
              "    <tr>\n",
              "      <th>0</th>\n",
              "      <td>0</td>\n",
              "      <td>0.650</td>\n",
              "      <td>1.226354</td>\n",
              "      <td>0.787</td>\n",
              "      <td>0.723651</td>\n",
              "    </tr>\n",
              "    <tr>\n",
              "      <th>1</th>\n",
              "      <td>1</td>\n",
              "      <td>0.870</td>\n",
              "      <td>0.446057</td>\n",
              "      <td>0.839</td>\n",
              "      <td>0.529928</td>\n",
              "    </tr>\n",
              "    <tr>\n",
              "      <th>2</th>\n",
              "      <td>2</td>\n",
              "      <td>0.930</td>\n",
              "      <td>0.285979</td>\n",
              "      <td>0.861</td>\n",
              "      <td>0.446682</td>\n",
              "    </tr>\n",
              "    <tr>\n",
              "      <th>3</th>\n",
              "      <td>3</td>\n",
              "      <td>0.949</td>\n",
              "      <td>0.196675</td>\n",
              "      <td>0.856</td>\n",
              "      <td>0.432636</td>\n",
              "    </tr>\n",
              "    <tr>\n",
              "      <th>...</th>\n",
              "      <td>...</td>\n",
              "      <td>...</td>\n",
              "      <td>...</td>\n",
              "      <td>...</td>\n",
              "      <td>...</td>\n",
              "    </tr>\n",
              "    <tr>\n",
              "      <th>17</th>\n",
              "      <td>17</td>\n",
              "      <td>1.000</td>\n",
              "      <td>0.010377</td>\n",
              "      <td>0.873</td>\n",
              "      <td>0.427959</td>\n",
              "    </tr>\n",
              "    <tr>\n",
              "      <th>18</th>\n",
              "      <td>18</td>\n",
              "      <td>1.000</td>\n",
              "      <td>0.008500</td>\n",
              "      <td>0.871</td>\n",
              "      <td>0.430861</td>\n",
              "    </tr>\n",
              "    <tr>\n",
              "      <th>19</th>\n",
              "      <td>19</td>\n",
              "      <td>1.000</td>\n",
              "      <td>0.008571</td>\n",
              "      <td>0.872</td>\n",
              "      <td>0.426044</td>\n",
              "    </tr>\n",
              "    <tr>\n",
              "      <th>20</th>\n",
              "      <td>20</td>\n",
              "      <td>1.000</td>\n",
              "      <td>0.008295</td>\n",
              "      <td>0.871</td>\n",
              "      <td>0.435119</td>\n",
              "    </tr>\n",
              "  </tbody>\n",
              "</table>\n",
              "<p>21 rows × 5 columns</p>\n",
              "</div>"
            ],
            "text/plain": [
              "    epoch    acc      loss  val_acc  val_loss\n",
              "0       0  0.650  1.226354    0.787  0.723651\n",
              "1       1  0.870  0.446057    0.839  0.529928\n",
              "2       2  0.930  0.285979    0.861  0.446682\n",
              "3       3  0.949  0.196675    0.856  0.432636\n",
              "..    ...    ...       ...      ...       ...\n",
              "17     17  1.000  0.010377    0.873  0.427959\n",
              "18     18  1.000  0.008500    0.871  0.430861\n",
              "19     19  1.000  0.008571    0.872  0.426044\n",
              "20     20  1.000  0.008295    0.871  0.435119\n",
              "\n",
              "[21 rows x 5 columns]"
            ]
          },
          "metadata": {
            "tags": []
          }
        },
        {
          "output_type": "execute_result",
          "data": {
            "text/plain": [
              "<matplotlib.axes._subplots.AxesSubplot at 0x7fb6373cec88>"
            ]
          },
          "metadata": {
            "tags": []
          },
          "execution_count": 7
        },
        {
          "output_type": "display_data",
          "data": {
            "image/png": "[encoded data removed]",
            "text/plain": [
              "<Figure size 576x396 with 1 Axes>"
            ]
          },
          "metadata": {
            "tags": []
          }
        },
        {
          "output_type": "display_data",
          "data": {
            "image/png": "[encoded data removed]",
            "text/plain": [
              "<Figure size 576x396 with 1 Axes>"
            ]
          },
          "metadata": {
            "tags": []
          }
        }
      ]
    },
    {
      "metadata": {
        "id": "K8zre0uERDU2",
        "colab_type": "text"
      },
      "cell_type": "markdown",
      "source": [
        "References:\n",
        "\n",
        "\n",
        "https://keras.io/callbacks/\n",
        "\n",
        "https://www.tensorflow.org/api_docs/python/tf/keras/callbacks/ModelCheckpoint"
      ]
    },
    {
      "metadata": {
        "id": "Hi_bGHxFX_Qs",
        "colab_type": "code",
        "colab": {}
      },
      "cell_type": "code",
      "source": [
        ""
      ],
      "execution_count": 0,
      "outputs": []
    }
  ]
}