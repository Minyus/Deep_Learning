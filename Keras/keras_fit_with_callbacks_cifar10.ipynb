{
  "nbformat": 4,
  "nbformat_minor": 0,
  "metadata": {
    "colab": {
      "name": "keras_fit_with_callbacks_cifar10.ipynb",
      "version": "0.3.2",
      "provenance": [],
      "collapsed_sections": []
    },
    "kernelspec": {
      "name": "python3",
      "display_name": "Python 3"
    },
    "accelerator": "GPU"
  },
  "cells": [
    {
      "metadata": {
        "id": "vRgMOgH-ajJW",
        "colab_type": "text"
      },
      "cell_type": "markdown",
      "source": [
        "## Set up Google Colab environment"
      ]
    },
    {
      "metadata": {
        "id": "7F29nuHfiiUA",
        "colab_type": "code",
        "outputId": "5040512a-4e6d-4b94-bac9-9f16522bfaa0",
        "colab": {
          "base_uri": "https://localhost:8080/",
          "height": 34
        }
      },
      "cell_type": "code",
      "source": [
        "### Set colaboratory True to run in Google Colaboratory. \n",
        "colab = True\n",
        "\n",
        "if colab:\n",
        "  from google.colab import drive\n",
        "  drive.mount('/content/drive')\n",
        "  import os\n",
        "  ## Specify a directory in Google Drive\n",
        "  dir = '/content/drive/My Drive/Colab Notebooks/Keras_CIFAR10'\n",
        "  os.chdir(dir)\n",
        "  #os.getcwd()\n",
        "  #os.listdir()"
      ],
      "execution_count": 1,
      "outputs": [
        {
          "output_type": "stream",
          "text": [
            "Drive already mounted at /content/drive; to attempt to forcibly remount, call drive.mount(\"/content/drive\", force_remount=True).\n"
          ],
          "name": "stdout"
        }
      ]
    },
    {
      "metadata": {
        "id": "As19XFC8jE-g",
        "colab_type": "code",
        "outputId": "ce68fe9f-71fa-4a15-9aca-03dc110aa19a",
        "colab": {
          "base_uri": "https://localhost:8080/",
          "height": 336
        }
      },
      "cell_type": "code",
      "source": [
        "if colab:\n",
        "  ## Check the uptime. (Google Colab reboots every 12 hours)\n",
        "  !cat /proc/uptime | awk '{print \"Uptime is \" $1 /60 /60 \" hours (\" $1 \" sec)\"}'\n",
        "  ## Check the GPU info\n",
        "  !nvidia-smi\n",
        "  ## Check the Python version\n",
        "  !python --version"
      ],
      "execution_count": 2,
      "outputs": [
        {
          "output_type": "stream",
          "text": [
            "Uptime is 1.43776 hours (5175.93 sec)\n",
            "Fri Jan 25 14:43:35 2019       \n",
            "+-----------------------------------------------------------------------------+\n",
            "| NVIDIA-SMI 396.44                 Driver Version: 396.44                    |\n",
            "|-------------------------------+----------------------+----------------------+\n",
            "| GPU  Name        Persistence-M| Bus-Id        Disp.A | Volatile Uncorr. ECC |\n",
            "| Fan  Temp  Perf  Pwr:Usage/Cap|         Memory-Usage | GPU-Util  Compute M. |\n",
            "|===============================+======================+======================|\n",
            "|   0  Tesla K80           Off  | 00000000:00:04.0 Off |                    0 |\n",
            "| N/A   29C    P8    27W / 149W |      0MiB / 11441MiB |      0%      Default |\n",
            "+-------------------------------+----------------------+----------------------+\n",
            "                                                                               \n",
            "+-----------------------------------------------------------------------------+\n",
            "| Processes:                                                       GPU Memory |\n",
            "|  GPU       PID   Type   Process name                             Usage      |\n",
            "|=============================================================================|\n",
            "|  No running processes found                                                 |\n",
            "+-----------------------------------------------------------------------------+\n",
            "Python 3.6.7\n"
          ],
          "name": "stdout"
        }
      ]
    },
    {
      "metadata": {
        "id": "KN-GFrsvarFB",
        "colab_type": "text"
      },
      "cell_type": "markdown",
      "source": [
        "## Import modules"
      ]
    },
    {
      "metadata": {
        "id": "HZ219oTUjJXf",
        "colab_type": "code",
        "outputId": "6351907b-84b9-429b-a8e5-f43446cd0557",
        "colab": {
          "base_uri": "https://localhost:8080/",
          "height": 34
        }
      },
      "cell_type": "code",
      "source": [
        "import os\n",
        "import glob\n",
        "import numpy as np\n",
        "import pandas as pd\n",
        "from IPython.display import display\n",
        "\n",
        "import tensorflow as tf\n",
        "from tensorflow import keras\n",
        "\n",
        "tf.__version__"
      ],
      "execution_count": 3,
      "outputs": [
        {
          "output_type": "execute_result",
          "data": {
            "text/plain": [
              "'1.12.0'"
            ]
          },
          "metadata": {
            "tags": []
          },
          "execution_count": 3
        }
      ]
    },
    {
      "metadata": {
        "id": "t6bn6IwDfK8b",
        "colab_type": "code",
        "outputId": "37af35e1-a30a-4b8d-85bf-5ea9f1dc6e09",
        "colab": {
          "base_uri": "https://localhost:8080/",
          "height": 34
        }
      },
      "cell_type": "code",
      "source": [
        "import keras\n",
        "from keras.models import Sequential\n",
        "from keras.layers import Dense, Dropout, Activation, Flatten\n",
        "from keras.layers import Conv2D, MaxPooling2D"
      ],
      "execution_count": 4,
      "outputs": [
        {
          "output_type": "stream",
          "text": [
            "Using TensorFlow backend.\n"
          ],
          "name": "stderr"
        }
      ]
    },
    {
      "metadata": {
        "id": "MpoVWvOdxUgf",
        "colab_type": "text"
      },
      "cell_type": "markdown",
      "source": [
        "## Set up data"
      ]
    },
    {
      "metadata": {
        "id": "Y3mzIuRfevKm",
        "colab_type": "code",
        "colab": {}
      },
      "cell_type": "code",
      "source": [
        "(x_train, y_train), (x_test, y_test) = tf.keras.datasets.cifar10.load_data()"
      ],
      "execution_count": 0,
      "outputs": []
    },
    {
      "metadata": {
        "id": "feKRA_oSffMa",
        "colab_type": "code",
        "colab": {}
      },
      "cell_type": "code",
      "source": [
        "num_classes = 10\n",
        "# Convert class vectors to binary class matrices.\n",
        "y_train = keras.utils.to_categorical(y_train, num_classes)\n",
        "y_test = keras.utils.to_categorical(y_test, num_classes)\n",
        "\n",
        "\n"
      ],
      "execution_count": 0,
      "outputs": []
    },
    {
      "metadata": {
        "id": "-_Hx-CTbgthc",
        "colab_type": "code",
        "colab": {}
      },
      "cell_type": "code",
      "source": [
        "x_train = x_train.astype('float32')\n",
        "x_test = x_test.astype('float32')\n",
        "x_train /= 255\n",
        "x_test /= 255"
      ],
      "execution_count": 0,
      "outputs": []
    },
    {
      "metadata": {
        "id": "q95svqIyiguC",
        "colab_type": "code",
        "colab": {}
      },
      "cell_type": "code",
      "source": [
        "input_shape = x_train.shape[1:]"
      ],
      "execution_count": 0,
      "outputs": []
    },
    {
      "metadata": {
        "id": "ciSTm1zha2ki",
        "colab_type": "text"
      },
      "cell_type": "markdown",
      "source": [
        "## Define model"
      ]
    },
    {
      "metadata": {
        "id": "k8pNftRxLT1i",
        "colab_type": "code",
        "colab": {}
      },
      "cell_type": "code",
      "source": [
        "# Returns a short sequential model\n",
        "def create_model(input_shape):\n",
        "  model = Sequential()\n",
        "  model.add(Conv2D(32, (3, 3), padding='same',\n",
        "                   input_shape=input_shape))\n",
        "  model.add(Activation('relu'))\n",
        "  model.add(Conv2D(32, (3, 3)))\n",
        "  model.add(Activation('relu'))\n",
        "  model.add(MaxPooling2D(pool_size=(2, 2)))\n",
        "  model.add(Dropout(0.25))\n",
        "\n",
        "  model.add(Conv2D(64, (3, 3), padding='same'))\n",
        "  model.add(Activation('relu'))\n",
        "  model.add(Conv2D(64, (3, 3)))\n",
        "  model.add(Activation('relu'))\n",
        "  model.add(MaxPooling2D(pool_size=(2, 2)))\n",
        "  model.add(Dropout(0.25))\n",
        "\n",
        "  model.add(Flatten())\n",
        "  model.add(Dense(512))\n",
        "  model.add(Activation('relu'))\n",
        "  model.add(Dropout(0.5))\n",
        "  model.add(Dense(num_classes))\n",
        "  model.add(Activation('softmax'))\n",
        "  \n",
        "  # initiate RMSprop optimizer\n",
        "  opt = keras.optimizers.rmsprop(lr=0.0001, decay=1e-6)\n",
        "\n",
        "  # Let's train the model using RMSprop\n",
        "  model.compile(loss='categorical_crossentropy',\n",
        "                optimizer=opt,\n",
        "                metrics=['accuracy'])\n",
        "  return model"
      ],
      "execution_count": 0,
      "outputs": []
    },
    {
      "metadata": {
        "id": "QwFUcdCfa4Vs",
        "colab_type": "text"
      },
      "cell_type": "markdown",
      "source": [
        "## Fit model"
      ]
    },
    {
      "metadata": {
        "id": "jrXvLv4kjx-v",
        "colab_type": "code",
        "outputId": "b7f6a28a-a6bb-4383-c6a3-7f8fe7286e36",
        "colab": {
          "base_uri": "https://localhost:8080/",
          "height": 3528
        }
      },
      "cell_type": "code",
      "source": [
        "### If resume_if_possible = True, fitting can resume using a model file. \n",
        "resume_if_possible = True \n",
        "\n",
        "### Set resume_if_possible = False to force fitting from scratch.\n",
        "#resume_if_possible = False \n",
        "\n",
        "epochs = 100\n",
        "log_file_path = 'training_log.csv'\n",
        "model_file_path = 'model_epoch{epoch:06d}.hdf5'\n",
        "\n",
        "model_file_list = glob.glob('model_epoch*.hdf5')\n",
        "log_file_list = glob.glob(log_file_path)\n",
        "\n",
        "if resume_if_possible:\n",
        "  resume_flag = (len(model_file_list) >= 1) \n",
        "  \n",
        "if not resume_if_possible:\n",
        "  resume_flag = False\n",
        "  for f in model_file_list:\n",
        "    os.remove(f)\n",
        "\n",
        "if resume_flag:\n",
        "  latest_model_file = model_file_list[-1]\n",
        "  latest_epoch = int(latest_model_file[len('model_epoch'):-len('.hdf5')])\n",
        "  ## Load the saved model\n",
        "  model = keras.models.load_model(latest_model_file)\n",
        "\n",
        "  score = model.evaluate(x_test,y_test, verbose=0)\n",
        "  print('Use {} to resume fitting. \\nTest loss: {}   Test accuracy: {}'.format(latest_model_file, score[0], score[1]))\n",
        "\n",
        "  if len(model_file_list) >= 2:\n",
        "    ## Delete all model files excpet the latest to save space\n",
        "    for f in model_file_list[:-1]:\n",
        "      os.remove(f)\n",
        "\n",
        "if not resume_flag:\n",
        "  latest_epoch = 0\n",
        "  ## Create a basic model instance\n",
        "  model = create_model(input_shape)\n",
        "  for f in log_file_list:\n",
        "    os.remove(f)\n",
        "\n",
        "model.summary()\n",
        "\n",
        "## Create checkpoint callback\n",
        "check_point_ = tf.keras.callbacks.ModelCheckpoint(filepath = model_file_path, \n",
        "                                                 monitor = 'val_acc',\n",
        "                                                 verbose=1,\n",
        "                                                 save_best_only = True,\n",
        "                                                 mode='auto',\n",
        "                                                 save_weights_only=False,\n",
        "                                                 period = 1)\n",
        "\n",
        "## Create early stopping callback\n",
        "early_stopping_ = tf.keras.callbacks.EarlyStopping(monitor='val_acc', \n",
        "                                                   min_delta=0, \n",
        "                                                   patience=5, \n",
        "                                                   verbose=1, \n",
        "                                                   mode='auto', \n",
        "                                                   baseline=None)\n",
        "\n",
        "## Create CSV logger callback\n",
        "csv_logger_ = tf.keras.callbacks.CSVLogger(filename = log_file_path, separator=',',\n",
        "                                           append = resume_flag)\n",
        "\n",
        "## Fit \n",
        "model.fit(x_train, y_train, epochs = epochs, initial_epoch = latest_epoch,\n",
        "          validation_data = (x_test,y_test), shuffle = True,\n",
        "          callbacks = [check_point_, early_stopping_, csv_logger_])\n",
        "\n",
        "## Remove duplicates as save_best_only option of checkpoint is set to True.\n",
        "pd.options.display.max_rows = 8\n",
        "log_df = pd.read_csv(log_file_path)\n",
        "log_wo_dup_df = log_df.drop_duplicates(subset = ['epoch'], keep='last').reset_index(drop=True)\n",
        "log_wo_dup_df.to_csv((log_file_path[:-len('.csv')] + '_processed.csv'), index=False)\n"
      ],
      "execution_count": 10,
      "outputs": [
        {
          "output_type": "stream",
          "text": [
            "_________________________________________________________________\n",
            "Layer (type)                 Output Shape              Param #   \n",
            "=================================================================\n",
            "conv2d_1 (Conv2D)            (None, 32, 32, 32)        896       \n",
            "_________________________________________________________________\n",
            "activation_1 (Activation)    (None, 32, 32, 32)        0         \n",
            "_________________________________________________________________\n",
            "conv2d_2 (Conv2D)            (None, 30, 30, 32)        9248      \n",
            "_________________________________________________________________\n",
            "activation_2 (Activation)    (None, 30, 30, 32)        0         \n",
            "_________________________________________________________________\n",
            "max_pooling2d_1 (MaxPooling2 (None, 15, 15, 32)        0         \n",
            "_________________________________________________________________\n",
            "dropout_1 (Dropout)          (None, 15, 15, 32)        0         \n",
            "_________________________________________________________________\n",
            "conv2d_3 (Conv2D)            (None, 15, 15, 64)        18496     \n",
            "_________________________________________________________________\n",
            "activation_3 (Activation)    (None, 15, 15, 64)        0         \n",
            "_________________________________________________________________\n",
            "conv2d_4 (Conv2D)            (None, 13, 13, 64)        36928     \n",
            "_________________________________________________________________\n",
            "activation_4 (Activation)    (None, 13, 13, 64)        0         \n",
            "_________________________________________________________________\n",
            "max_pooling2d_2 (MaxPooling2 (None, 6, 6, 64)          0         \n",
            "_________________________________________________________________\n",
            "dropout_2 (Dropout)          (None, 6, 6, 64)          0         \n",
            "_________________________________________________________________\n",
            "flatten_1 (Flatten)          (None, 2304)              0         \n",
            "_________________________________________________________________\n",
            "dense_1 (Dense)              (None, 512)               1180160   \n",
            "_________________________________________________________________\n",
            "activation_5 (Activation)    (None, 512)               0         \n",
            "_________________________________________________________________\n",
            "dropout_3 (Dropout)          (None, 512)               0         \n",
            "_________________________________________________________________\n",
            "dense_2 (Dense)              (None, 10)                5130      \n",
            "_________________________________________________________________\n",
            "activation_6 (Activation)    (None, 10)                0         \n",
            "=================================================================\n",
            "Total params: 1,250,858\n",
            "Trainable params: 1,250,858\n",
            "Non-trainable params: 0\n",
            "_________________________________________________________________\n",
            "Train on 50000 samples, validate on 10000 samples\n",
            "Epoch 1/100\n",
            "50000/50000 [==============================] - 21s 429us/step - loss: 1.8021 - acc: 0.3395 - val_loss: 1.5483 - val_acc: 0.4400\n",
            "\n",
            "Epoch 00001: val_acc improved from -inf to 0.44000, saving model to model_epoch000001.hdf5\n",
            "Epoch 2/100\n",
            "50000/50000 [==============================] - 19s 389us/step - loss: 1.4737 - acc: 0.4640 - val_loss: 1.3454 - val_acc: 0.5149\n",
            "\n",
            "Epoch 00002: val_acc improved from 0.44000 to 0.51490, saving model to model_epoch000002.hdf5\n",
            "Epoch 3/100\n",
            "50000/50000 [==============================] - 19s 389us/step - loss: 1.3390 - acc: 0.5199 - val_loss: 1.2367 - val_acc: 0.5606\n",
            "\n",
            "Epoch 00003: val_acc improved from 0.51490 to 0.56060, saving model to model_epoch000003.hdf5\n",
            "Epoch 4/100\n",
            "50000/50000 [==============================] - 19s 388us/step - loss: 1.2469 - acc: 0.5586 - val_loss: 1.1842 - val_acc: 0.5798\n",
            "\n",
            "Epoch 00004: val_acc improved from 0.56060 to 0.57980, saving model to model_epoch000004.hdf5\n",
            "Epoch 5/100\n",
            "50000/50000 [==============================] - 19s 388us/step - loss: 1.1707 - acc: 0.5856 - val_loss: 1.0574 - val_acc: 0.6283\n",
            "\n",
            "Epoch 00005: val_acc improved from 0.57980 to 0.62830, saving model to model_epoch000005.hdf5\n",
            "Epoch 6/100\n",
            "50000/50000 [==============================] - 20s 390us/step - loss: 1.1049 - acc: 0.6120 - val_loss: 1.0418 - val_acc: 0.6299\n",
            "\n",
            "Epoch 00006: val_acc improved from 0.62830 to 0.62990, saving model to model_epoch000006.hdf5\n",
            "Epoch 7/100\n",
            "50000/50000 [==============================] - 19s 388us/step - loss: 1.0454 - acc: 0.6351 - val_loss: 0.9495 - val_acc: 0.6672\n",
            "\n",
            "Epoch 00007: val_acc improved from 0.62990 to 0.66720, saving model to model_epoch000007.hdf5\n",
            "Epoch 8/100\n",
            "50000/50000 [==============================] - 19s 389us/step - loss: 0.9984 - acc: 0.6515 - val_loss: 0.9396 - val_acc: 0.6709\n",
            "\n",
            "Epoch 00008: val_acc improved from 0.66720 to 0.67090, saving model to model_epoch000008.hdf5\n",
            "Epoch 9/100\n",
            "50000/50000 [==============================] - 20s 390us/step - loss: 0.9537 - acc: 0.6673 - val_loss: 0.8994 - val_acc: 0.6877\n",
            "\n",
            "Epoch 00009: val_acc improved from 0.67090 to 0.68770, saving model to model_epoch000009.hdf5\n",
            "Epoch 10/100\n",
            "50000/50000 [==============================] - 19s 389us/step - loss: 0.9194 - acc: 0.6800 - val_loss: 0.8938 - val_acc: 0.6913\n",
            "\n",
            "Epoch 00010: val_acc improved from 0.68770 to 0.69130, saving model to model_epoch000010.hdf5\n",
            "Epoch 11/100\n",
            "50000/50000 [==============================] - 19s 388us/step - loss: 0.8895 - acc: 0.6906 - val_loss: 0.8215 - val_acc: 0.7167\n",
            "\n",
            "Epoch 00011: val_acc improved from 0.69130 to 0.71670, saving model to model_epoch000011.hdf5\n",
            "Epoch 12/100\n",
            "50000/50000 [==============================] - 19s 388us/step - loss: 0.8646 - acc: 0.6984 - val_loss: 0.8300 - val_acc: 0.7131\n",
            "\n",
            "Epoch 00012: val_acc did not improve from 0.71670\n",
            "Epoch 13/100\n",
            "50000/50000 [==============================] - 19s 386us/step - loss: 0.8409 - acc: 0.7073 - val_loss: 0.7973 - val_acc: 0.7233\n",
            "\n",
            "Epoch 00013: val_acc improved from 0.71670 to 0.72330, saving model to model_epoch000013.hdf5\n",
            "Epoch 14/100\n",
            "50000/50000 [==============================] - 19s 388us/step - loss: 0.8182 - acc: 0.7167 - val_loss: 0.7838 - val_acc: 0.7294\n",
            "\n",
            "Epoch 00014: val_acc improved from 0.72330 to 0.72940, saving model to model_epoch000014.hdf5\n",
            "Epoch 15/100\n",
            "50000/50000 [==============================] - 19s 389us/step - loss: 0.7998 - acc: 0.7226 - val_loss: 0.7638 - val_acc: 0.7348\n",
            "\n",
            "Epoch 00015: val_acc improved from 0.72940 to 0.73480, saving model to model_epoch000015.hdf5\n",
            "Epoch 16/100\n",
            "50000/50000 [==============================] - 19s 388us/step - loss: 0.7808 - acc: 0.7310 - val_loss: 0.7564 - val_acc: 0.7426\n",
            "\n",
            "Epoch 00016: val_acc improved from 0.73480 to 0.74260, saving model to model_epoch000016.hdf5\n",
            "Epoch 17/100\n",
            "50000/50000 [==============================] - 19s 389us/step - loss: 0.7690 - acc: 0.7341 - val_loss: 0.7432 - val_acc: 0.7467\n",
            "\n",
            "Epoch 00017: val_acc improved from 0.74260 to 0.74670, saving model to model_epoch000017.hdf5\n",
            "Epoch 18/100\n",
            "50000/50000 [==============================] - 19s 389us/step - loss: 0.7546 - acc: 0.7421 - val_loss: 0.7390 - val_acc: 0.7485\n",
            "\n",
            "Epoch 00018: val_acc improved from 0.74670 to 0.74850, saving model to model_epoch000018.hdf5\n",
            "Epoch 19/100\n",
            "50000/50000 [==============================] - 19s 388us/step - loss: 0.7455 - acc: 0.7451 - val_loss: 0.7285 - val_acc: 0.7528\n",
            "\n",
            "Epoch 00019: val_acc improved from 0.74850 to 0.75280, saving model to model_epoch000019.hdf5\n",
            "Epoch 20/100\n",
            "50000/50000 [==============================] - 19s 389us/step - loss: 0.7370 - acc: 0.7475 - val_loss: 0.7454 - val_acc: 0.7457\n",
            "\n",
            "Epoch 00020: val_acc did not improve from 0.75280\n",
            "Epoch 21/100\n",
            "50000/50000 [==============================] - 19s 388us/step - loss: 0.7250 - acc: 0.7525 - val_loss: 0.7332 - val_acc: 0.7513\n",
            "\n",
            "Epoch 00021: val_acc did not improve from 0.75280\n",
            "Epoch 22/100\n",
            "50000/50000 [==============================] - 19s 387us/step - loss: 0.7175 - acc: 0.7554 - val_loss: 0.7640 - val_acc: 0.7443\n",
            "\n",
            "Epoch 00022: val_acc did not improve from 0.75280\n",
            "Epoch 23/100\n",
            "50000/50000 [==============================] - 19s 386us/step - loss: 0.7093 - acc: 0.7588 - val_loss: 0.7686 - val_acc: 0.7350\n",
            "\n",
            "Epoch 00023: val_acc did not improve from 0.75280\n",
            "Epoch 24/100\n",
            "50000/50000 [==============================] - 19s 387us/step - loss: 0.7077 - acc: 0.7587 - val_loss: 0.7052 - val_acc: 0.7593\n",
            "\n",
            "Epoch 00024: val_acc improved from 0.75280 to 0.75930, saving model to model_epoch000024.hdf5\n",
            "Epoch 25/100\n",
            "50000/50000 [==============================] - 19s 389us/step - loss: 0.6975 - acc: 0.7623 - val_loss: 0.7308 - val_acc: 0.7572\n",
            "\n",
            "Epoch 00025: val_acc did not improve from 0.75930\n",
            "Epoch 26/100\n",
            "50000/50000 [==============================] - 19s 388us/step - loss: 0.6945 - acc: 0.7638 - val_loss: 0.6773 - val_acc: 0.7655\n",
            "\n",
            "Epoch 00026: val_acc improved from 0.75930 to 0.76550, saving model to model_epoch000026.hdf5\n",
            "Epoch 27/100\n",
            "50000/50000 [==============================] - 19s 389us/step - loss: 0.6866 - acc: 0.7657 - val_loss: 0.6851 - val_acc: 0.7667\n",
            "\n",
            "Epoch 00027: val_acc improved from 0.76550 to 0.76670, saving model to model_epoch000027.hdf5\n",
            "Epoch 28/100\n",
            "50000/50000 [==============================] - 19s 387us/step - loss: 0.6820 - acc: 0.7686 - val_loss: 0.7088 - val_acc: 0.7657\n",
            "\n",
            "Epoch 00028: val_acc did not improve from 0.76670\n",
            "Epoch 29/100\n",
            "50000/50000 [==============================] - 19s 387us/step - loss: 0.6846 - acc: 0.7695 - val_loss: 0.6905 - val_acc: 0.7647\n",
            "\n",
            "Epoch 00029: val_acc did not improve from 0.76670\n",
            "Epoch 30/100\n",
            "50000/50000 [==============================] - 19s 389us/step - loss: 0.6787 - acc: 0.7701 - val_loss: 0.6591 - val_acc: 0.7719\n",
            "\n",
            "Epoch 00030: val_acc improved from 0.76670 to 0.77190, saving model to model_epoch000030.hdf5\n",
            "Epoch 31/100\n",
            "50000/50000 [==============================] - 19s 389us/step - loss: 0.6749 - acc: 0.7724 - val_loss: 0.6905 - val_acc: 0.7656\n",
            "\n",
            "Epoch 00031: val_acc did not improve from 0.77190\n",
            "Epoch 32/100\n",
            "50000/50000 [==============================] - 19s 388us/step - loss: 0.6685 - acc: 0.7745 - val_loss: 0.6622 - val_acc: 0.7755\n",
            "\n",
            "Epoch 00032: val_acc improved from 0.77190 to 0.77550, saving model to model_epoch000032.hdf5\n",
            "Epoch 33/100\n",
            "50000/50000 [==============================] - 19s 389us/step - loss: 0.6677 - acc: 0.7747 - val_loss: 0.6554 - val_acc: 0.7812\n",
            "\n",
            "Epoch 00033: val_acc improved from 0.77550 to 0.78120, saving model to model_epoch000033.hdf5\n",
            "Epoch 34/100\n",
            "50000/50000 [==============================] - 19s 389us/step - loss: 0.6619 - acc: 0.7757 - val_loss: 0.6567 - val_acc: 0.7750\n",
            "\n",
            "Epoch 00034: val_acc did not improve from 0.78120\n",
            "Epoch 35/100\n",
            "50000/50000 [==============================] - 19s 388us/step - loss: 0.6565 - acc: 0.7784 - val_loss: 0.6767 - val_acc: 0.7709\n",
            "\n",
            "Epoch 00035: val_acc did not improve from 0.78120\n",
            "Epoch 36/100\n",
            "50000/50000 [==============================] - 19s 387us/step - loss: 0.6541 - acc: 0.7805 - val_loss: 0.6656 - val_acc: 0.7818\n",
            "\n",
            "Epoch 00036: val_acc improved from 0.78120 to 0.78180, saving model to model_epoch000036.hdf5\n",
            "Epoch 37/100\n",
            "50000/50000 [==============================] - 19s 389us/step - loss: 0.6519 - acc: 0.7816 - val_loss: 0.6610 - val_acc: 0.7794\n",
            "\n",
            "Epoch 00037: val_acc did not improve from 0.78180\n",
            "Epoch 38/100\n",
            "50000/50000 [==============================] - 19s 388us/step - loss: 0.6468 - acc: 0.7817 - val_loss: 0.6536 - val_acc: 0.7798\n",
            "\n",
            "Epoch 00038: val_acc did not improve from 0.78180\n",
            "Epoch 39/100\n",
            "50000/50000 [==============================] - 20s 390us/step - loss: 0.6483 - acc: 0.7827 - val_loss: 0.6653 - val_acc: 0.7738\n",
            "\n",
            "Epoch 00039: val_acc did not improve from 0.78180\n",
            "Epoch 40/100\n",
            "50000/50000 [==============================] - 20s 390us/step - loss: 0.6434 - acc: 0.7844 - val_loss: 0.6501 - val_acc: 0.7810\n",
            "\n",
            "Epoch 00040: val_acc did not improve from 0.78180\n",
            "Epoch 41/100\n",
            "50000/50000 [==============================] - 19s 387us/step - loss: 0.6394 - acc: 0.7861 - val_loss: 0.6542 - val_acc: 0.7804\n",
            "\n",
            "Epoch 00041: val_acc did not improve from 0.78180\n",
            "Epoch 00041: early stopping\n"
          ],
          "name": "stdout"
        }
      ]
    },
    {
      "metadata": {
        "id": "zxUwoI89bCNT",
        "colab_type": "code",
        "colab": {
          "base_uri": "https://localhost:8080/",
          "height": 1047
        },
        "outputId": "beed49ce-5dad-4a7c-ea28-a9c0c9a70b7c"
      },
      "cell_type": "code",
      "source": [
        "display(log_wo_dup_df)\n",
        "log_wo_dup_df[['epoch', 'acc', 'val_acc']].plot(x='epoch')\n",
        "log_wo_dup_df[['epoch', 'loss', 'val_loss']].plot(x='epoch')"
      ],
      "execution_count": 11,
      "outputs": [
        {
          "output_type": "display_data",
          "data": {
            "text/html": [
              "<div>\n",
              "<style scoped>\n",
              "    .dataframe tbody tr th:only-of-type {\n",
              "        vertical-align: middle;\n",
              "    }\n",
              "\n",
              "    .dataframe tbody tr th {\n",
              "        vertical-align: top;\n",
              "    }\n",
              "\n",
              "    .dataframe thead th {\n",
              "        text-align: right;\n",
              "    }\n",
              "</style>\n",
              "<table border=\"1\" class=\"dataframe\">\n",
              "  <thead>\n",
              "    <tr style=\"text-align: right;\">\n",
              "      <th></th>\n",
              "      <th>epoch</th>\n",
              "      <th>acc</th>\n",
              "      <th>loss</th>\n",
              "      <th>val_acc</th>\n",
              "      <th>val_loss</th>\n",
              "    </tr>\n",
              "  </thead>\n",
              "  <tbody>\n",
              "    <tr>\n",
              "      <th>0</th>\n",
              "      <td>0</td>\n",
              "      <td>0.33948</td>\n",
              "      <td>1.802117</td>\n",
              "      <td>0.4400</td>\n",
              "      <td>1.548339</td>\n",
              "    </tr>\n",
              "    <tr>\n",
              "      <th>1</th>\n",
              "      <td>1</td>\n",
              "      <td>0.46398</td>\n",
              "      <td>1.473744</td>\n",
              "      <td>0.5149</td>\n",
              "      <td>1.345387</td>\n",
              "    </tr>\n",
              "    <tr>\n",
              "      <th>2</th>\n",
              "      <td>2</td>\n",
              "      <td>0.51992</td>\n",
              "      <td>1.339039</td>\n",
              "      <td>0.5606</td>\n",
              "      <td>1.236678</td>\n",
              "    </tr>\n",
              "    <tr>\n",
              "      <th>3</th>\n",
              "      <td>3</td>\n",
              "      <td>0.55860</td>\n",
              "      <td>1.246892</td>\n",
              "      <td>0.5798</td>\n",
              "      <td>1.184202</td>\n",
              "    </tr>\n",
              "    <tr>\n",
              "      <th>...</th>\n",
              "      <td>...</td>\n",
              "      <td>...</td>\n",
              "      <td>...</td>\n",
              "      <td>...</td>\n",
              "      <td>...</td>\n",
              "    </tr>\n",
              "    <tr>\n",
              "      <th>37</th>\n",
              "      <td>37</td>\n",
              "      <td>0.78172</td>\n",
              "      <td>0.646825</td>\n",
              "      <td>0.7798</td>\n",
              "      <td>0.653582</td>\n",
              "    </tr>\n",
              "    <tr>\n",
              "      <th>38</th>\n",
              "      <td>38</td>\n",
              "      <td>0.78272</td>\n",
              "      <td>0.648276</td>\n",
              "      <td>0.7738</td>\n",
              "      <td>0.665264</td>\n",
              "    </tr>\n",
              "    <tr>\n",
              "      <th>39</th>\n",
              "      <td>39</td>\n",
              "      <td>0.78444</td>\n",
              "      <td>0.643408</td>\n",
              "      <td>0.7810</td>\n",
              "      <td>0.650091</td>\n",
              "    </tr>\n",
              "    <tr>\n",
              "      <th>40</th>\n",
              "      <td>40</td>\n",
              "      <td>0.78612</td>\n",
              "      <td>0.639368</td>\n",
              "      <td>0.7804</td>\n",
              "      <td>0.654211</td>\n",
              "    </tr>\n",
              "  </tbody>\n",
              "</table>\n",
              "<p>41 rows × 5 columns</p>\n",
              "</div>"
            ],
            "text/plain": [
              "    epoch      acc      loss  val_acc  val_loss\n",
              "0       0  0.33948  1.802117   0.4400  1.548339\n",
              "1       1  0.46398  1.473744   0.5149  1.345387\n",
              "2       2  0.51992  1.339039   0.5606  1.236678\n",
              "3       3  0.55860  1.246892   0.5798  1.184202\n",
              "..    ...      ...       ...      ...       ...\n",
              "37     37  0.78172  0.646825   0.7798  0.653582\n",
              "38     38  0.78272  0.648276   0.7738  0.665264\n",
              "39     39  0.78444  0.643408   0.7810  0.650091\n",
              "40     40  0.78612  0.639368   0.7804  0.654211\n",
              "\n",
              "[41 rows x 5 columns]"
            ]
          },
          "metadata": {
            "tags": []
          }
        },
        {
          "output_type": "execute_result",
          "data": {
            "text/plain": [
              "<matplotlib.axes._subplots.AxesSubplot at 0x7fcb5bcd35c0>"
            ]
          },
          "metadata": {
            "tags": []
          },
          "execution_count": 11
        },
        {
          "output_type": "display_data",
          "data": {
            "image/png": "[encoded data removed]",
            "text/plain": [
              "<Figure size 576x396 with 1 Axes>"
            ]
          },
          "metadata": {
            "tags": []
          }
        },
        {
          "output_type": "display_data",
          "data": {
            "image/png": "[encoded data removed]",
            "text/plain": [
              "<Figure size 576x396 with 1 Axes>"
            ]
          },
          "metadata": {
            "tags": []
          }
        }
      ]
    },
    {
      "metadata": {
        "id": "K8zre0uERDU2",
        "colab_type": "text"
      },
      "cell_type": "markdown",
      "source": [
        "References:\n",
        "\n",
        "\n",
        "https://keras.io/callbacks/\n",
        "\n",
        "https://www.tensorflow.org/api_docs/python/tf/keras/callbacks/ModelCheckpoint"
      ]
    }
  ]
}