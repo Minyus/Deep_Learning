{
  "nbformat": 4,
  "nbformat_minor": 0,
  "metadata": {
    "colab": {
      "name": "keras_fit_with_callbacks_cifar10.ipynb",
      "version": "0.3.2",
      "provenance": [],
      "collapsed_sections": []
    },
    "kernelspec": {
      "name": "python3",
      "display_name": "Python 3"
    },
    "accelerator": "GPU"
  },
  "cells": [
    {
      "metadata": {
        "id": "vRgMOgH-ajJW",
        "colab_type": "text"
      },
      "cell_type": "markdown",
      "source": [
        "## Set up Google Colab environment"
      ]
    },
    {
      "metadata": {
        "id": "7F29nuHfiiUA",
        "colab_type": "code",
        "outputId": "e2cca74d-2299-4a6f-89e0-497aba699ef1",
        "colab": {
          "base_uri": "https://localhost:8080/",
          "height": 34
        }
      },
      "cell_type": "code",
      "source": [
        "### Set colaboratory True to run in Google Colaboratory. \n",
        "colab = True\n",
        "\n",
        "if colab:\n",
        "  from google.colab import drive\n",
        "  drive.mount('/content/drive')\n",
        "  import os\n",
        "  ## Specify a directory in Google Drive\n",
        "  dir = '/content/drive/My Drive/Colab Notebooks/Keras_CIFAR10'\n",
        "  os.chdir(dir)\n",
        "  #os.getcwd()\n",
        "  #os.listdir()"
      ],
      "execution_count": 1,
      "outputs": [
        {
          "output_type": "stream",
          "text": [
            "Drive already mounted at /content/drive; to attempt to forcibly remount, call drive.mount(\"/content/drive\", force_remount=True).\n"
          ],
          "name": "stdout"
        }
      ]
    },
    {
      "metadata": {
        "id": "As19XFC8jE-g",
        "colab_type": "code",
        "outputId": "37e453ee-435a-4c18-83b1-7ea5fffa8e57",
        "colab": {
          "base_uri": "https://localhost:8080/",
          "height": 319
        }
      },
      "cell_type": "code",
      "source": [
        "if colab:\n",
        "  ## Check the uptime. (Google Colab reboots every 12 hours)\n",
        "  !cat /proc/uptime | awk '{print \"Uptime is \" $1 /60 /60 \" hours (\" $1 \" sec)\"}'\n",
        "  ## Check the GPU info\n",
        "  !nvidia-smi\n",
        "  ## Check the Python version\n",
        "  !python --version"
      ],
      "execution_count": 2,
      "outputs": [
        {
          "output_type": "stream",
          "text": [
            "Uptime is 1.98716 hours (7153.78 sec)\n",
            "Fri Jan 25 15:16:35 2019       \n",
            "+-----------------------------------------------------------------------------+\n",
            "| NVIDIA-SMI 396.44                 Driver Version: 396.44                    |\n",
            "|-------------------------------+----------------------+----------------------+\n",
            "| GPU  Name        Persistence-M| Bus-Id        Disp.A | Volatile Uncorr. ECC |\n",
            "| Fan  Temp  Perf  Pwr:Usage/Cap|         Memory-Usage | GPU-Util  Compute M. |\n",
            "|===============================+======================+======================|\n",
            "|   0  Tesla K80           Off  | 00000000:00:04.0 Off |                    0 |\n",
            "| N/A   34C    P0    55W / 149W |    156MiB / 11441MiB |      0%      Default |\n",
            "+-------------------------------+----------------------+----------------------+\n",
            "                                                                               \n",
            "+-----------------------------------------------------------------------------+\n",
            "| Processes:                                                       GPU Memory |\n",
            "|  GPU       PID   Type   Process name                             Usage      |\n",
            "|=============================================================================|\n",
            "+-----------------------------------------------------------------------------+\n",
            "Python 3.6.7\n"
          ],
          "name": "stdout"
        }
      ]
    },
    {
      "metadata": {
        "id": "KN-GFrsvarFB",
        "colab_type": "text"
      },
      "cell_type": "markdown",
      "source": [
        "## Import modules"
      ]
    },
    {
      "metadata": {
        "id": "HZ219oTUjJXf",
        "colab_type": "code",
        "outputId": "5d3e5c36-08a0-4cb6-8181-6a90260cbea0",
        "colab": {
          "base_uri": "https://localhost:8080/",
          "height": 34
        }
      },
      "cell_type": "code",
      "source": [
        "import os\n",
        "import glob\n",
        "import numpy as np\n",
        "import pandas as pd\n",
        "from IPython.display import display\n",
        "\n",
        "import tensorflow as tf\n",
        "from tensorflow import keras\n",
        "\n",
        "tf.__version__"
      ],
      "execution_count": 3,
      "outputs": [
        {
          "output_type": "execute_result",
          "data": {
            "text/plain": [
              "'1.12.0'"
            ]
          },
          "metadata": {
            "tags": []
          },
          "execution_count": 3
        }
      ]
    },
    {
      "metadata": {
        "id": "t6bn6IwDfK8b",
        "colab_type": "code",
        "outputId": "e554cf01-4851-4fe4-eb88-c9126fb78f05",
        "colab": {
          "base_uri": "https://localhost:8080/",
          "height": 34
        }
      },
      "cell_type": "code",
      "source": [
        "import keras\n",
        "from keras.models import Sequential\n",
        "from keras.layers import Dense, Dropout, Activation, Flatten\n",
        "from keras.layers import Conv2D, MaxPooling2D"
      ],
      "execution_count": 4,
      "outputs": [
        {
          "output_type": "stream",
          "text": [
            "Using TensorFlow backend.\n"
          ],
          "name": "stderr"
        }
      ]
    },
    {
      "metadata": {
        "id": "MpoVWvOdxUgf",
        "colab_type": "text"
      },
      "cell_type": "markdown",
      "source": [
        "## Set up data"
      ]
    },
    {
      "metadata": {
        "id": "Y3mzIuRfevKm",
        "colab_type": "code",
        "colab": {}
      },
      "cell_type": "code",
      "source": [
        "(x_train, y_train), (x_test, y_test) = tf.keras.datasets.cifar10.load_data()"
      ],
      "execution_count": 0,
      "outputs": []
    },
    {
      "metadata": {
        "id": "feKRA_oSffMa",
        "colab_type": "code",
        "colab": {}
      },
      "cell_type": "code",
      "source": [
        "num_classes = 10\n",
        "# Convert class vectors to binary class matrices.\n",
        "y_train = keras.utils.to_categorical(y_train, num_classes)\n",
        "y_test = keras.utils.to_categorical(y_test, num_classes)\n",
        "\n",
        "\n"
      ],
      "execution_count": 0,
      "outputs": []
    },
    {
      "metadata": {
        "id": "-_Hx-CTbgthc",
        "colab_type": "code",
        "colab": {}
      },
      "cell_type": "code",
      "source": [
        "x_train = x_train.astype('float32')\n",
        "x_test = x_test.astype('float32')\n",
        "x_train /= 255\n",
        "x_test /= 255"
      ],
      "execution_count": 0,
      "outputs": []
    },
    {
      "metadata": {
        "id": "q95svqIyiguC",
        "colab_type": "code",
        "colab": {}
      },
      "cell_type": "code",
      "source": [
        "input_shape = x_train.shape[1:]"
      ],
      "execution_count": 0,
      "outputs": []
    },
    {
      "metadata": {
        "id": "ciSTm1zha2ki",
        "colab_type": "text"
      },
      "cell_type": "markdown",
      "source": [
        "## Define model"
      ]
    },
    {
      "metadata": {
        "id": "k8pNftRxLT1i",
        "colab_type": "code",
        "colab": {}
      },
      "cell_type": "code",
      "source": [
        "# Returns a short sequential model\n",
        "def create_model(input_shape):\n",
        "  model = Sequential()\n",
        "  model.add(Conv2D(32, (3, 3), padding='same',\n",
        "                   input_shape=input_shape))\n",
        "  model.add(Activation('relu'))\n",
        "  model.add(Conv2D(32, (3, 3)))\n",
        "  model.add(Activation('relu'))\n",
        "  model.add(MaxPooling2D(pool_size=(2, 2)))\n",
        "  model.add(Dropout(0.25))\n",
        "\n",
        "  model.add(Conv2D(64, (3, 3), padding='same'))\n",
        "  model.add(Activation('relu'))\n",
        "  model.add(Conv2D(64, (3, 3)))\n",
        "  model.add(Activation('relu'))\n",
        "  model.add(MaxPooling2D(pool_size=(2, 2)))\n",
        "  model.add(Dropout(0.25))\n",
        "\n",
        "  model.add(Flatten())\n",
        "  model.add(Dense(512))\n",
        "  model.add(Activation('relu'))\n",
        "  model.add(Dropout(0.5))\n",
        "  model.add(Dense(num_classes))\n",
        "  model.add(Activation('softmax'))\n",
        "  \n",
        "  # initiate RMSprop optimizer\n",
        "  opt = keras.optimizers.rmsprop(lr=0.0001, decay=1e-6)\n",
        "\n",
        "  # Let's train the model using RMSprop\n",
        "  model.compile(loss='categorical_crossentropy',\n",
        "                optimizer=opt,\n",
        "                metrics=['accuracy'])\n",
        "  return model"
      ],
      "execution_count": 0,
      "outputs": []
    },
    {
      "metadata": {
        "id": "QwFUcdCfa4Vs",
        "colab_type": "text"
      },
      "cell_type": "markdown",
      "source": [
        "## Fit model"
      ]
    },
    {
      "metadata": {
        "id": "jrXvLv4kjx-v",
        "colab_type": "code",
        "outputId": "b2f127b1-605b-4033-e067-2305aff807c3",
        "colab": {
          "base_uri": "https://localhost:8080/",
          "height": 3461
        }
      },
      "cell_type": "code",
      "source": [
        "### If resume_if_possible = True, fitting can resume using a model file. \n",
        "resume_if_possible = True \n",
        "\n",
        "### Set resume_if_possible = False to force fitting from scratch.\n",
        "#resume_if_possible = False \n",
        "\n",
        "epochs = 100\n",
        "log_file_path = 'training_log.csv'\n",
        "model_file_path = 'model_epoch{epoch:06d}.hdf5'\n",
        "\n",
        "model_file_list = glob.glob('model_epoch*.hdf5')\n",
        "log_file_list = glob.glob(log_file_path)\n",
        "\n",
        "if resume_if_possible:\n",
        "  resume_flag = (len(model_file_list) >= 1) \n",
        "  \n",
        "if not resume_if_possible:\n",
        "  resume_flag = False\n",
        "  for f in model_file_list:\n",
        "    os.remove(f)\n",
        "\n",
        "if resume_flag:\n",
        "  latest_model_file = model_file_list[-1]\n",
        "  latest_epoch = int(latest_model_file[len('model_epoch'):-len('.hdf5')])\n",
        "  ## Load the saved model\n",
        "  model = keras.models.load_model(latest_model_file)\n",
        "\n",
        "  score = model.evaluate(x_test,y_test, verbose=0)\n",
        "  print('Use {} to resume fitting. \\nTest loss: {}   Test accuracy: {}'.format(latest_model_file, score[0], score[1]))\n",
        "\n",
        "  if len(model_file_list) >= 2:\n",
        "    ## Delete all model files excpet the latest to save space\n",
        "    for f in model_file_list[:-1]:\n",
        "      os.remove(f)\n",
        "\n",
        "if not resume_flag:\n",
        "  latest_epoch = 0\n",
        "  ## Create a basic model instance\n",
        "  model = create_model(input_shape)\n",
        "  for f in log_file_list:\n",
        "    os.remove(f)\n",
        "\n",
        "model.summary()\n",
        "\n",
        "## Create checkpoint callback\n",
        "check_point_ = tf.keras.callbacks.ModelCheckpoint(filepath = model_file_path, \n",
        "                                                 monitor = 'val_acc',\n",
        "                                                 verbose=1,\n",
        "                                                 save_best_only = True,\n",
        "                                                 mode='auto',\n",
        "                                                 save_weights_only=False,\n",
        "                                                 period = 1)\n",
        "\n",
        "## Create early stopping callback\n",
        "early_stopping_ = tf.keras.callbacks.EarlyStopping(monitor='val_acc', \n",
        "                                                   min_delta=0, \n",
        "                                                   patience=5, \n",
        "                                                   verbose=1, \n",
        "                                                   mode='auto', \n",
        "                                                   baseline=None)\n",
        "\n",
        "## Create CSV logger callback\n",
        "csv_logger_ = tf.keras.callbacks.CSVLogger(filename = log_file_path, separator=',',\n",
        "                                           append = resume_flag)\n",
        "\n",
        "## Fit \n",
        "model.fit(x_train, y_train, epochs = epochs, initial_epoch = latest_epoch,\n",
        "          validation_data = (x_test,y_test), shuffle = True,\n",
        "          callbacks = [check_point_, early_stopping_, csv_logger_])\n",
        "\n",
        "## Remove duplicates as save_best_only option of checkpoint is set to True.\n",
        "pd.options.display.max_rows = 8\n",
        "log_df = pd.read_csv(log_file_path)\n",
        "log_wo_dup_df = log_df.drop_duplicates(subset = ['epoch'], keep='last').reset_index(drop=True)\n",
        "log_wo_dup_df.to_csv((log_file_path[:-len('.csv')] + '_processed.csv'), index=False)\n"
      ],
      "execution_count": 10,
      "outputs": [
        {
          "output_type": "stream",
          "text": [
            "_________________________________________________________________\n",
            "Layer (type)                 Output Shape              Param #   \n",
            "=================================================================\n",
            "conv2d_1 (Conv2D)            (None, 32, 32, 32)        896       \n",
            "_________________________________________________________________\n",
            "activation_1 (Activation)    (None, 32, 32, 32)        0         \n",
            "_________________________________________________________________\n",
            "conv2d_2 (Conv2D)            (None, 30, 30, 32)        9248      \n",
            "_________________________________________________________________\n",
            "activation_2 (Activation)    (None, 30, 30, 32)        0         \n",
            "_________________________________________________________________\n",
            "max_pooling2d_1 (MaxPooling2 (None, 15, 15, 32)        0         \n",
            "_________________________________________________________________\n",
            "dropout_1 (Dropout)          (None, 15, 15, 32)        0         \n",
            "_________________________________________________________________\n",
            "conv2d_3 (Conv2D)            (None, 15, 15, 64)        18496     \n",
            "_________________________________________________________________\n",
            "activation_3 (Activation)    (None, 15, 15, 64)        0         \n",
            "_________________________________________________________________\n",
            "conv2d_4 (Conv2D)            (None, 13, 13, 64)        36928     \n",
            "_________________________________________________________________\n",
            "activation_4 (Activation)    (None, 13, 13, 64)        0         \n",
            "_________________________________________________________________\n",
            "max_pooling2d_2 (MaxPooling2 (None, 6, 6, 64)          0         \n",
            "_________________________________________________________________\n",
            "dropout_2 (Dropout)          (None, 6, 6, 64)          0         \n",
            "_________________________________________________________________\n",
            "flatten_1 (Flatten)          (None, 2304)              0         \n",
            "_________________________________________________________________\n",
            "dense_1 (Dense)              (None, 512)               1180160   \n",
            "_________________________________________________________________\n",
            "activation_5 (Activation)    (None, 512)               0         \n",
            "_________________________________________________________________\n",
            "dropout_3 (Dropout)          (None, 512)               0         \n",
            "_________________________________________________________________\n",
            "dense_2 (Dense)              (None, 10)                5130      \n",
            "_________________________________________________________________\n",
            "activation_6 (Activation)    (None, 10)                0         \n",
            "=================================================================\n",
            "Total params: 1,250,858\n",
            "Trainable params: 1,250,858\n",
            "Non-trainable params: 0\n",
            "_________________________________________________________________\n",
            "Train on 50000 samples, validate on 10000 samples\n",
            "Epoch 1/100\n",
            "50000/50000 [==============================] - 21s 420us/step - loss: 1.8177 - acc: 0.3355 - val_loss: 1.5738 - val_acc: 0.4196\n",
            "\n",
            "Epoch 00001: val_acc improved from -inf to 0.41960, saving model to model_epoch000001.hdf5\n",
            "Epoch 2/100\n",
            "50000/50000 [==============================] - 19s 385us/step - loss: 1.5218 - acc: 0.4475 - val_loss: 1.3480 - val_acc: 0.5195\n",
            "\n",
            "Epoch 00002: val_acc improved from 0.41960 to 0.51950, saving model to model_epoch000002.hdf5\n",
            "Epoch 3/100\n",
            "50000/50000 [==============================] - 19s 383us/step - loss: 1.3659 - acc: 0.5117 - val_loss: 1.2354 - val_acc: 0.5608\n",
            "\n",
            "Epoch 00003: val_acc improved from 0.51950 to 0.56080, saving model to model_epoch000003.hdf5\n",
            "Epoch 4/100\n",
            "50000/50000 [==============================] - 19s 383us/step - loss: 1.2604 - acc: 0.5533 - val_loss: 1.1534 - val_acc: 0.5941\n",
            "\n",
            "Epoch 00004: val_acc improved from 0.56080 to 0.59410, saving model to model_epoch000004.hdf5\n",
            "Epoch 5/100\n",
            "50000/50000 [==============================] - 19s 382us/step - loss: 1.1767 - acc: 0.5827 - val_loss: 1.1444 - val_acc: 0.5947\n",
            "\n",
            "Epoch 00005: val_acc improved from 0.59410 to 0.59470, saving model to model_epoch000005.hdf5\n",
            "Epoch 6/100\n",
            "50000/50000 [==============================] - 19s 384us/step - loss: 1.1075 - acc: 0.6104 - val_loss: 1.0192 - val_acc: 0.6447\n",
            "\n",
            "Epoch 00006: val_acc improved from 0.59470 to 0.64470, saving model to model_epoch000006.hdf5\n",
            "Epoch 7/100\n",
            "50000/50000 [==============================] - 19s 386us/step - loss: 1.0452 - acc: 0.6322 - val_loss: 0.9550 - val_acc: 0.6703\n",
            "\n",
            "Epoch 00007: val_acc improved from 0.64470 to 0.67030, saving model to model_epoch000007.hdf5\n",
            "Epoch 8/100\n",
            "50000/50000 [==============================] - 19s 383us/step - loss: 0.9989 - acc: 0.6509 - val_loss: 0.9802 - val_acc: 0.6644\n",
            "\n",
            "Epoch 00008: val_acc did not improve from 0.67030\n",
            "Epoch 9/100\n",
            "50000/50000 [==============================] - 19s 382us/step - loss: 0.9591 - acc: 0.6662 - val_loss: 0.9089 - val_acc: 0.6851\n",
            "\n",
            "Epoch 00009: val_acc improved from 0.67030 to 0.68510, saving model to model_epoch000009.hdf5\n",
            "Epoch 10/100\n",
            "50000/50000 [==============================] - 19s 386us/step - loss: 0.9212 - acc: 0.6799 - val_loss: 0.8957 - val_acc: 0.6923\n",
            "\n",
            "Epoch 00010: val_acc improved from 0.68510 to 0.69230, saving model to model_epoch000010.hdf5\n",
            "Epoch 11/100\n",
            "50000/50000 [==============================] - 19s 384us/step - loss: 0.8912 - acc: 0.6906 - val_loss: 0.8535 - val_acc: 0.7014\n",
            "\n",
            "Epoch 00011: val_acc improved from 0.69230 to 0.70140, saving model to model_epoch000011.hdf5\n",
            "Epoch 12/100\n",
            "50000/50000 [==============================] - 19s 389us/step - loss: 0.8708 - acc: 0.6975 - val_loss: 0.8473 - val_acc: 0.7054\n",
            "\n",
            "Epoch 00012: val_acc improved from 0.70140 to 0.70540, saving model to model_epoch000012.hdf5\n",
            "Epoch 13/100\n",
            "50000/50000 [==============================] - 19s 385us/step - loss: 0.8430 - acc: 0.7059 - val_loss: 0.7970 - val_acc: 0.7274\n",
            "\n",
            "Epoch 00013: val_acc improved from 0.70540 to 0.72740, saving model to model_epoch000013.hdf5\n",
            "Epoch 14/100\n",
            "50000/50000 [==============================] - 19s 389us/step - loss: 0.8213 - acc: 0.7137 - val_loss: 0.8169 - val_acc: 0.7207\n",
            "\n",
            "Epoch 00014: val_acc did not improve from 0.72740\n",
            "Epoch 15/100\n",
            "50000/50000 [==============================] - 19s 387us/step - loss: 0.8036 - acc: 0.7203 - val_loss: 0.8282 - val_acc: 0.7193\n",
            "\n",
            "Epoch 00015: val_acc did not improve from 0.72740\n",
            "Epoch 16/100\n",
            "50000/50000 [==============================] - 19s 382us/step - loss: 0.7882 - acc: 0.7269 - val_loss: 0.7552 - val_acc: 0.7449\n",
            "\n",
            "Epoch 00016: val_acc improved from 0.72740 to 0.74490, saving model to model_epoch000016.hdf5\n",
            "Epoch 17/100\n",
            "50000/50000 [==============================] - 19s 382us/step - loss: 0.7773 - acc: 0.7313 - val_loss: 0.7813 - val_acc: 0.7281\n",
            "\n",
            "Epoch 00017: val_acc did not improve from 0.74490\n",
            "Epoch 18/100\n",
            "50000/50000 [==============================] - 19s 381us/step - loss: 0.7654 - acc: 0.7356 - val_loss: 0.7587 - val_acc: 0.7395\n",
            "\n",
            "Epoch 00018: val_acc did not improve from 0.74490\n",
            "Epoch 19/100\n",
            "50000/50000 [==============================] - 19s 380us/step - loss: 0.7553 - acc: 0.7405 - val_loss: 0.7847 - val_acc: 0.7314\n",
            "\n",
            "Epoch 00019: val_acc did not improve from 0.74490\n",
            "Epoch 20/100\n",
            "50000/50000 [==============================] - 19s 380us/step - loss: 0.7474 - acc: 0.7423 - val_loss: 0.7168 - val_acc: 0.7563\n",
            "\n",
            "Epoch 00020: val_acc improved from 0.74490 to 0.75630, saving model to model_epoch000020.hdf5\n",
            "Epoch 21/100\n",
            "50000/50000 [==============================] - 19s 381us/step - loss: 0.7375 - acc: 0.7477 - val_loss: 0.7295 - val_acc: 0.7504\n",
            "\n",
            "Epoch 00021: val_acc did not improve from 0.75630\n",
            "Epoch 22/100\n",
            "50000/50000 [==============================] - 19s 384us/step - loss: 0.7285 - acc: 0.7514 - val_loss: 0.7332 - val_acc: 0.7567\n",
            "\n",
            "Epoch 00022: val_acc improved from 0.75630 to 0.75670, saving model to model_epoch000022.hdf5\n",
            "Epoch 23/100\n",
            "50000/50000 [==============================] - 19s 387us/step - loss: 0.7210 - acc: 0.7529 - val_loss: 0.7387 - val_acc: 0.7508\n",
            "\n",
            "Epoch 00023: val_acc did not improve from 0.75670\n",
            "Epoch 24/100\n",
            "50000/50000 [==============================] - 19s 383us/step - loss: 0.7183 - acc: 0.7557 - val_loss: 0.6958 - val_acc: 0.7644\n",
            "\n",
            "Epoch 00024: val_acc improved from 0.75670 to 0.76440, saving model to model_epoch000024.hdf5\n",
            "Epoch 25/100\n",
            "50000/50000 [==============================] - 19s 384us/step - loss: 0.7105 - acc: 0.7568 - val_loss: 0.6961 - val_acc: 0.7611\n",
            "\n",
            "Epoch 00025: val_acc did not improve from 0.76440\n",
            "Epoch 26/100\n",
            "50000/50000 [==============================] - 19s 380us/step - loss: 0.7037 - acc: 0.7584 - val_loss: 0.7484 - val_acc: 0.7520\n",
            "\n",
            "Epoch 00026: val_acc did not improve from 0.76440\n",
            "Epoch 27/100\n",
            "50000/50000 [==============================] - 19s 382us/step - loss: 0.7066 - acc: 0.7582 - val_loss: 0.7520 - val_acc: 0.7503\n",
            "\n",
            "Epoch 00027: val_acc did not improve from 0.76440\n",
            "Epoch 28/100\n",
            "50000/50000 [==============================] - 19s 385us/step - loss: 0.6961 - acc: 0.7624 - val_loss: 0.7050 - val_acc: 0.7625\n",
            "\n",
            "Epoch 00028: val_acc did not improve from 0.76440\n",
            "Epoch 29/100\n",
            "50000/50000 [==============================] - 19s 381us/step - loss: 0.6920 - acc: 0.7644 - val_loss: 0.6901 - val_acc: 0.7671\n",
            "\n",
            "Epoch 00029: val_acc improved from 0.76440 to 0.76710, saving model to model_epoch000029.hdf5\n",
            "Epoch 30/100\n",
            "50000/50000 [==============================] - 19s 385us/step - loss: 0.6880 - acc: 0.7652 - val_loss: 0.7074 - val_acc: 0.7632\n",
            "\n",
            "Epoch 00030: val_acc did not improve from 0.76710\n",
            "Epoch 31/100\n",
            "50000/50000 [==============================] - 19s 382us/step - loss: 0.6852 - acc: 0.7653 - val_loss: 0.7002 - val_acc: 0.7651\n",
            "\n",
            "Epoch 00031: val_acc did not improve from 0.76710\n",
            "Epoch 32/100\n",
            "50000/50000 [==============================] - 19s 381us/step - loss: 0.6826 - acc: 0.7691 - val_loss: 0.7341 - val_acc: 0.7628\n",
            "\n",
            "Epoch 00032: val_acc did not improve from 0.76710\n",
            "Epoch 33/100\n",
            "50000/50000 [==============================] - 19s 383us/step - loss: 0.6757 - acc: 0.7724 - val_loss: 0.6618 - val_acc: 0.7770\n",
            "\n",
            "Epoch 00033: val_acc improved from 0.76710 to 0.77700, saving model to model_epoch000033.hdf5\n",
            "Epoch 34/100\n",
            "50000/50000 [==============================] - 19s 383us/step - loss: 0.6744 - acc: 0.7726 - val_loss: 0.6697 - val_acc: 0.7746\n",
            "\n",
            "Epoch 00034: val_acc did not improve from 0.77700\n",
            "Epoch 35/100\n",
            "50000/50000 [==============================] - 19s 382us/step - loss: 0.6754 - acc: 0.7716 - val_loss: 0.6616 - val_acc: 0.7783\n",
            "\n",
            "Epoch 00035: val_acc improved from 0.77700 to 0.77830, saving model to model_epoch000035.hdf5\n",
            "Epoch 36/100\n",
            "50000/50000 [==============================] - 19s 383us/step - loss: 0.6701 - acc: 0.7734 - val_loss: 0.6646 - val_acc: 0.7762\n",
            "\n",
            "Epoch 00036: val_acc did not improve from 0.77830\n",
            "Epoch 37/100\n",
            "50000/50000 [==============================] - 19s 383us/step - loss: 0.6641 - acc: 0.7742 - val_loss: 0.6736 - val_acc: 0.7709\n",
            "\n",
            "Epoch 00037: val_acc did not improve from 0.77830\n",
            "Epoch 38/100\n",
            "50000/50000 [==============================] - 19s 385us/step - loss: 0.6642 - acc: 0.7760 - val_loss: 0.6591 - val_acc: 0.7767\n",
            "\n",
            "Epoch 00038: val_acc did not improve from 0.77830\n",
            "Epoch 39/100\n",
            "50000/50000 [==============================] - 19s 389us/step - loss: 0.6625 - acc: 0.7757 - val_loss: 0.6703 - val_acc: 0.7742\n",
            "\n",
            "Epoch 00039: val_acc did not improve from 0.77830\n",
            "Epoch 40/100\n",
            "50000/50000 [==============================] - 19s 386us/step - loss: 0.6529 - acc: 0.7788 - val_loss: 0.6802 - val_acc: 0.7710\n",
            "\n",
            "Epoch 00040: val_acc did not improve from 0.77830\n",
            "Epoch 00040: early stopping\n"
          ],
          "name": "stdout"
        }
      ]
    },
    {
      "metadata": {
        "id": "-Cltp5pakeBc",
        "colab_type": "code",
        "colab": {}
      },
      "cell_type": "code",
      "source": [
        "### Clean up\n",
        "model_file_list = glob.glob('model_epoch*.hdf5')  \n",
        "if len(model_file_list) >= 2:\n",
        "  ## Delete all model files excpet the latest one to save space\n",
        "  for f in model_file_list[:-1]:\n",
        "    os.remove(f)"
      ],
      "execution_count": 0,
      "outputs": []
    },
    {
      "metadata": {
        "id": "zxUwoI89bCNT",
        "colab_type": "code",
        "colab": {
          "base_uri": "https://localhost:8080/",
          "height": 1050
        },
        "outputId": "961c6d1b-fbd8-4155-9f84-2ef59a39b799"
      },
      "cell_type": "code",
      "source": [
        "display(log_wo_dup_df)\n",
        "log_wo_dup_df[['epoch', 'acc', 'val_acc']].plot(x='epoch')\n",
        "log_wo_dup_df[['epoch', 'loss', 'val_loss']].plot(x='epoch')"
      ],
      "execution_count": 12,
      "outputs": [
        {
          "output_type": "display_data",
          "data": {
            "text/html": [
              "<div>\n",
              "<style scoped>\n",
              "    .dataframe tbody tr th:only-of-type {\n",
              "        vertical-align: middle;\n",
              "    }\n",
              "\n",
              "    .dataframe tbody tr th {\n",
              "        vertical-align: top;\n",
              "    }\n",
              "\n",
              "    .dataframe thead th {\n",
              "        text-align: right;\n",
              "    }\n",
              "</style>\n",
              "<table border=\"1\" class=\"dataframe\">\n",
              "  <thead>\n",
              "    <tr style=\"text-align: right;\">\n",
              "      <th></th>\n",
              "      <th>epoch</th>\n",
              "      <th>acc</th>\n",
              "      <th>loss</th>\n",
              "      <th>val_acc</th>\n",
              "      <th>val_loss</th>\n",
              "    </tr>\n",
              "  </thead>\n",
              "  <tbody>\n",
              "    <tr>\n",
              "      <th>0</th>\n",
              "      <td>0</td>\n",
              "      <td>0.33554</td>\n",
              "      <td>1.817696</td>\n",
              "      <td>0.4196</td>\n",
              "      <td>1.573825</td>\n",
              "    </tr>\n",
              "    <tr>\n",
              "      <th>1</th>\n",
              "      <td>1</td>\n",
              "      <td>0.44754</td>\n",
              "      <td>1.521846</td>\n",
              "      <td>0.5195</td>\n",
              "      <td>1.347960</td>\n",
              "    </tr>\n",
              "    <tr>\n",
              "      <th>2</th>\n",
              "      <td>2</td>\n",
              "      <td>0.51170</td>\n",
              "      <td>1.365914</td>\n",
              "      <td>0.5608</td>\n",
              "      <td>1.235422</td>\n",
              "    </tr>\n",
              "    <tr>\n",
              "      <th>3</th>\n",
              "      <td>3</td>\n",
              "      <td>0.55326</td>\n",
              "      <td>1.260367</td>\n",
              "      <td>0.5941</td>\n",
              "      <td>1.153412</td>\n",
              "    </tr>\n",
              "    <tr>\n",
              "      <th>...</th>\n",
              "      <td>...</td>\n",
              "      <td>...</td>\n",
              "      <td>...</td>\n",
              "      <td>...</td>\n",
              "      <td>...</td>\n",
              "    </tr>\n",
              "    <tr>\n",
              "      <th>36</th>\n",
              "      <td>36</td>\n",
              "      <td>0.77424</td>\n",
              "      <td>0.664124</td>\n",
              "      <td>0.7709</td>\n",
              "      <td>0.673589</td>\n",
              "    </tr>\n",
              "    <tr>\n",
              "      <th>37</th>\n",
              "      <td>37</td>\n",
              "      <td>0.77598</td>\n",
              "      <td>0.664192</td>\n",
              "      <td>0.7767</td>\n",
              "      <td>0.659077</td>\n",
              "    </tr>\n",
              "    <tr>\n",
              "      <th>38</th>\n",
              "      <td>38</td>\n",
              "      <td>0.77568</td>\n",
              "      <td>0.662461</td>\n",
              "      <td>0.7742</td>\n",
              "      <td>0.670311</td>\n",
              "    </tr>\n",
              "    <tr>\n",
              "      <th>39</th>\n",
              "      <td>39</td>\n",
              "      <td>0.77880</td>\n",
              "      <td>0.652929</td>\n",
              "      <td>0.7710</td>\n",
              "      <td>0.680168</td>\n",
              "    </tr>\n",
              "  </tbody>\n",
              "</table>\n",
              "<p>40 rows × 5 columns</p>\n",
              "</div>"
            ],
            "text/plain": [
              "    epoch      acc      loss  val_acc  val_loss\n",
              "0       0  0.33554  1.817696   0.4196  1.573825\n",
              "1       1  0.44754  1.521846   0.5195  1.347960\n",
              "2       2  0.51170  1.365914   0.5608  1.235422\n",
              "3       3  0.55326  1.260367   0.5941  1.153412\n",
              "..    ...      ...       ...      ...       ...\n",
              "36     36  0.77424  0.664124   0.7709  0.673589\n",
              "37     37  0.77598  0.664192   0.7767  0.659077\n",
              "38     38  0.77568  0.662461   0.7742  0.670311\n",
              "39     39  0.77880  0.652929   0.7710  0.680168\n",
              "\n",
              "[40 rows x 5 columns]"
            ]
          },
          "metadata": {
            "tags": []
          }
        },
        {
          "output_type": "execute_result",
          "data": {
            "text/plain": [
              "<matplotlib.axes._subplots.AxesSubplot at 0x7f088163f7b8>"
            ]
          },
          "metadata": {
            "tags": []
          },
          "execution_count": 12
        },
        {
          "output_type": "display_data",
          "data": {
            "image/png": "[encoded data removed]",
            "text/plain": [
              "<Figure size 576x396 with 1 Axes>"
            ]
          },
          "metadata": {
            "tags": []
          }
        },
        {
          "output_type": "display_data",
          "data": {
            "image/png": "[encoded data removed]",
            "text/plain": [
              "<Figure size 576x396 with 1 Axes>"
            ]
          },
          "metadata": {
            "tags": []
          }
        }
      ]
    },
    {
      "metadata": {
        "id": "K8zre0uERDU2",
        "colab_type": "text"
      },
      "cell_type": "markdown",
      "source": [
        "References:\n",
        "\n",
        "\n",
        "https://keras.io/callbacks/\n",
        "\n",
        "https://www.tensorflow.org/api_docs/python/tf/keras/callbacks/ModelCheckpoint"
      ]
    }
  ]
}