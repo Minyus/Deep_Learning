{
  "nbformat": 4,
  "nbformat_minor": 0,
  "metadata": {
    "colab": {
      "name": "keras_fit_with_callbacks_mnist.ipynb",
      "version": "0.3.2",
      "provenance": [],
      "collapsed_sections": []
    },
    "kernelspec": {
      "name": "python3",
      "display_name": "Python 3"
    },
    "accelerator": "GPU"
  },
  "cells": [
    {
      "metadata": {
        "id": "vRgMOgH-ajJW",
        "colab_type": "text"
      },
      "cell_type": "markdown",
      "source": [
        "## Set up Google Colab environment"
      ]
    },
    {
      "metadata": {
        "id": "7F29nuHfiiUA",
        "colab_type": "code",
        "outputId": "3b9831d1-7cde-47e2-d4a2-8fe2f59c00cf",
        "colab": {
          "base_uri": "https://localhost:8080/",
          "height": 34
        }
      },
      "cell_type": "code",
      "source": [
        "### Set colaboratory True to run in Google Colaboratory. \n",
        "colab = True\n",
        "\n",
        "if colab:\n",
        "  from google.colab import drive\n",
        "  drive.mount('/content/drive')\n",
        "  import os\n",
        "  ## Specify a directory in Google Drive\n",
        "  dir = '/content/drive/My Drive/Colab Notebooks/Keras_MNIST'\n",
        "  os.chdir(dir)\n",
        "  #os.getcwd()\n",
        "  #os.listdir()"
      ],
      "execution_count": 0,
      "outputs": [
        {
          "output_type": "stream",
          "text": [
            "Drive already mounted at /content/drive; to attempt to forcibly remount, call drive.mount(\"/content/drive\", force_remount=True).\n"
          ],
          "name": "stdout"
        }
      ]
    },
    {
      "metadata": {
        "id": "As19XFC8jE-g",
        "colab_type": "code",
        "outputId": "a4189b66-2868-4bac-89b8-018aee78c759",
        "colab": {
          "base_uri": "https://localhost:8080/",
          "height": 340
        }
      },
      "cell_type": "code",
      "source": [
        "if colab:\n",
        "  ## Check the uptime. (Google Colab reboots every 12 hours)\n",
        "  !cat /proc/uptime | awk '{print \"Uptime is \" $1 /60 /60 \" hours (\" $1 \" sec)\"}'\n",
        "  ## Check the GPU info\n",
        "  !nvidia-smi\n",
        "  ## Check the Python version\n",
        "  !python --version"
      ],
      "execution_count": 0,
      "outputs": [
        {
          "output_type": "stream",
          "text": [
            "Uptime is 0.914919 hours (3293.71 sec)\n",
            "Sat Jan 26 05:30:47 2019       \n",
            "+-----------------------------------------------------------------------------+\n",
            "| NVIDIA-SMI 396.44                 Driver Version: 396.44                    |\n",
            "|-------------------------------+----------------------+----------------------+\n",
            "| GPU  Name        Persistence-M| Bus-Id        Disp.A | Volatile Uncorr. ECC |\n",
            "| Fan  Temp  Perf  Pwr:Usage/Cap|         Memory-Usage | GPU-Util  Compute M. |\n",
            "|===============================+======================+======================|\n",
            "|   0  Tesla K80           Off  | 00000000:00:04.0 Off |                    0 |\n",
            "| N/A   42C    P8    28W / 149W |      0MiB / 11441MiB |      0%      Default |\n",
            "+-------------------------------+----------------------+----------------------+\n",
            "                                                                               \n",
            "+-----------------------------------------------------------------------------+\n",
            "| Processes:                                                       GPU Memory |\n",
            "|  GPU       PID   Type   Process name                             Usage      |\n",
            "|=============================================================================|\n",
            "|  No running processes found                                                 |\n",
            "+-----------------------------------------------------------------------------+\n",
            "Python 3.6.7\n"
          ],
          "name": "stdout"
        }
      ]
    },
    {
      "metadata": {
        "id": "KN-GFrsvarFB",
        "colab_type": "text"
      },
      "cell_type": "markdown",
      "source": [
        "## Import modules"
      ]
    },
    {
      "metadata": {
        "id": "HZ219oTUjJXf",
        "colab_type": "code",
        "outputId": "afdf10c5-72cf-475e-8c57-66c0ac5453a0",
        "colab": {
          "base_uri": "https://localhost:8080/",
          "height": 34
        }
      },
      "cell_type": "code",
      "source": [
        "import os\n",
        "import glob\n",
        "import numpy as np\n",
        "import pandas as pd\n",
        "from IPython.display import display\n",
        "\n",
        "import tensorflow as tf\n",
        "from tensorflow import keras\n",
        "\n",
        "tf.__version__"
      ],
      "execution_count": 0,
      "outputs": [
        {
          "output_type": "execute_result",
          "data": {
            "text/plain": [
              "'1.12.0'"
            ]
          },
          "metadata": {
            "tags": []
          },
          "execution_count": 3
        }
      ]
    },
    {
      "metadata": {
        "id": "MpoVWvOdxUgf",
        "colab_type": "text"
      },
      "cell_type": "markdown",
      "source": [
        "## Set up data"
      ]
    },
    {
      "metadata": {
        "id": "1VpoE_PSVoES",
        "colab_type": "code",
        "outputId": "d7ed8273-e449-4458-b6e6-69033db8ba43",
        "colab": {
          "base_uri": "https://localhost:8080/",
          "height": 51
        }
      },
      "cell_type": "code",
      "source": [
        "## Set up data to use CNN\n",
        "\n",
        "mnist = keras.datasets.mnist\n",
        "# More dataset choices here: https://www.tensorflow.org/api_docs/python/tf/keras/datasets\n",
        "# input image dimensions\n",
        "img_x, img_y = 28, 28\n",
        "\n",
        "# Load training data, labels; and testing data and their true labels\n",
        "(x_train, y_train), (x_test, y_test) = mnist.load_data()\n",
        "\n",
        "# reshape the data into a 4D tensor - (sample_number, x_img_size, y_img_size, num_channels)\n",
        "# because the MNIST is greyscale, we only have a single channel - RGB colour images would have 3\n",
        "x_train = x_train.reshape(x_train.shape[0], img_x, img_y, 1)\n",
        "x_test  = x_test.reshape(x_test.shape[0], img_x, img_y, 1)\n",
        "input_shape = (img_x, img_y, 1)\n",
        "\n",
        "# Normalize input between 0 and 1\n",
        "# Very important\n",
        "x_train = x_train / 255.0\n",
        "x_test = x_test / 255.0\n",
        "\n",
        "# Check shapes of x_train, y_train etc\n",
        "print(x_train.shape)\n",
        "print(y_train.shape)"
      ],
      "execution_count": 0,
      "outputs": [
        {
          "output_type": "stream",
          "text": [
            "(60000, 28, 28, 1)\n",
            "(60000,)\n"
          ],
          "name": "stdout"
        }
      ]
    },
    {
      "metadata": {
        "id": "ciSTm1zha2ki",
        "colab_type": "text"
      },
      "cell_type": "markdown",
      "source": [
        "## Define model"
      ]
    },
    {
      "metadata": {
        "id": "TaDftcAUZgj9",
        "colab_type": "code",
        "outputId": "697e6a38-f113-4e17-c548-58c5f1995eed",
        "colab": {
          "base_uri": "https://localhost:8080/",
          "height": 34
        }
      },
      "cell_type": "code",
      "source": [
        "# We will use a sequential model https://keras.io/getting-started/sequential-model-guide/\n",
        "from keras.models import Sequential\n",
        "from keras.layers import Dense, Activation, Flatten, Conv2D, Dropout \n",
        "from keras.optimizers import Adam, Adadelta\n",
        "\n",
        "def create_model(input_shape):\n",
        "  model = Sequential()\n",
        "  model.add(Conv2D(512, kernel_size=(3, 3), strides=(1, 1),\n",
        "                   activation='relu',\n",
        "                   input_shape=input_shape))\n",
        "  model.add(Flatten())\n",
        "  # model.add(Dropout(0.5))\n",
        "  model.add(Dense(10, activation='softmax'))\n",
        "  \n",
        "  # Compile the model with appropriate Loss function\n",
        "  model.compile(optimizer=Adam(), \n",
        "                loss='sparse_categorical_crossentropy',\n",
        "                metrics=['accuracy'])\n",
        "  return model"
      ],
      "execution_count": 0,
      "outputs": [
        {
          "output_type": "stream",
          "text": [
            "Using TensorFlow backend.\n"
          ],
          "name": "stderr"
        }
      ]
    },
    {
      "metadata": {
        "id": "QwFUcdCfa4Vs",
        "colab_type": "text"
      },
      "cell_type": "markdown",
      "source": [
        "## Fit model"
      ]
    },
    {
      "metadata": {
        "id": "jrXvLv4kjx-v",
        "colab_type": "code",
        "outputId": "920a6dd3-4e39-4d1a-86b4-2d8a045dbaa8",
        "colab": {
          "base_uri": "https://localhost:8080/",
          "height": 1156
        }
      },
      "cell_type": "code",
      "source": [
        "### If resume_if_possible = True, fitting can resume using a model file. \n",
        "resume_if_possible = True \n",
        "\n",
        "### Set resume_if_possible = False to force fitting from scratch.\n",
        "#resume_if_possible = False \n",
        "\n",
        "epochs = 100\n",
        "batch_size = 64\n",
        "log_file_path = 'training_log.csv'\n",
        "model_file_path = 'model_epoch{epoch:06d}.hdf5'\n",
        "\n",
        "model_file_list = glob.glob('model_epoch*.hdf5')\n",
        "log_file_list = glob.glob(log_file_path)\n",
        "\n",
        "if resume_if_possible:\n",
        "  resume_flag = (len(model_file_list) >= 1) \n",
        "  \n",
        "if not resume_if_possible:\n",
        "  resume_flag = False\n",
        "  for f in model_file_list:\n",
        "    os.remove(f)\n",
        "\n",
        "if resume_flag:\n",
        "  latest_model_file = model_file_list[-1]\n",
        "  latest_epoch = int(latest_model_file[len('model_epoch'):-len('.hdf5')])\n",
        "  ## Load the saved model\n",
        "  model = keras.models.load_model(latest_model_file)\n",
        "\n",
        "  score = model.evaluate(x_test,y_test, verbose=0)\n",
        "  print('Use {} to resume fitting. \\nTest loss: {}   Test accuracy: {}'.format(latest_model_file, score[0], score[1]))\n",
        "\n",
        "  if len(model_file_list) >= 2:\n",
        "    ## Delete all model files excpet the latest to save space\n",
        "    for f in model_file_list[:-1]:\n",
        "      os.remove(f)\n",
        "\n",
        "if not resume_flag:\n",
        "  latest_epoch = 0\n",
        "  ## Create a basic model instance\n",
        "  model = create_model(input_shape)\n",
        "  for f in log_file_list:\n",
        "    os.remove(f)\n",
        "\n",
        "model.summary()\n",
        "\n",
        "## Create checkpoint callback\n",
        "check_point_ = tf.keras.callbacks.ModelCheckpoint(filepath = model_file_path, \n",
        "                                                 monitor = 'val_acc',\n",
        "                                                 verbose=1,\n",
        "                                                 save_best_only = True,\n",
        "                                                 mode='auto',\n",
        "                                                 save_weights_only=False,\n",
        "                                                 period = 1)\n",
        "\n",
        "## Create early stopping callback\n",
        "early_stopping_ = tf.keras.callbacks.EarlyStopping(monitor='val_acc', \n",
        "                                                   min_delta=0, \n",
        "                                                   patience=5, \n",
        "                                                   verbose=1, \n",
        "                                                   mode='auto', \n",
        "                                                   baseline=None)\n",
        "\n",
        "## Create CSV logger callback\n",
        "csv_logger_ = tf.keras.callbacks.CSVLogger(filename = log_file_path, separator=',',\n",
        "                                           append = resume_flag)\n",
        "\n",
        "## Fit \n",
        "model.fit(x_train, y_train, batch_size = batch_size, epochs = epochs, initial_epoch = latest_epoch,\n",
        "          validation_data = (x_test,y_test), shuffle = True,\n",
        "          callbacks = [check_point_, early_stopping_, csv_logger_])\n",
        "\n",
        "## Remove duplicates as save_best_only option of checkpoint is set to True.\n",
        "pd.options.display.max_rows = 8\n",
        "log_df = pd.read_csv(log_file_path)\n",
        "log_wo_dup_df = log_df.drop_duplicates(subset = ['epoch'], keep='last').reset_index(drop=True)\n",
        "log_wo_dup_df.to_csv((log_file_path[:-len('.csv')] + '_processed.csv'), index=False)"
      ],
      "execution_count": 0,
      "outputs": [
        {
          "output_type": "stream",
          "text": [
            "_________________________________________________________________\n",
            "Layer (type)                 Output Shape              Param #   \n",
            "=================================================================\n",
            "conv2d_1 (Conv2D)            (None, 26, 26, 512)       5120      \n",
            "_________________________________________________________________\n",
            "flatten_1 (Flatten)          (None, 346112)            0         \n",
            "_________________________________________________________________\n",
            "dense_1 (Dense)              (None, 10)                3461130   \n",
            "=================================================================\n",
            "Total params: 3,466,250\n",
            "Trainable params: 3,466,250\n",
            "Non-trainable params: 0\n",
            "_________________________________________________________________\n",
            "Train on 60000 samples, validate on 10000 samples\n",
            "Epoch 1/100\n",
            "60000/60000 [==============================] - 33s 547us/step - loss: 0.1387 - acc: 0.9580 - val_loss: 0.0615 - val_acc: 0.9802\n",
            "\n",
            "Epoch 00001: val_acc improved from -inf to 0.98020, saving model to model_epoch000001.hdf5\n",
            "Epoch 2/100\n",
            "60000/60000 [==============================] - 31s 518us/step - loss: 0.0533 - acc: 0.9838 - val_loss: 0.0577 - val_acc: 0.9812\n",
            "\n",
            "Epoch 00002: val_acc improved from 0.98020 to 0.98120, saving model to model_epoch000002.hdf5\n",
            "Epoch 3/100\n",
            "60000/60000 [==============================] - 31s 522us/step - loss: 0.0321 - acc: 0.9899 - val_loss: 0.0647 - val_acc: 0.9790\n",
            "\n",
            "Epoch 00003: val_acc did not improve from 0.98120\n",
            "Epoch 4/100\n",
            "60000/60000 [==============================] - 31s 520us/step - loss: 0.0211 - acc: 0.9931 - val_loss: 0.0658 - val_acc: 0.9808\n",
            "\n",
            "Epoch 00004: val_acc did not improve from 0.98120\n",
            "Epoch 5/100\n",
            "60000/60000 [==============================] - 31s 520us/step - loss: 0.0148 - acc: 0.9954 - val_loss: 0.0731 - val_acc: 0.9810\n",
            "\n",
            "Epoch 00005: val_acc did not improve from 0.98120\n",
            "Epoch 6/100\n",
            "60000/60000 [==============================] - 31s 523us/step - loss: 0.0118 - acc: 0.9959 - val_loss: 0.0704 - val_acc: 0.9817\n",
            "\n",
            "Epoch 00006: val_acc improved from 0.98120 to 0.98170, saving model to model_epoch000006.hdf5\n",
            "Epoch 7/100\n",
            "60000/60000 [==============================] - 31s 521us/step - loss: 0.0076 - acc: 0.9975 - val_loss: 0.0931 - val_acc: 0.9788\n",
            "\n",
            "Epoch 00007: val_acc did not improve from 0.98170\n",
            "Epoch 8/100\n",
            "60000/60000 [==============================] - 31s 511us/step - loss: 0.0073 - acc: 0.9977 - val_loss: 0.0782 - val_acc: 0.9828\n",
            "\n",
            "Epoch 00008: val_acc improved from 0.98170 to 0.98280, saving model to model_epoch000008.hdf5\n",
            "Epoch 9/100\n",
            "60000/60000 [==============================] - 31s 510us/step - loss: 0.0056 - acc: 0.9980 - val_loss: 0.0888 - val_acc: 0.9809\n",
            "\n",
            "Epoch 00009: val_acc did not improve from 0.98280\n",
            "Epoch 10/100\n",
            "60000/60000 [==============================] - 31s 510us/step - loss: 0.0049 - acc: 0.9984 - val_loss: 0.0953 - val_acc: 0.9817\n",
            "\n",
            "Epoch 00010: val_acc did not improve from 0.98280\n",
            "Epoch 11/100\n",
            "60000/60000 [==============================] - 31s 512us/step - loss: 0.0046 - acc: 0.9985 - val_loss: 0.1153 - val_acc: 0.9781\n",
            "\n",
            "Epoch 00011: val_acc did not improve from 0.98280\n",
            "Epoch 12/100\n",
            "60000/60000 [==============================] - 31s 516us/step - loss: 0.0056 - acc: 0.9980 - val_loss: 0.1082 - val_acc: 0.9809\n",
            "\n",
            "Epoch 00012: val_acc did not improve from 0.98280\n",
            "Epoch 13/100\n",
            "60000/60000 [==============================] - 31s 512us/step - loss: 0.0023 - acc: 0.9993 - val_loss: 0.1165 - val_acc: 0.9790\n",
            "\n",
            "Epoch 00013: val_acc did not improve from 0.98280\n",
            "Epoch 00013: early stopping\n"
          ],
          "name": "stdout"
        }
      ]
    },
    {
      "metadata": {
        "id": "ZmuS2cYrjPiz",
        "colab_type": "code",
        "colab": {}
      },
      "cell_type": "code",
      "source": [
        "### Clean up\n",
        "model_file_list = glob.glob('model_epoch*.hdf5')  \n",
        "if len(model_file_list) >= 2:\n",
        "  ## Delete all model files excpet the latest one to save space\n",
        "  for f in model_file_list[:-1]:\n",
        "    os.remove(f)"
      ],
      "execution_count": 0,
      "outputs": []
    },
    {
      "metadata": {
        "id": "R4CIfQhOYmi8",
        "colab_type": "code",
        "outputId": "67ad1f65-62ad-477a-be9e-8283d5256756",
        "colab": {
          "base_uri": "https://localhost:8080/",
          "height": 1062
        }
      },
      "cell_type": "code",
      "source": [
        "display(log_wo_dup_df)\n",
        "log_wo_dup_df[['epoch', 'acc', 'val_acc']].plot(x='epoch')\n",
        "log_wo_dup_df[['epoch', 'loss', 'val_loss']].plot(x='epoch')"
      ],
      "execution_count": 0,
      "outputs": [
        {
          "output_type": "display_data",
          "data": {
            "text/html": [
              "<div>\n",
              "<style scoped>\n",
              "    .dataframe tbody tr th:only-of-type {\n",
              "        vertical-align: middle;\n",
              "    }\n",
              "\n",
              "    .dataframe tbody tr th {\n",
              "        vertical-align: top;\n",
              "    }\n",
              "\n",
              "    .dataframe thead th {\n",
              "        text-align: right;\n",
              "    }\n",
              "</style>\n",
              "<table border=\"1\" class=\"dataframe\">\n",
              "  <thead>\n",
              "    <tr style=\"text-align: right;\">\n",
              "      <th></th>\n",
              "      <th>epoch</th>\n",
              "      <th>acc</th>\n",
              "      <th>loss</th>\n",
              "      <th>val_acc</th>\n",
              "      <th>val_loss</th>\n",
              "    </tr>\n",
              "  </thead>\n",
              "  <tbody>\n",
              "    <tr>\n",
              "      <th>0</th>\n",
              "      <td>0</td>\n",
              "      <td>0.958050</td>\n",
              "      <td>0.138735</td>\n",
              "      <td>0.9802</td>\n",
              "      <td>0.061506</td>\n",
              "    </tr>\n",
              "    <tr>\n",
              "      <th>1</th>\n",
              "      <td>1</td>\n",
              "      <td>0.983800</td>\n",
              "      <td>0.053282</td>\n",
              "      <td>0.9812</td>\n",
              "      <td>0.057678</td>\n",
              "    </tr>\n",
              "    <tr>\n",
              "      <th>2</th>\n",
              "      <td>2</td>\n",
              "      <td>0.989883</td>\n",
              "      <td>0.032099</td>\n",
              "      <td>0.9790</td>\n",
              "      <td>0.064734</td>\n",
              "    </tr>\n",
              "    <tr>\n",
              "      <th>3</th>\n",
              "      <td>3</td>\n",
              "      <td>0.993067</td>\n",
              "      <td>0.021142</td>\n",
              "      <td>0.9808</td>\n",
              "      <td>0.065844</td>\n",
              "    </tr>\n",
              "    <tr>\n",
              "      <th>...</th>\n",
              "      <td>...</td>\n",
              "      <td>...</td>\n",
              "      <td>...</td>\n",
              "      <td>...</td>\n",
              "      <td>...</td>\n",
              "    </tr>\n",
              "    <tr>\n",
              "      <th>9</th>\n",
              "      <td>9</td>\n",
              "      <td>0.998367</td>\n",
              "      <td>0.004870</td>\n",
              "      <td>0.9817</td>\n",
              "      <td>0.095299</td>\n",
              "    </tr>\n",
              "    <tr>\n",
              "      <th>10</th>\n",
              "      <td>10</td>\n",
              "      <td>0.998517</td>\n",
              "      <td>0.004609</td>\n",
              "      <td>0.9781</td>\n",
              "      <td>0.115344</td>\n",
              "    </tr>\n",
              "    <tr>\n",
              "      <th>11</th>\n",
              "      <td>11</td>\n",
              "      <td>0.997983</td>\n",
              "      <td>0.005598</td>\n",
              "      <td>0.9809</td>\n",
              "      <td>0.108224</td>\n",
              "    </tr>\n",
              "    <tr>\n",
              "      <th>12</th>\n",
              "      <td>12</td>\n",
              "      <td>0.999283</td>\n",
              "      <td>0.002321</td>\n",
              "      <td>0.9790</td>\n",
              "      <td>0.116550</td>\n",
              "    </tr>\n",
              "  </tbody>\n",
              "</table>\n",
              "<p>13 rows × 5 columns</p>\n",
              "</div>"
            ],
            "text/plain": [
              "    epoch       acc      loss  val_acc  val_loss\n",
              "0       0  0.958050  0.138735   0.9802  0.061506\n",
              "1       1  0.983800  0.053282   0.9812  0.057678\n",
              "2       2  0.989883  0.032099   0.9790  0.064734\n",
              "3       3  0.993067  0.021142   0.9808  0.065844\n",
              "..    ...       ...       ...      ...       ...\n",
              "9       9  0.998367  0.004870   0.9817  0.095299\n",
              "10     10  0.998517  0.004609   0.9781  0.115344\n",
              "11     11  0.997983  0.005598   0.9809  0.108224\n",
              "12     12  0.999283  0.002321   0.9790  0.116550\n",
              "\n",
              "[13 rows x 5 columns]"
            ]
          },
          "metadata": {
            "tags": []
          }
        },
        {
          "output_type": "execute_result",
          "data": {
            "text/plain": [
              "<matplotlib.axes._subplots.AxesSubplot at 0x7f8d40698710>"
            ]
          },
          "metadata": {
            "tags": []
          },
          "execution_count": 8
        },
        {
          "output_type": "display_data",
          "data": {
            "image/png": "[encoded data removed]",
            "text/plain": [
              "<Figure size 576x396 with 1 Axes>"
            ]
          },
          "metadata": {
            "tags": []
          }
        },
        {
          "output_type": "display_data",
          "data": {
            "image/png": "[encoded data removed]",
            "text/plain": [
              "<Figure size 576x396 with 1 Axes>"
            ]
          },
          "metadata": {
            "tags": []
          }
        }
      ]
    },
    {
      "metadata": {
        "id": "K8zre0uERDU2",
        "colab_type": "text"
      },
      "cell_type": "markdown",
      "source": [
        "References:\n",
        "\n",
        "\n",
        "https://keras.io/callbacks/\n",
        "\n",
        "https://www.tensorflow.org/api_docs/python/tf/keras/callbacks/ModelCheckpoint"
      ]
    },
    {
      "metadata": {
        "id": "Hi_bGHxFX_Qs",
        "colab_type": "code",
        "colab": {}
      },
      "cell_type": "code",
      "source": [
        ""
      ],
      "execution_count": 0,
      "outputs": []
    }
  ]
}