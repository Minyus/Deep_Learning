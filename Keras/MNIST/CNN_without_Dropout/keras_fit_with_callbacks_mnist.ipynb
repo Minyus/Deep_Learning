{
  "nbformat": 4,
  "nbformat_minor": 0,
  "metadata": {
    "colab": {
      "name": "keras_fit_with_callbacks_mnist.ipynb",
      "version": "0.3.2",
      "provenance": [],
      "collapsed_sections": []
    },
    "kernelspec": {
      "name": "python3",
      "display_name": "Python 3"
    },
    "accelerator": "GPU"
  },
  "cells": [
    {
      "metadata": {
        "id": "vRgMOgH-ajJW",
        "colab_type": "text"
      },
      "cell_type": "markdown",
      "source": [
        "## Set up Google Colab environment"
      ]
    },
    {
      "metadata": {
        "id": "7F29nuHfiiUA",
        "colab_type": "code",
        "outputId": "2d7aa93e-3a41-4d12-f1ab-69136988f95b",
        "colab": {
          "base_uri": "https://localhost:8080/",
          "height": 34
        }
      },
      "cell_type": "code",
      "source": [
        "### Set colaboratory True to run in Google Colaboratory. \n",
        "colab = True\n",
        "\n",
        "if colab:\n",
        "  from google.colab import drive\n",
        "  drive.mount('/content/drive')\n",
        "  import os\n",
        "  ## Specify a directory in Google Drive\n",
        "  dir = '/content/drive/My Drive/Colab Notebooks/Keras_MNIST'\n",
        "  os.chdir(dir)\n",
        "  #os.getcwd()\n",
        "  #os.listdir()"
      ],
      "execution_count": 1,
      "outputs": [
        {
          "output_type": "stream",
          "text": [
            "Drive already mounted at /content/drive; to attempt to forcibly remount, call drive.mount(\"/content/drive\", force_remount=True).\n"
          ],
          "name": "stdout"
        }
      ]
    },
    {
      "metadata": {
        "id": "As19XFC8jE-g",
        "colab_type": "code",
        "outputId": "5cfba8d4-4f36-48eb-93d6-9361ff4e3e9c",
        "colab": {
          "base_uri": "https://localhost:8080/",
          "height": 340
        }
      },
      "cell_type": "code",
      "source": [
        "if colab:\n",
        "  ## Check the uptime. (Google Colab reboots every 12 hours)\n",
        "  !cat /proc/uptime | awk '{print \"Uptime is \" $1 /60 /60 \" hours (\" $1 \" sec)\"}'\n",
        "  ## Check the GPU info\n",
        "  !nvidia-smi\n",
        "  ## Check the Python version\n",
        "  !python --version"
      ],
      "execution_count": 2,
      "outputs": [
        {
          "output_type": "stream",
          "text": [
            "Uptime is 0.179528 hours (646.30 sec)\n",
            "Sat Jan 26 04:46:39 2019       \n",
            "+-----------------------------------------------------------------------------+\n",
            "| NVIDIA-SMI 396.44                 Driver Version: 396.44                    |\n",
            "|-------------------------------+----------------------+----------------------+\n",
            "| GPU  Name        Persistence-M| Bus-Id        Disp.A | Volatile Uncorr. ECC |\n",
            "| Fan  Temp  Perf  Pwr:Usage/Cap|         Memory-Usage | GPU-Util  Compute M. |\n",
            "|===============================+======================+======================|\n",
            "|   0  Tesla K80           Off  | 00000000:00:04.0 Off |                    0 |\n",
            "| N/A   30C    P8    28W / 149W |      0MiB / 11441MiB |      0%      Default |\n",
            "+-------------------------------+----------------------+----------------------+\n",
            "                                                                               \n",
            "+-----------------------------------------------------------------------------+\n",
            "| Processes:                                                       GPU Memory |\n",
            "|  GPU       PID   Type   Process name                             Usage      |\n",
            "|=============================================================================|\n",
            "|  No running processes found                                                 |\n",
            "+-----------------------------------------------------------------------------+\n",
            "Python 3.6.7\n"
          ],
          "name": "stdout"
        }
      ]
    },
    {
      "metadata": {
        "id": "KN-GFrsvarFB",
        "colab_type": "text"
      },
      "cell_type": "markdown",
      "source": [
        "## Import modules"
      ]
    },
    {
      "metadata": {
        "id": "HZ219oTUjJXf",
        "colab_type": "code",
        "outputId": "309f9699-0d98-4762-90cd-2adf00bc8c09",
        "colab": {
          "base_uri": "https://localhost:8080/",
          "height": 34
        }
      },
      "cell_type": "code",
      "source": [
        "import os\n",
        "import glob\n",
        "import numpy as np\n",
        "import pandas as pd\n",
        "from IPython.display import display\n",
        "\n",
        "import tensorflow as tf\n",
        "from tensorflow import keras\n",
        "\n",
        "tf.__version__"
      ],
      "execution_count": 3,
      "outputs": [
        {
          "output_type": "execute_result",
          "data": {
            "text/plain": [
              "'1.12.0'"
            ]
          },
          "metadata": {
            "tags": []
          },
          "execution_count": 3
        }
      ]
    },
    {
      "metadata": {
        "id": "MpoVWvOdxUgf",
        "colab_type": "text"
      },
      "cell_type": "markdown",
      "source": [
        "## Set up data"
      ]
    },
    {
      "metadata": {
        "id": "1VpoE_PSVoES",
        "colab_type": "code",
        "colab": {
          "base_uri": "https://localhost:8080/",
          "height": 51
        },
        "outputId": "77db986d-37c3-462d-dc61-d49c86ba2c6f"
      },
      "cell_type": "code",
      "source": [
        "## Set up data to use CNN\n",
        "\n",
        "mnist = keras.datasets.mnist\n",
        "# More dataset choices here: https://www.tensorflow.org/api_docs/python/tf/keras/datasets\n",
        "# input image dimensions\n",
        "img_x, img_y = 28, 28\n",
        "\n",
        "# Load training data, labels; and testing data and their true labels\n",
        "(x_train, y_train), (x_test, y_test) = mnist.load_data()\n",
        "\n",
        "# reshape the data into a 4D tensor - (sample_number, x_img_size, y_img_size, num_channels)\n",
        "# because the MNIST is greyscale, we only have a single channel - RGB colour images would have 3\n",
        "x_train = x_train.reshape(x_train.shape[0], img_x, img_y, 1)\n",
        "x_test  = x_test.reshape(x_test.shape[0], img_x, img_y, 1)\n",
        "input_shape = (img_x, img_y, 1)\n",
        "\n",
        "# Normalize input between 0 and 1\n",
        "# Very important\n",
        "x_train = x_train / 255.0\n",
        "x_test = x_test / 255.0\n",
        "\n",
        "# Check shapes of x_train, y_train etc\n",
        "print(x_train.shape)\n",
        "print(y_train.shape)"
      ],
      "execution_count": 4,
      "outputs": [
        {
          "output_type": "stream",
          "text": [
            "(60000, 28, 28, 1)\n",
            "(60000,)\n"
          ],
          "name": "stdout"
        }
      ]
    },
    {
      "metadata": {
        "id": "ciSTm1zha2ki",
        "colab_type": "text"
      },
      "cell_type": "markdown",
      "source": [
        "## Define model"
      ]
    },
    {
      "metadata": {
        "id": "TaDftcAUZgj9",
        "colab_type": "code",
        "colab": {
          "base_uri": "https://localhost:8080/",
          "height": 34
        },
        "outputId": "34e86afb-829c-4d33-9aa4-068cd5f719cf"
      },
      "cell_type": "code",
      "source": [
        "# We will use a sequential model https://keras.io/getting-started/sequential-model-guide/\n",
        "from keras.models import Sequential                  # import sequential model\n",
        "from keras.layers import Dense, Activation, Flatten, Conv2D  # import Dense, Flatten layer types, Activation\n",
        "from keras.optimizers import Adam, Adadelta\n",
        "\n",
        "def create_model(input_shape):\n",
        "  model = Sequential()\n",
        "  model.add(Conv2D(512, kernel_size=(3, 3), strides=(1, 1),\n",
        "                   activation='relu',\n",
        "                   input_shape=input_shape))\n",
        "  model.add(Flatten())\n",
        "  model.add(Dense(10, activation='softmax'))\n",
        "  \n",
        "  # Compile the model with appropriate Loss function\n",
        "  model.compile(optimizer=Adam(), \n",
        "                loss='sparse_categorical_crossentropy',\n",
        "                metrics=['accuracy'])\n",
        "  return model"
      ],
      "execution_count": 6,
      "outputs": [
        {
          "output_type": "stream",
          "text": [
            "Using TensorFlow backend.\n"
          ],
          "name": "stderr"
        }
      ]
    },
    {
      "metadata": {
        "id": "QwFUcdCfa4Vs",
        "colab_type": "text"
      },
      "cell_type": "markdown",
      "source": [
        "## Fit model"
      ]
    },
    {
      "metadata": {
        "id": "jrXvLv4kjx-v",
        "colab_type": "code",
        "outputId": "fcea83dd-afac-463a-f3b8-5b2bee19fb52",
        "colab": {
          "base_uri": "https://localhost:8080/",
          "height": 1088
        }
      },
      "cell_type": "code",
      "source": [
        "### If resume_if_possible = True, fitting can resume using a model file. \n",
        "resume_if_possible = True \n",
        "\n",
        "### Set resume_if_possible = False to force fitting from scratch.\n",
        "#resume_if_possible = False \n",
        "\n",
        "epochs = 100\n",
        "log_file_path = 'training_log.csv'\n",
        "model_file_path = 'model_epoch{epoch:06d}.hdf5'\n",
        "\n",
        "model_file_list = glob.glob('model_epoch*.hdf5')\n",
        "log_file_list = glob.glob(log_file_path)\n",
        "\n",
        "if resume_if_possible:\n",
        "  resume_flag = (len(model_file_list) >= 1) \n",
        "  \n",
        "if not resume_if_possible:\n",
        "  resume_flag = False\n",
        "  for f in model_file_list:\n",
        "    os.remove(f)\n",
        "\n",
        "if resume_flag:\n",
        "  latest_model_file = model_file_list[-1]\n",
        "  latest_epoch = int(latest_model_file[len('model_epoch'):-len('.hdf5')])\n",
        "  ## Load the saved model\n",
        "  model = keras.models.load_model(latest_model_file)\n",
        "\n",
        "  score = model.evaluate(x_test,y_test, verbose=0)\n",
        "  print('Use {} to resume fitting. \\nTest loss: {}   Test accuracy: {}'.format(latest_model_file, score[0], score[1]))\n",
        "\n",
        "  if len(model_file_list) >= 2:\n",
        "    ## Delete all model files excpet the latest to save space\n",
        "    for f in model_file_list[:-1]:\n",
        "      os.remove(f)\n",
        "\n",
        "if not resume_flag:\n",
        "  latest_epoch = 0\n",
        "  ## Create a basic model instance\n",
        "  model = create_model(input_shape)\n",
        "  for f in log_file_list:\n",
        "    os.remove(f)\n",
        "\n",
        "model.summary()\n",
        "\n",
        "## Create checkpoint callback\n",
        "check_point_ = tf.keras.callbacks.ModelCheckpoint(filepath = model_file_path, \n",
        "                                                 monitor = 'val_acc',\n",
        "                                                 verbose=1,\n",
        "                                                 save_best_only = True,\n",
        "                                                 mode='auto',\n",
        "                                                 save_weights_only=False,\n",
        "                                                 period = 1)\n",
        "\n",
        "## Create early stopping callback\n",
        "early_stopping_ = tf.keras.callbacks.EarlyStopping(monitor='val_acc', \n",
        "                                                   min_delta=0, \n",
        "                                                   patience=5, \n",
        "                                                   verbose=1, \n",
        "                                                   mode='auto', \n",
        "                                                   baseline=None)\n",
        "\n",
        "## Create CSV logger callback\n",
        "csv_logger_ = tf.keras.callbacks.CSVLogger(filename = log_file_path, separator=',',\n",
        "                                           append = resume_flag)\n",
        "\n",
        "## Fit \n",
        "model.fit(x_train, y_train, epochs = epochs, initial_epoch = latest_epoch,\n",
        "          validation_data = (x_test,y_test), shuffle = True,\n",
        "          callbacks = [check_point_, early_stopping_, csv_logger_])\n",
        "\n",
        "## Remove duplicates as save_best_only option of checkpoint is set to True.\n",
        "pd.options.display.max_rows = 8\n",
        "log_df = pd.read_csv(log_file_path)\n",
        "log_wo_dup_df = log_df.drop_duplicates(subset = ['epoch'], keep='last').reset_index(drop=True)\n",
        "log_wo_dup_df.to_csv((log_file_path[:-len('.csv')] + '_processed.csv'), index=False)"
      ],
      "execution_count": 8,
      "outputs": [
        {
          "output_type": "stream",
          "text": [
            "_________________________________________________________________\n",
            "Layer (type)                 Output Shape              Param #   \n",
            "=================================================================\n",
            "conv2d_1 (Conv2D)            (None, 26, 26, 512)       5120      \n",
            "_________________________________________________________________\n",
            "flatten_1 (Flatten)          (None, 346112)            0         \n",
            "_________________________________________________________________\n",
            "dense_1 (Dense)              (None, 10)                3461130   \n",
            "=================================================================\n",
            "Total params: 3,466,250\n",
            "Trainable params: 3,466,250\n",
            "Non-trainable params: 0\n",
            "_________________________________________________________________\n",
            "Train on 60000 samples, validate on 10000 samples\n",
            "Epoch 1/100\n",
            "60000/60000 [==============================] - 51s 845us/step - loss: 0.1294 - acc: 0.9610 - val_loss: 0.0801 - val_acc: 0.9750\n",
            "\n",
            "Epoch 00001: val_acc improved from -inf to 0.97500, saving model to model_epoch000001.hdf5\n",
            "Epoch 2/100\n",
            "60000/60000 [==============================] - 46s 762us/step - loss: 0.0517 - acc: 0.9841 - val_loss: 0.0631 - val_acc: 0.9808\n",
            "\n",
            "Epoch 00002: val_acc improved from 0.97500 to 0.98080, saving model to model_epoch000002.hdf5\n",
            "Epoch 3/100\n",
            "60000/60000 [==============================] - 46s 760us/step - loss: 0.0312 - acc: 0.9902 - val_loss: 0.0667 - val_acc: 0.9801\n",
            "\n",
            "Epoch 00003: val_acc did not improve from 0.98080\n",
            "Epoch 4/100\n",
            "60000/60000 [==============================] - 46s 759us/step - loss: 0.0196 - acc: 0.9935 - val_loss: 0.0755 - val_acc: 0.9794\n",
            "\n",
            "Epoch 00004: val_acc did not improve from 0.98080\n",
            "Epoch 5/100\n",
            "60000/60000 [==============================] - 45s 754us/step - loss: 0.0138 - acc: 0.9952 - val_loss: 0.0749 - val_acc: 0.9805\n",
            "\n",
            "Epoch 00005: val_acc did not improve from 0.98080\n",
            "Epoch 6/100\n",
            "60000/60000 [==============================] - 44s 741us/step - loss: 0.0097 - acc: 0.9969 - val_loss: 0.0836 - val_acc: 0.9813\n",
            "\n",
            "Epoch 00006: val_acc improved from 0.98080 to 0.98130, saving model to model_epoch000006.hdf5\n",
            "Epoch 7/100\n",
            "60000/60000 [==============================] - 45s 743us/step - loss: 0.0082 - acc: 0.9971 - val_loss: 0.0878 - val_acc: 0.9837\n",
            "\n",
            "Epoch 00007: val_acc improved from 0.98130 to 0.98370, saving model to model_epoch000007.hdf5\n",
            "Epoch 8/100\n",
            "60000/60000 [==============================] - 45s 749us/step - loss: 0.0069 - acc: 0.9975 - val_loss: 0.0969 - val_acc: 0.9823\n",
            "\n",
            "Epoch 00008: val_acc did not improve from 0.98370\n",
            "Epoch 9/100\n",
            "60000/60000 [==============================] - 45s 753us/step - loss: 0.0043 - acc: 0.9987 - val_loss: 0.1058 - val_acc: 0.9816\n",
            "\n",
            "Epoch 00009: val_acc did not improve from 0.98370\n",
            "Epoch 10/100\n",
            "60000/60000 [==============================] - 45s 751us/step - loss: 0.0051 - acc: 0.9981 - val_loss: 0.1167 - val_acc: 0.9802\n",
            "\n",
            "Epoch 00010: val_acc did not improve from 0.98370\n",
            "Epoch 11/100\n",
            "60000/60000 [==============================] - 45s 746us/step - loss: 0.0036 - acc: 0.9988 - val_loss: 0.1124 - val_acc: 0.9800\n",
            "\n",
            "Epoch 00011: val_acc did not improve from 0.98370\n",
            "Epoch 12/100\n",
            "60000/60000 [==============================] - 45s 744us/step - loss: 0.0044 - acc: 0.9985 - val_loss: 0.1167 - val_acc: 0.9812\n",
            "\n",
            "Epoch 00012: val_acc did not improve from 0.98370\n",
            "Epoch 00012: early stopping\n"
          ],
          "name": "stdout"
        }
      ]
    },
    {
      "metadata": {
        "id": "ZmuS2cYrjPiz",
        "colab_type": "code",
        "colab": {}
      },
      "cell_type": "code",
      "source": [
        "### Clean up\n",
        "model_file_list = glob.glob('model_epoch*.hdf5')  \n",
        "if len(model_file_list) >= 2:\n",
        "  ## Delete all model files excpet the latest one to save space\n",
        "  for f in model_file_list[:-1]:\n",
        "    os.remove(f)"
      ],
      "execution_count": 0,
      "outputs": []
    },
    {
      "metadata": {
        "id": "R4CIfQhOYmi8",
        "colab_type": "code",
        "outputId": "6c035be5-48c6-4d17-8fd4-1e46c2932d6a",
        "colab": {
          "base_uri": "https://localhost:8080/",
          "height": 1062
        }
      },
      "cell_type": "code",
      "source": [
        "display(log_wo_dup_df)\n",
        "log_wo_dup_df[['epoch', 'acc', 'val_acc']].plot(x='epoch')\n",
        "log_wo_dup_df[['epoch', 'loss', 'val_loss']].plot(x='epoch')"
      ],
      "execution_count": 10,
      "outputs": [
        {
          "output_type": "display_data",
          "data": {
            "text/html": [
              "<div>\n",
              "<style scoped>\n",
              "    .dataframe tbody tr th:only-of-type {\n",
              "        vertical-align: middle;\n",
              "    }\n",
              "\n",
              "    .dataframe tbody tr th {\n",
              "        vertical-align: top;\n",
              "    }\n",
              "\n",
              "    .dataframe thead th {\n",
              "        text-align: right;\n",
              "    }\n",
              "</style>\n",
              "<table border=\"1\" class=\"dataframe\">\n",
              "  <thead>\n",
              "    <tr style=\"text-align: right;\">\n",
              "      <th></th>\n",
              "      <th>epoch</th>\n",
              "      <th>acc</th>\n",
              "      <th>loss</th>\n",
              "      <th>val_acc</th>\n",
              "      <th>val_loss</th>\n",
              "    </tr>\n",
              "  </thead>\n",
              "  <tbody>\n",
              "    <tr>\n",
              "      <th>0</th>\n",
              "      <td>0</td>\n",
              "      <td>0.960967</td>\n",
              "      <td>0.129437</td>\n",
              "      <td>0.9750</td>\n",
              "      <td>0.080114</td>\n",
              "    </tr>\n",
              "    <tr>\n",
              "      <th>1</th>\n",
              "      <td>1</td>\n",
              "      <td>0.984133</td>\n",
              "      <td>0.051746</td>\n",
              "      <td>0.9808</td>\n",
              "      <td>0.063076</td>\n",
              "    </tr>\n",
              "    <tr>\n",
              "      <th>2</th>\n",
              "      <td>2</td>\n",
              "      <td>0.990200</td>\n",
              "      <td>0.031208</td>\n",
              "      <td>0.9801</td>\n",
              "      <td>0.066682</td>\n",
              "    </tr>\n",
              "    <tr>\n",
              "      <th>3</th>\n",
              "      <td>3</td>\n",
              "      <td>0.993517</td>\n",
              "      <td>0.019589</td>\n",
              "      <td>0.9794</td>\n",
              "      <td>0.075497</td>\n",
              "    </tr>\n",
              "    <tr>\n",
              "      <th>...</th>\n",
              "      <td>...</td>\n",
              "      <td>...</td>\n",
              "      <td>...</td>\n",
              "      <td>...</td>\n",
              "      <td>...</td>\n",
              "    </tr>\n",
              "    <tr>\n",
              "      <th>8</th>\n",
              "      <td>8</td>\n",
              "      <td>0.998717</td>\n",
              "      <td>0.004349</td>\n",
              "      <td>0.9816</td>\n",
              "      <td>0.105821</td>\n",
              "    </tr>\n",
              "    <tr>\n",
              "      <th>9</th>\n",
              "      <td>9</td>\n",
              "      <td>0.998150</td>\n",
              "      <td>0.005140</td>\n",
              "      <td>0.9802</td>\n",
              "      <td>0.116654</td>\n",
              "    </tr>\n",
              "    <tr>\n",
              "      <th>10</th>\n",
              "      <td>10</td>\n",
              "      <td>0.998783</td>\n",
              "      <td>0.003560</td>\n",
              "      <td>0.9800</td>\n",
              "      <td>0.112406</td>\n",
              "    </tr>\n",
              "    <tr>\n",
              "      <th>11</th>\n",
              "      <td>11</td>\n",
              "      <td>0.998483</td>\n",
              "      <td>0.004395</td>\n",
              "      <td>0.9812</td>\n",
              "      <td>0.116679</td>\n",
              "    </tr>\n",
              "  </tbody>\n",
              "</table>\n",
              "<p>12 rows × 5 columns</p>\n",
              "</div>"
            ],
            "text/plain": [
              "    epoch       acc      loss  val_acc  val_loss\n",
              "0       0  0.960967  0.129437   0.9750  0.080114\n",
              "1       1  0.984133  0.051746   0.9808  0.063076\n",
              "2       2  0.990200  0.031208   0.9801  0.066682\n",
              "3       3  0.993517  0.019589   0.9794  0.075497\n",
              "..    ...       ...       ...      ...       ...\n",
              "8       8  0.998717  0.004349   0.9816  0.105821\n",
              "9       9  0.998150  0.005140   0.9802  0.116654\n",
              "10     10  0.998783  0.003560   0.9800  0.112406\n",
              "11     11  0.998483  0.004395   0.9812  0.116679\n",
              "\n",
              "[12 rows x 5 columns]"
            ]
          },
          "metadata": {
            "tags": []
          }
        },
        {
          "output_type": "execute_result",
          "data": {
            "text/plain": [
              "<matplotlib.axes._subplots.AxesSubplot at 0x7fce044fbbe0>"
            ]
          },
          "metadata": {
            "tags": []
          },
          "execution_count": 10
        },
        {
          "output_type": "display_data",
          "data": {
            "image/png": "[encoded data removed]",
            "text/plain": [
              "<Figure size 576x396 with 1 Axes>"
            ]
          },
          "metadata": {
            "tags": []
          }
        },
        {
          "output_type": "display_data",
          "data": {
            "image/png": "[encoded data removed]",
            "text/plain": [
              "<Figure size 576x396 with 1 Axes>"
            ]
          },
          "metadata": {
            "tags": []
          }
        }
      ]
    },
    {
      "metadata": {
        "id": "K8zre0uERDU2",
        "colab_type": "text"
      },
      "cell_type": "markdown",
      "source": [
        "References:\n",
        "\n",
        "\n",
        "https://keras.io/callbacks/\n",
        "\n",
        "https://www.tensorflow.org/api_docs/python/tf/keras/callbacks/ModelCheckpoint"
      ]
    },
    {
      "metadata": {
        "id": "Hi_bGHxFX_Qs",
        "colab_type": "code",
        "colab": {}
      },
      "cell_type": "code",
      "source": [
        ""
      ],
      "execution_count": 0,
      "outputs": []
    }
  ]
}