{
  "nbformat": 4,
  "nbformat_minor": 0,
  "metadata": {
    "colab": {
      "name": "keras_fit_with_callbacks_mnist.ipynb",
      "version": "0.3.2",
      "provenance": [],
      "collapsed_sections": []
    },
    "kernelspec": {
      "name": "python3",
      "display_name": "Python 3"
    },
    "accelerator": "GPU"
  },
  "cells": [
    {
      "metadata": {
        "id": "vRgMOgH-ajJW",
        "colab_type": "text"
      },
      "cell_type": "markdown",
      "source": [
        "## Set up Google Colab environment"
      ]
    },
    {
      "metadata": {
        "id": "7F29nuHfiiUA",
        "colab_type": "code",
        "outputId": "795782d7-d8dd-4213-fbae-5f43ee8f8a79",
        "colab": {
          "base_uri": "https://localhost:8080/",
          "height": 122
        }
      },
      "cell_type": "code",
      "source": [
        "### Set colaboratory True to run in Google Colaboratory. \n",
        "colab = True\n",
        "\n",
        "if colab:\n",
        "  from google.colab import drive\n",
        "  drive.mount('/content/drive')\n",
        "  import os\n",
        "  ## Specify a directory in Google Drive\n",
        "  dir = '/content/drive/My Drive/Colab Notebooks/Keras_Dense_Only_MNIST'\n",
        "  os.chdir(dir)\n",
        "  #os.getcwd()\n",
        "  #os.listdir()"
      ],
      "execution_count": 0,
      "outputs": [
        {
          "output_type": "stream",
          "text": [
            "Go to this URL in a browser: https://accounts.google.com/o/oauth2/auth?client_id=947318989803-6bn6qk8qdgf4n4g3pfee6491hc0brc4i.apps.googleusercontent.com&redirect_uri=urn%3Aietf%3Awg%3Aoauth%3A2.0%3Aoob&scope=email%20https%3A%2F%2Fwww.googleapis.com%2Fauth%2Fdocs.test%20https%3A%2F%2Fwww.googleapis.com%2Fauth%2Fdrive%20https%3A%2F%2Fwww.googleapis.com%2Fauth%2Fdrive.photos.readonly%20https%3A%2F%2Fwww.googleapis.com%2Fauth%2Fpeopleapi.readonly&response_type=code\n",
            "\n",
            "Enter your authorization code:\n",
            "··········\n",
            "Mounted at /content/drive\n"
          ],
          "name": "stdout"
        }
      ]
    },
    {
      "metadata": {
        "id": "As19XFC8jE-g",
        "colab_type": "code",
        "outputId": "6674c54d-89f3-4305-a2cd-7765fe726968",
        "colab": {
          "base_uri": "https://localhost:8080/",
          "height": 340
        }
      },
      "cell_type": "code",
      "source": [
        "if colab:\n",
        "  ## Check the uptime. (Google Colab reboots every 12 hours)\n",
        "  !cat /proc/uptime | awk '{print \"Uptime is \" $1 /60 /60 \" hours (\" $1 \" sec)\"}'\n",
        "  ## Check the GPU info\n",
        "  !nvidia-smi\n",
        "  ## Check the Python version\n",
        "  !python --version"
      ],
      "execution_count": 0,
      "outputs": [
        {
          "output_type": "stream",
          "text": [
            "Uptime is 0.0258833 hours (93.18 sec)\n",
            "Sun Jan 27 08:47:44 2019       \n",
            "+-----------------------------------------------------------------------------+\n",
            "| NVIDIA-SMI 396.44                 Driver Version: 396.44                    |\n",
            "|-------------------------------+----------------------+----------------------+\n",
            "| GPU  Name        Persistence-M| Bus-Id        Disp.A | Volatile Uncorr. ECC |\n",
            "| Fan  Temp  Perf  Pwr:Usage/Cap|         Memory-Usage | GPU-Util  Compute M. |\n",
            "|===============================+======================+======================|\n",
            "|   0  Tesla K80           Off  | 00000000:00:04.0 Off |                    0 |\n",
            "| N/A   37C    P8    25W / 149W |      0MiB / 11441MiB |      0%      Default |\n",
            "+-------------------------------+----------------------+----------------------+\n",
            "                                                                               \n",
            "+-----------------------------------------------------------------------------+\n",
            "| Processes:                                                       GPU Memory |\n",
            "|  GPU       PID   Type   Process name                             Usage      |\n",
            "|=============================================================================|\n",
            "|  No running processes found                                                 |\n",
            "+-----------------------------------------------------------------------------+\n",
            "Python 3.6.7\n"
          ],
          "name": "stdout"
        }
      ]
    },
    {
      "metadata": {
        "id": "KN-GFrsvarFB",
        "colab_type": "text"
      },
      "cell_type": "markdown",
      "source": [
        "## Import modules"
      ]
    },
    {
      "metadata": {
        "id": "HZ219oTUjJXf",
        "colab_type": "code",
        "outputId": "bb84c809-8693-44d6-cdd7-003dfe2b19bf",
        "colab": {
          "base_uri": "https://localhost:8080/",
          "height": 34
        }
      },
      "cell_type": "code",
      "source": [
        "import os\n",
        "import glob\n",
        "import numpy as np\n",
        "import pandas as pd\n",
        "from IPython.display import display\n",
        "import matplotlib.pyplot as plt\n",
        "\n",
        "import tensorflow as tf\n",
        "from tensorflow import keras\n",
        "\n",
        "tf.__version__"
      ],
      "execution_count": 0,
      "outputs": [
        {
          "output_type": "execute_result",
          "data": {
            "text/plain": [
              "'1.12.0'"
            ]
          },
          "metadata": {
            "tags": []
          },
          "execution_count": 3
        }
      ]
    },
    {
      "metadata": {
        "id": "MpoVWvOdxUgf",
        "colab_type": "text"
      },
      "cell_type": "markdown",
      "source": [
        "## Set up data"
      ]
    },
    {
      "metadata": {
        "id": "65zkKSbQ3Jnc",
        "colab_type": "code",
        "outputId": "0356ee7b-ae4c-4ccb-b3df-919f1b142c44",
        "colab": {
          "base_uri": "https://localhost:8080/",
          "height": 51
        }
      },
      "cell_type": "code",
      "source": [
        "(x_train, y_train), (x_test, y_test) = tf.keras.datasets.mnist.load_data()\n",
        "\n",
        "y_train = y_train[:1000]\n",
        "y_test = y_test[:1000]\n",
        "\n",
        "x_train = x_train[:1000].reshape(-1, 28 * 28) / 255.0\n",
        "x_test = x_test[:1000].reshape(-1, 28 * 28) / 255.0\n",
        "\n",
        "input_shape = (28 * 28,)"
      ],
      "execution_count": 0,
      "outputs": [
        {
          "output_type": "stream",
          "text": [
            "Downloading data from https://storage.googleapis.com/tensorflow/tf-keras-datasets/mnist.npz\n",
            "11493376/11490434 [==============================] - 0s 0us/step\n"
          ],
          "name": "stdout"
        }
      ]
    },
    {
      "metadata": {
        "id": "ciSTm1zha2ki",
        "colab_type": "text"
      },
      "cell_type": "markdown",
      "source": [
        "## Set up model"
      ]
    },
    {
      "metadata": {
        "id": "k8pNftRxLT1i",
        "colab_type": "code",
        "colab": {}
      },
      "cell_type": "code",
      "source": [
        "# Returns a short sequential model\n",
        "def create_model(input_shape):\n",
        "  model = tf.keras.models.Sequential([\n",
        "    keras.layers.Dense(512, activation=tf.keras.activations.relu, input_shape=input_shape),\n",
        "    keras.layers.Dropout(0.2),\n",
        "    keras.layers.Dense(10, activation=tf.keras.activations.softmax)\n",
        "  ])\n",
        "  \n",
        "  model.compile(optimizer='adam', \n",
        "                loss=tf.keras.losses.sparse_categorical_crossentropy,\n",
        "                metrics=['accuracy'])\n",
        "  return model"
      ],
      "execution_count": 0,
      "outputs": []
    },
    {
      "metadata": {
        "id": "QwFUcdCfa4Vs",
        "colab_type": "text"
      },
      "cell_type": "markdown",
      "source": [
        "## Fit model"
      ]
    },
    {
      "metadata": {
        "id": "jrXvLv4kjx-v",
        "colab_type": "code",
        "outputId": "6635f1a0-b777-4765-e202-550e9cedea67",
        "colab": {
          "base_uri": "https://localhost:8080/",
          "height": 1156
        }
      },
      "cell_type": "code",
      "source": [
        "### If resume_if_possible = True, fitting can resume using a model file. \n",
        "resume_if_possible = True \n",
        "\n",
        "### Set resume_if_possible = False to force fitting from scratch.\n",
        "# resume_if_possible = False \n",
        "\n",
        "batch_size = 64\n",
        "epochs = 100\n",
        "\n",
        "model_file_path = 'model_epoch{epoch:06d}.hdf5'\n",
        "log_file_path = 'training_log.csv'\n",
        "\n",
        "model_file_list = glob.glob('model_epoch*.hdf5')\n",
        "# print('Model file found: ', model_file_list)\n",
        "log_file_list = glob.glob(log_file_path)\n",
        "# print('Log file found:', log_file_list)\n",
        "\n",
        "resume_flag \\\n",
        "  = resume_if_possible \\\n",
        "    and (len(model_file_list) >= 1) \\\n",
        "    and (len(log_file_list) >= 1)\n",
        "  \n",
        "if resume_flag:\n",
        "  latest_model_file = model_file_list[-1]\n",
        "  latest_epoch = int(latest_model_file[len('model_epoch'):-len('.hdf5')])\n",
        "  ## Delete all model files excpet the latest to save space  \n",
        "  if len(model_file_list) >= 2:\n",
        "    for f in model_file_list[:-1]:\n",
        "      os.remove(f)    \n",
        "  ## Remove rows after the epoch of the latest saved model \n",
        "  ## (needed because save_best_only option of checkpoint is set to True.)\n",
        "  with open(log_file_path, 'r') as f:\n",
        "    lines = f.readlines()\n",
        "  with open(log_file_path, 'w') as f:\n",
        "    f.writelines(lines[:(latest_epoch+1)])     \n",
        "  ## Load the saved model\n",
        "  model = keras.models.load_model(latest_model_file)\n",
        "  print('Use {} to resume fitting.'.format(latest_model_file))\n",
        "\n",
        "if not resume_flag:\n",
        "  latest_epoch = 0\n",
        "  ## Delete all model files and the log file if they exist.\n",
        "  for f in model_file_list:\n",
        "    os.remove(f)\n",
        "  for f in log_file_list:\n",
        "    os.remove(f)  \n",
        "  ## Create a basic model instance\n",
        "  model = create_model(input_shape)\n",
        "  print('Model created.')\n",
        "\n",
        "model.summary()\n",
        "\n",
        "## Create checkpoint callback\n",
        "check_point_ = tf.keras.callbacks.ModelCheckpoint(filepath = model_file_path, \n",
        "                                                 monitor = 'val_acc',\n",
        "                                                 verbose = 1,\n",
        "                                                 save_best_only = True,\n",
        "                                                 mode = 'auto',\n",
        "                                                 save_weights_only = False,\n",
        "                                                 period = 1)\n",
        "\n",
        "import time          \n",
        "class CompTime(keras.callbacks.Callback):\n",
        "    def on_epoch_begin(self, batch, logs={}):\n",
        "        self.epoch_time_start = time.time()\n",
        "    def on_epoch_end(self, batch, logs={}):\n",
        "        comp_time = time.time() - self.epoch_time_start\n",
        "        logs['Comp_time'] = comp_time\n",
        "        print('Computation time: {} sec'.format(comp_time))\n",
        "        cum_comp_time_prev = 0.0\n",
        "        try:\n",
        "          log_df = pd.read_csv(log_file_path)\n",
        "          if log_df.shape[0] >= 1:\n",
        "            cum_comp_time_prev = float(log_df.iloc[-1]['Cum_comp_time'])\n",
        "        except:\n",
        "          print('Failed to read the previous cumulative computation time, but continue training.')\n",
        "        logs['Cum_comp_time'] = cum_comp_time_prev + comp_time\n",
        "\n",
        "comp_time_ = CompTime()\n",
        "\n",
        "## Create CSV logger callback\n",
        "csv_logger_ = tf.keras.callbacks.CSVLogger(filename = log_file_path, separator=',',\n",
        "                                           append = resume_flag)\n",
        "\n",
        "class CSVLogCleanup(keras.callbacks.Callback):\n",
        "  def on_epoch_end(self, batch, logs={}):\n",
        "    ## Clean up model files\n",
        "    model_file_list = glob.glob('model_epoch*.hdf5')\n",
        "    ## Delete all model files excpet the latest one to save space\n",
        "    if len(model_file_list) >= 2:\n",
        "      for f in model_file_list[:-1]:\n",
        "        os.remove(f)\n",
        "csv_log_cleanup_ = CSVLogCleanup()\n",
        "        \n",
        "## Create early stopping callback\n",
        "early_stopping_ = tf.keras.callbacks.EarlyStopping(monitor='val_acc', \n",
        "                                                   min_delta=0, \n",
        "                                                   patience=5, \n",
        "                                                   verbose=1, \n",
        "                                                   mode='auto', \n",
        "                                                   baseline=None)\n",
        "\n",
        "## Fit \n",
        "model.fit(x_train, y_train, batch_size = batch_size, epochs = epochs, initial_epoch = latest_epoch,\n",
        "          validation_data = (x_test,y_test), shuffle = True,\n",
        "          callbacks = [check_point_, comp_time_, csv_logger_, csv_log_cleanup_, early_stopping_])"
      ],
      "execution_count": 0,
      "outputs": [
        {
          "output_type": "stream",
          "text": [
            "Use model_epoch000020.hdf5 to resume fitting.\n",
            "_________________________________________________________________\n",
            "Layer (type)                 Output Shape              Param #   \n",
            "=================================================================\n",
            "dense_2 (Dense)              (None, 512)               401920    \n",
            "_________________________________________________________________\n",
            "dropout_1 (Dropout)          (None, 512)               0         \n",
            "_________________________________________________________________\n",
            "dense_3 (Dense)              (None, 10)                5130      \n",
            "=================================================================\n",
            "Total params: 407,050\n",
            "Trainable params: 407,050\n",
            "Non-trainable params: 0\n",
            "_________________________________________________________________\n",
            "Train on 1000 samples, validate on 1000 samples\n",
            "Epoch 21/100\n",
            " 832/1000 [=======================>......] - ETA: 0s - loss: 0.0141 - acc: 1.0000\n",
            "Epoch 00021: val_acc improved from -inf to 0.87000, saving model to model_epoch000021.hdf5\n",
            "Computation time: 0.5775589942932129 sec\n",
            "1000/1000 [==============================] - 1s 586us/step - loss: 0.0139 - acc: 1.0000 - val_loss: 0.4303 - val_acc: 0.8700\n",
            "Epoch 22/100\n",
            " 832/1000 [=======================>......] - ETA: 0s - loss: 0.0133 - acc: 1.0000\n",
            "Epoch 00022: val_acc improved from 0.87000 to 0.87100, saving model to model_epoch000022.hdf5\n",
            "Computation time: 0.14098191261291504 sec\n",
            "1000/1000 [==============================] - 0s 147us/step - loss: 0.0133 - acc: 1.0000 - val_loss: 0.4357 - val_acc: 0.8710\n",
            "Epoch 23/100\n",
            " 832/1000 [=======================>......] - ETA: 0s - loss: 0.0131 - acc: 1.0000\n",
            "Epoch 00023: val_acc improved from 0.87100 to 0.87200, saving model to model_epoch000023.hdf5\n",
            "Computation time: 0.14667248725891113 sec\n",
            "1000/1000 [==============================] - 0s 155us/step - loss: 0.0131 - acc: 1.0000 - val_loss: 0.4259 - val_acc: 0.8720\n",
            "Epoch 24/100\n",
            " 896/1000 [=========================>....] - ETA: 0s - loss: 0.0114 - acc: 1.0000\n",
            "Epoch 00024: val_acc did not improve from 0.87200\n",
            "Computation time: 0.09558582305908203 sec\n",
            "1000/1000 [==============================] - 0s 100us/step - loss: 0.0114 - acc: 1.0000 - val_loss: 0.4324 - val_acc: 0.8690\n",
            "Epoch 25/100\n",
            " 832/1000 [=======================>......] - ETA: 0s - loss: 0.0105 - acc: 1.0000\n",
            "Epoch 00025: val_acc improved from 0.87200 to 0.87500, saving model to model_epoch000025.hdf5\n",
            "Computation time: 0.14382314682006836 sec\n",
            "1000/1000 [==============================] - 0s 152us/step - loss: 0.0105 - acc: 1.0000 - val_loss: 0.4380 - val_acc: 0.8750\n",
            "Epoch 26/100\n",
            " 896/1000 [=========================>....] - ETA: 0s - loss: 0.0088 - acc: 1.0000\n",
            "Epoch 00026: val_acc did not improve from 0.87500\n",
            "Computation time: 0.10598945617675781 sec\n",
            "1000/1000 [==============================] - 0s 111us/step - loss: 0.0088 - acc: 1.0000 - val_loss: 0.4334 - val_acc: 0.8720\n",
            "Epoch 27/100\n",
            " 896/1000 [=========================>....] - ETA: 0s - loss: 0.0081 - acc: 1.0000\n",
            "Epoch 00027: val_acc did not improve from 0.87500\n",
            "Computation time: 0.1048288345336914 sec\n",
            "1000/1000 [==============================] - 0s 110us/step - loss: 0.0086 - acc: 1.0000 - val_loss: 0.4353 - val_acc: 0.8730\n",
            "Epoch 28/100\n",
            " 896/1000 [=========================>....] - ETA: 0s - loss: 0.0091 - acc: 1.0000\n",
            "Epoch 00028: val_acc did not improve from 0.87500\n",
            "Computation time: 0.1011667251586914 sec\n",
            "1000/1000 [==============================] - 0s 106us/step - loss: 0.0087 - acc: 1.0000 - val_loss: 0.4523 - val_acc: 0.8660\n",
            "Epoch 29/100\n",
            " 832/1000 [=======================>......] - ETA: 0s - loss: 0.0081 - acc: 1.0000\n",
            "Epoch 00029: val_acc did not improve from 0.87500\n",
            "Computation time: 0.11550617218017578 sec\n",
            "1000/1000 [==============================] - 0s 119us/step - loss: 0.0080 - acc: 1.0000 - val_loss: 0.4429 - val_acc: 0.8660\n",
            "Epoch 30/100\n",
            " 832/1000 [=======================>......] - ETA: 0s - loss: 0.0069 - acc: 1.0000\n",
            "Epoch 00030: val_acc did not improve from 0.87500\n",
            "Computation time: 0.1011967658996582 sec\n",
            "1000/1000 [==============================] - 0s 107us/step - loss: 0.0071 - acc: 1.0000 - val_loss: 0.4505 - val_acc: 0.8690\n",
            "Epoch 00030: early stopping\n"
          ],
          "name": "stdout"
        },
        {
          "output_type": "execute_result",
          "data": {
            "text/plain": [
              "<tensorflow.python.keras.callbacks.History at 0x7f49b105fda0>"
            ]
          },
          "metadata": {
            "tags": []
          },
          "execution_count": 15
        }
      ]
    },
    {
      "metadata": {
        "id": "BExHwp6rYaZ3",
        "colab_type": "code",
        "outputId": "793e9691-792d-42a0-bb56-120102930a22",
        "colab": {
          "base_uri": "https://localhost:8080/",
          "height": 1901
        }
      },
      "cell_type": "code",
      "source": [
        "## Show the results\n",
        "if os.path.isfile(log_file_path):\n",
        "  log_df = pd.read_csv(log_file_path)\n",
        "  log_df.set_index('epoch')[['acc', 'val_acc']].plot(style='.-', title='Accuracy vs Epoch')\n",
        "  plt.show()\n",
        "  log_df.set_index('epoch')[['loss', 'val_loss']].plot(style='.-', title='Loss vs Epoch')\n",
        "  plt.show()\n",
        "  log_df.set_index('epoch')[['Comp_time', 'Cum_comp_time']].plot(style='.-', title='Computation Time (sec) vs Epoch')\n",
        "  plt.show()\n",
        "  # pd.options.display.max_rows = 8\n",
        "  display(log_df)"
      ],
      "execution_count": 0,
      "outputs": [
        {
          "output_type": "display_data",
          "data": {
            "image/png": "[encoded data removed]",
            "text/plain": [
              "<Figure size 576x396 with 1 Axes>"
            ]
          },
          "metadata": {
            "tags": []
          }
        },
        {
          "output_type": "display_data",
          "data": {
            "image/png": "[encoded data removed]",
            "text/plain": [
              "<Figure size 576x396 with 1 Axes>"
            ]
          },
          "metadata": {
            "tags": []
          }
        },
        {
          "output_type": "display_data",
          "data": {
            "image/png": "[encoded data removed]",
            "text/plain": [
              "<Figure size 576x396 with 1 Axes>"
            ]
          },
          "metadata": {
            "tags": []
          }
        },
        {
          "output_type": "display_data",
          "data": {
            "text/html": [
              "<div>\n",
              "<style scoped>\n",
              "    .dataframe tbody tr th:only-of-type {\n",
              "        vertical-align: middle;\n",
              "    }\n",
              "\n",
              "    .dataframe tbody tr th {\n",
              "        vertical-align: top;\n",
              "    }\n",
              "\n",
              "    .dataframe thead th {\n",
              "        text-align: right;\n",
              "    }\n",
              "</style>\n",
              "<table border=\"1\" class=\"dataframe\">\n",
              "  <thead>\n",
              "    <tr style=\"text-align: right;\">\n",
              "      <th></th>\n",
              "      <th>epoch</th>\n",
              "      <th>Comp_time</th>\n",
              "      <th>Cum_comp_time</th>\n",
              "      <th>acc</th>\n",
              "      <th>loss</th>\n",
              "      <th>val_acc</th>\n",
              "      <th>val_loss</th>\n",
              "    </tr>\n",
              "  </thead>\n",
              "  <tbody>\n",
              "    <tr>\n",
              "      <th>0</th>\n",
              "      <td>0</td>\n",
              "      <td>0.514335</td>\n",
              "      <td>0.514335</td>\n",
              "      <td>0.622</td>\n",
              "      <td>1.442627</td>\n",
              "      <td>0.747</td>\n",
              "      <td>0.930924</td>\n",
              "    </tr>\n",
              "    <tr>\n",
              "      <th>1</th>\n",
              "      <td>1</td>\n",
              "      <td>0.147509</td>\n",
              "      <td>0.661844</td>\n",
              "      <td>0.848</td>\n",
              "      <td>0.564710</td>\n",
              "      <td>0.803</td>\n",
              "      <td>0.640466</td>\n",
              "    </tr>\n",
              "    <tr>\n",
              "      <th>2</th>\n",
              "      <td>2</td>\n",
              "      <td>0.151006</td>\n",
              "      <td>0.812850</td>\n",
              "      <td>0.901</td>\n",
              "      <td>0.367463</td>\n",
              "      <td>0.829</td>\n",
              "      <td>0.514975</td>\n",
              "    </tr>\n",
              "    <tr>\n",
              "      <th>3</th>\n",
              "      <td>3</td>\n",
              "      <td>0.150533</td>\n",
              "      <td>0.963383</td>\n",
              "      <td>0.927</td>\n",
              "      <td>0.278845</td>\n",
              "      <td>0.843</td>\n",
              "      <td>0.484287</td>\n",
              "    </tr>\n",
              "    <tr>\n",
              "      <th>4</th>\n",
              "      <td>4</td>\n",
              "      <td>0.144896</td>\n",
              "      <td>1.108279</td>\n",
              "      <td>0.952</td>\n",
              "      <td>0.211997</td>\n",
              "      <td>0.851</td>\n",
              "      <td>0.468343</td>\n",
              "    </tr>\n",
              "    <tr>\n",
              "      <th>5</th>\n",
              "      <td>5</td>\n",
              "      <td>0.138690</td>\n",
              "      <td>1.246969</td>\n",
              "      <td>0.963</td>\n",
              "      <td>0.175145</td>\n",
              "      <td>0.864</td>\n",
              "      <td>0.428154</td>\n",
              "    </tr>\n",
              "    <tr>\n",
              "      <th>6</th>\n",
              "      <td>6</td>\n",
              "      <td>0.099452</td>\n",
              "      <td>1.346421</td>\n",
              "      <td>0.978</td>\n",
              "      <td>0.136108</td>\n",
              "      <td>0.860</td>\n",
              "      <td>0.427067</td>\n",
              "    </tr>\n",
              "    <tr>\n",
              "      <th>7</th>\n",
              "      <td>7</td>\n",
              "      <td>0.140976</td>\n",
              "      <td>1.487397</td>\n",
              "      <td>0.981</td>\n",
              "      <td>0.114223</td>\n",
              "      <td>0.867</td>\n",
              "      <td>0.416982</td>\n",
              "    </tr>\n",
              "    <tr>\n",
              "      <th>8</th>\n",
              "      <td>8</td>\n",
              "      <td>0.103140</td>\n",
              "      <td>1.590538</td>\n",
              "      <td>0.990</td>\n",
              "      <td>0.086595</td>\n",
              "      <td>0.865</td>\n",
              "      <td>0.413768</td>\n",
              "    </tr>\n",
              "    <tr>\n",
              "      <th>9</th>\n",
              "      <td>9</td>\n",
              "      <td>0.122007</td>\n",
              "      <td>1.712545</td>\n",
              "      <td>0.992</td>\n",
              "      <td>0.072633</td>\n",
              "      <td>0.867</td>\n",
              "      <td>0.412859</td>\n",
              "    </tr>\n",
              "    <tr>\n",
              "      <th>10</th>\n",
              "      <td>10</td>\n",
              "      <td>0.139923</td>\n",
              "      <td>1.852468</td>\n",
              "      <td>0.996</td>\n",
              "      <td>0.059222</td>\n",
              "      <td>0.870</td>\n",
              "      <td>0.406983</td>\n",
              "    </tr>\n",
              "    <tr>\n",
              "      <th>11</th>\n",
              "      <td>11</td>\n",
              "      <td>0.095275</td>\n",
              "      <td>1.947744</td>\n",
              "      <td>0.999</td>\n",
              "      <td>0.048405</td>\n",
              "      <td>0.870</td>\n",
              "      <td>0.409589</td>\n",
              "    </tr>\n",
              "    <tr>\n",
              "      <th>12</th>\n",
              "      <td>12</td>\n",
              "      <td>0.138537</td>\n",
              "      <td>2.086281</td>\n",
              "      <td>0.999</td>\n",
              "      <td>0.042082</td>\n",
              "      <td>0.871</td>\n",
              "      <td>0.406088</td>\n",
              "    </tr>\n",
              "    <tr>\n",
              "      <th>13</th>\n",
              "      <td>13</td>\n",
              "      <td>0.146374</td>\n",
              "      <td>2.232655</td>\n",
              "      <td>1.000</td>\n",
              "      <td>0.034658</td>\n",
              "      <td>0.874</td>\n",
              "      <td>0.406435</td>\n",
              "    </tr>\n",
              "    <tr>\n",
              "      <th>14</th>\n",
              "      <td>14</td>\n",
              "      <td>0.486052</td>\n",
              "      <td>2.718706</td>\n",
              "      <td>1.000</td>\n",
              "      <td>0.032634</td>\n",
              "      <td>0.869</td>\n",
              "      <td>0.423210</td>\n",
              "    </tr>\n",
              "    <tr>\n",
              "      <th>15</th>\n",
              "      <td>15</td>\n",
              "      <td>0.095963</td>\n",
              "      <td>2.814669</td>\n",
              "      <td>1.000</td>\n",
              "      <td>0.027327</td>\n",
              "      <td>0.869</td>\n",
              "      <td>0.423718</td>\n",
              "    </tr>\n",
              "    <tr>\n",
              "      <th>16</th>\n",
              "      <td>16</td>\n",
              "      <td>0.095819</td>\n",
              "      <td>2.910489</td>\n",
              "      <td>1.000</td>\n",
              "      <td>0.023406</td>\n",
              "      <td>0.866</td>\n",
              "      <td>0.430597</td>\n",
              "    </tr>\n",
              "    <tr>\n",
              "      <th>17</th>\n",
              "      <td>17</td>\n",
              "      <td>0.141782</td>\n",
              "      <td>3.052271</td>\n",
              "      <td>1.000</td>\n",
              "      <td>0.020095</td>\n",
              "      <td>0.870</td>\n",
              "      <td>0.427717</td>\n",
              "    </tr>\n",
              "    <tr>\n",
              "      <th>18</th>\n",
              "      <td>18</td>\n",
              "      <td>0.151586</td>\n",
              "      <td>3.203857</td>\n",
              "      <td>1.000</td>\n",
              "      <td>0.018618</td>\n",
              "      <td>0.871</td>\n",
              "      <td>0.423477</td>\n",
              "    </tr>\n",
              "    <tr>\n",
              "      <th>19</th>\n",
              "      <td>19</td>\n",
              "      <td>0.145884</td>\n",
              "      <td>3.349741</td>\n",
              "      <td>1.000</td>\n",
              "      <td>0.018211</td>\n",
              "      <td>0.874</td>\n",
              "      <td>0.422369</td>\n",
              "    </tr>\n",
              "    <tr>\n",
              "      <th>20</th>\n",
              "      <td>20</td>\n",
              "      <td>0.107610</td>\n",
              "      <td>3.457350</td>\n",
              "      <td>1.000</td>\n",
              "      <td>0.015073</td>\n",
              "      <td>0.872</td>\n",
              "      <td>0.430375</td>\n",
              "    </tr>\n",
              "    <tr>\n",
              "      <th>21</th>\n",
              "      <td>21</td>\n",
              "      <td>0.108301</td>\n",
              "      <td>3.565652</td>\n",
              "      <td>1.000</td>\n",
              "      <td>0.014938</td>\n",
              "      <td>0.868</td>\n",
              "      <td>0.435896</td>\n",
              "    </tr>\n",
              "    <tr>\n",
              "      <th>22</th>\n",
              "      <td>22</td>\n",
              "      <td>0.103738</td>\n",
              "      <td>3.669390</td>\n",
              "      <td>1.000</td>\n",
              "      <td>0.011880</td>\n",
              "      <td>0.871</td>\n",
              "      <td>0.431840</td>\n",
              "    </tr>\n",
              "    <tr>\n",
              "      <th>23</th>\n",
              "      <td>23</td>\n",
              "      <td>0.113886</td>\n",
              "      <td>3.783276</td>\n",
              "      <td>1.000</td>\n",
              "      <td>0.010632</td>\n",
              "      <td>0.871</td>\n",
              "      <td>0.433830</td>\n",
              "    </tr>\n",
              "    <tr>\n",
              "      <th>24</th>\n",
              "      <td>24</td>\n",
              "      <td>0.111966</td>\n",
              "      <td>3.895242</td>\n",
              "      <td>1.000</td>\n",
              "      <td>0.009391</td>\n",
              "      <td>0.870</td>\n",
              "      <td>0.440658</td>\n",
              "    </tr>\n",
              "  </tbody>\n",
              "</table>\n",
              "</div>"
            ],
            "text/plain": [
              "    epoch  Comp_time  Cum_comp_time    acc      loss  val_acc  val_loss\n",
              "0       0   0.514335       0.514335  0.622  1.442627    0.747  0.930924\n",
              "1       1   0.147509       0.661844  0.848  0.564710    0.803  0.640466\n",
              "2       2   0.151006       0.812850  0.901  0.367463    0.829  0.514975\n",
              "3       3   0.150533       0.963383  0.927  0.278845    0.843  0.484287\n",
              "4       4   0.144896       1.108279  0.952  0.211997    0.851  0.468343\n",
              "5       5   0.138690       1.246969  0.963  0.175145    0.864  0.428154\n",
              "6       6   0.099452       1.346421  0.978  0.136108    0.860  0.427067\n",
              "7       7   0.140976       1.487397  0.981  0.114223    0.867  0.416982\n",
              "8       8   0.103140       1.590538  0.990  0.086595    0.865  0.413768\n",
              "9       9   0.122007       1.712545  0.992  0.072633    0.867  0.412859\n",
              "10     10   0.139923       1.852468  0.996  0.059222    0.870  0.406983\n",
              "11     11   0.095275       1.947744  0.999  0.048405    0.870  0.409589\n",
              "12     12   0.138537       2.086281  0.999  0.042082    0.871  0.406088\n",
              "13     13   0.146374       2.232655  1.000  0.034658    0.874  0.406435\n",
              "14     14   0.486052       2.718706  1.000  0.032634    0.869  0.423210\n",
              "15     15   0.095963       2.814669  1.000  0.027327    0.869  0.423718\n",
              "16     16   0.095819       2.910489  1.000  0.023406    0.866  0.430597\n",
              "17     17   0.141782       3.052271  1.000  0.020095    0.870  0.427717\n",
              "18     18   0.151586       3.203857  1.000  0.018618    0.871  0.423477\n",
              "19     19   0.145884       3.349741  1.000  0.018211    0.874  0.422369\n",
              "20     20   0.107610       3.457350  1.000  0.015073    0.872  0.430375\n",
              "21     21   0.108301       3.565652  1.000  0.014938    0.868  0.435896\n",
              "22     22   0.103738       3.669390  1.000  0.011880    0.871  0.431840\n",
              "23     23   0.113886       3.783276  1.000  0.010632    0.871  0.433830\n",
              "24     24   0.111966       3.895242  1.000  0.009391    0.870  0.440658"
            ]
          },
          "metadata": {
            "tags": []
          }
        }
      ]
    },
    {
      "metadata": {
        "id": "XcolUgqN4jxz",
        "colab_type": "code",
        "outputId": "0165e8eb-b287-43b2-85b7-f7e12d467472",
        "colab": {
          "base_uri": "https://localhost:8080/",
          "height": 68
        }
      },
      "cell_type": "code",
      "source": [
        "model_file_list = glob.glob('model_epoch*.hdf5')\n",
        "latest_model_file = model_file_list[-1]\n",
        "model = keras.models.load_model(latest_model_file)\n",
        "val_loss, val_acc = model.evaluate(x_test, y_test, verbose=0)\n",
        "print(\"Final Model:  {}  \\n  val_acc:  {:8.6f}\\n  val_loss: {:8.6f}\".format(latest_model_file, val_acc, val_loss))"
      ],
      "execution_count": 0,
      "outputs": [
        {
          "output_type": "stream",
          "text": [
            "Final Model:  model_epoch000020.hdf5  \n",
            "  val_acc:  0.874000\n",
            "  val_loss: 0.422369\n"
          ],
          "name": "stdout"
        }
      ]
    },
    {
      "metadata": {
        "id": "K8zre0uERDU2",
        "colab_type": "text"
      },
      "cell_type": "markdown",
      "source": [
        "References:\n",
        "\n",
        "\n",
        "https://keras.io/callbacks/\n",
        "\n",
        "https://www.tensorflow.org/api_docs/python/tf/keras/callbacks/ModelCheckpoint"
      ]
    }
  ]
}