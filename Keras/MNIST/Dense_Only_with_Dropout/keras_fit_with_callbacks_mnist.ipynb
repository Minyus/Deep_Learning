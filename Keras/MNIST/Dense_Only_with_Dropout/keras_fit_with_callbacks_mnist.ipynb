{
  "nbformat": 4,
  "nbformat_minor": 0,
  "metadata": {
    "colab": {
      "name": "keras_fit_with_callbacks_mnist.ipynb",
      "version": "0.3.2",
      "provenance": [],
      "collapsed_sections": []
    },
    "kernelspec": {
      "name": "python3",
      "display_name": "Python 3"
    },
    "accelerator": "GPU"
  },
  "cells": [
    {
      "metadata": {
        "id": "vRgMOgH-ajJW",
        "colab_type": "text"
      },
      "cell_type": "markdown",
      "source": [
        "## Set up Google Colab environment"
      ]
    },
    {
      "metadata": {
        "id": "7F29nuHfiiUA",
        "colab_type": "code",
        "outputId": "b9a9a91e-def4-4e8e-c0e8-f52f4217efda",
        "colab": {
          "base_uri": "https://localhost:8080/",
          "height": 34
        }
      },
      "cell_type": "code",
      "source": [
        "### Set colaboratory True to run in Google Colaboratory. \n",
        "colab = True\n",
        "\n",
        "if colab:\n",
        "  from google.colab import drive\n",
        "  drive.mount('/content/drive')\n",
        "  import os\n",
        "  ## Specify a directory in Google Drive\n",
        "  dir = '/content/drive/My Drive/Colab Notebooks/Keras_MNIST'\n",
        "  os.chdir(dir)\n",
        "  #os.getcwd()\n",
        "  #os.listdir()"
      ],
      "execution_count": 0,
      "outputs": [
        {
          "output_type": "stream",
          "text": [
            "Drive already mounted at /content/drive; to attempt to forcibly remount, call drive.mount(\"/content/drive\", force_remount=True).\n"
          ],
          "name": "stdout"
        }
      ]
    },
    {
      "metadata": {
        "id": "As19XFC8jE-g",
        "colab_type": "code",
        "outputId": "3dea096d-239d-4273-f3be-154a51279984",
        "colab": {
          "base_uri": "https://localhost:8080/",
          "height": 319
        }
      },
      "cell_type": "code",
      "source": [
        "if colab:\n",
        "  ## Check the uptime. (Google Colab reboots every 12 hours)\n",
        "  !cat /proc/uptime | awk '{print \"Uptime is \" $1 /60 /60 \" hours (\" $1 \" sec)\"}'\n",
        "  ## Check the GPU info\n",
        "  !nvidia-smi\n",
        "  ## Check the Python version\n",
        "  !python --version"
      ],
      "execution_count": 0,
      "outputs": [
        {
          "output_type": "stream",
          "text": [
            "Uptime is 1.95329 hours (7031.86 sec)\n",
            "Fri Jan 25 15:14:34 2019       \n",
            "+-----------------------------------------------------------------------------+\n",
            "| NVIDIA-SMI 396.44                 Driver Version: 396.44                    |\n",
            "|-------------------------------+----------------------+----------------------+\n",
            "| GPU  Name        Persistence-M| Bus-Id        Disp.A | Volatile Uncorr. ECC |\n",
            "| Fan  Temp  Perf  Pwr:Usage/Cap|         Memory-Usage | GPU-Util  Compute M. |\n",
            "|===============================+======================+======================|\n",
            "|   0  Tesla K80           Off  | 00000000:00:04.0 Off |                    0 |\n",
            "| N/A   34C    P0    55W / 149W |    459MiB / 11441MiB |      0%      Default |\n",
            "+-------------------------------+----------------------+----------------------+\n",
            "                                                                               \n",
            "+-----------------------------------------------------------------------------+\n",
            "| Processes:                                                       GPU Memory |\n",
            "|  GPU       PID   Type   Process name                             Usage      |\n",
            "|=============================================================================|\n",
            "+-----------------------------------------------------------------------------+\n",
            "Python 3.6.7\n"
          ],
          "name": "stdout"
        }
      ]
    },
    {
      "metadata": {
        "id": "KN-GFrsvarFB",
        "colab_type": "text"
      },
      "cell_type": "markdown",
      "source": [
        "## Import modules"
      ]
    },
    {
      "metadata": {
        "id": "HZ219oTUjJXf",
        "colab_type": "code",
        "outputId": "db7dd1a8-c740-4e79-c374-e3dadacbca56",
        "colab": {
          "base_uri": "https://localhost:8080/",
          "height": 34
        }
      },
      "cell_type": "code",
      "source": [
        "import os\n",
        "import glob\n",
        "import numpy as np\n",
        "import pandas as pd\n",
        "from IPython.display import display\n",
        "\n",
        "import tensorflow as tf\n",
        "from tensorflow import keras\n",
        "\n",
        "tf.__version__"
      ],
      "execution_count": 0,
      "outputs": [
        {
          "output_type": "execute_result",
          "data": {
            "text/plain": [
              "'1.12.0'"
            ]
          },
          "metadata": {
            "tags": []
          },
          "execution_count": 3
        }
      ]
    },
    {
      "metadata": {
        "id": "MpoVWvOdxUgf",
        "colab_type": "text"
      },
      "cell_type": "markdown",
      "source": [
        "## Set up data"
      ]
    },
    {
      "metadata": {
        "id": "65zkKSbQ3Jnc",
        "colab_type": "code",
        "colab": {}
      },
      "cell_type": "code",
      "source": [
        "(x_train, y_train), (x_test, y_test) = tf.keras.datasets.mnist.load_data()\n",
        "\n",
        "y_train = y_train[:1000]\n",
        "y_test = y_test[:1000]\n",
        "\n",
        "x_train = x_train[:1000].reshape(-1, 28 * 28) / 255.0\n",
        "x_test = x_test[:1000].reshape(-1, 28 * 28) / 255.0"
      ],
      "execution_count": 0,
      "outputs": []
    },
    {
      "metadata": {
        "id": "ciSTm1zha2ki",
        "colab_type": "text"
      },
      "cell_type": "markdown",
      "source": [
        "## Define model"
      ]
    },
    {
      "metadata": {
        "id": "k8pNftRxLT1i",
        "colab_type": "code",
        "colab": {}
      },
      "cell_type": "code",
      "source": [
        "# Returns a short sequential model\n",
        "def create_model():\n",
        "  model = tf.keras.models.Sequential([\n",
        "    keras.layers.Dense(512, activation=tf.keras.activations.relu, input_shape=(784,)),\n",
        "    keras.layers.Dropout(0.2),\n",
        "    keras.layers.Dense(10, activation=tf.keras.activations.softmax)\n",
        "  ])\n",
        "  \n",
        "  model.compile(optimizer='adam', \n",
        "                loss=tf.keras.losses.sparse_categorical_crossentropy,\n",
        "                metrics=['accuracy'])\n",
        "  return model"
      ],
      "execution_count": 0,
      "outputs": []
    },
    {
      "metadata": {
        "id": "QwFUcdCfa4Vs",
        "colab_type": "text"
      },
      "cell_type": "markdown",
      "source": [
        "## Fit model"
      ]
    },
    {
      "metadata": {
        "id": "jrXvLv4kjx-v",
        "colab_type": "code",
        "outputId": "9c977339-4575-45ca-f489-40fea4c9e880",
        "colab": {
          "base_uri": "https://localhost:8080/",
          "height": 1445
        }
      },
      "cell_type": "code",
      "source": [
        "### If resume_if_possible = True, fitting can resume using a model file. \n",
        "resume_if_possible = True \n",
        "\n",
        "### Set resume_if_possible = False to force fitting from scratch.\n",
        "#resume_if_possible = False \n",
        "\n",
        "epochs = 100\n",
        "log_file_path = 'training_log.csv'\n",
        "model_file_path = 'model_epoch{epoch:06d}.hdf5'\n",
        "\n",
        "model_file_list = glob.glob('model_epoch*.hdf5')\n",
        "log_file_list = glob.glob(log_file_path)\n",
        "\n",
        "if resume_if_possible:\n",
        "  resume_flag = (len(model_file_list) >= 1) \n",
        "  \n",
        "if not resume_if_possible:\n",
        "  resume_flag = False\n",
        "  for f in model_file_list:\n",
        "    os.remove(f)\n",
        "\n",
        "if resume_flag:\n",
        "  latest_model_file = model_file_list[-1]\n",
        "  latest_epoch = int(latest_model_file[len('model_epoch'):-len('.hdf5')])\n",
        "  ## Load the saved model\n",
        "  model = keras.models.load_model(latest_model_file)\n",
        "\n",
        "  score = model.evaluate(x_test,y_test, verbose=0)\n",
        "  print('Use {} to resume fitting. \\nTest loss: {}   Test accuracy: {}'.format(latest_model_file, score[0], score[1]))\n",
        "\n",
        "  if len(model_file_list) >= 2:\n",
        "    ## Delete all model files excpet the latest to save space\n",
        "    for f in model_file_list[:-1]:\n",
        "      os.remove(f)\n",
        "\n",
        "if not resume_flag:\n",
        "  latest_epoch = 0\n",
        "  ## Create a basic model instance\n",
        "  model = create_model()\n",
        "  for f in log_file_list:\n",
        "    os.remove(f)\n",
        "\n",
        "model.summary()\n",
        "\n",
        "## Create checkpoint callback\n",
        "check_point_ = tf.keras.callbacks.ModelCheckpoint(filepath = model_file_path, \n",
        "                                                 monitor = 'val_acc',\n",
        "                                                 verbose=1,\n",
        "                                                 save_best_only = True,\n",
        "                                                 mode='auto',\n",
        "                                                 save_weights_only=False,\n",
        "                                                 period = 1)\n",
        "\n",
        "## Create early stopping callback\n",
        "early_stopping_ = tf.keras.callbacks.EarlyStopping(monitor='val_acc', \n",
        "                                                   min_delta=0, \n",
        "                                                   patience=5, \n",
        "                                                   verbose=1, \n",
        "                                                   mode='auto', \n",
        "                                                   baseline=None)\n",
        "\n",
        "## Create CSV logger callback\n",
        "csv_logger_ = tf.keras.callbacks.CSVLogger(filename = log_file_path, separator=',',\n",
        "                                           append = resume_flag)\n",
        "\n",
        "## Fit \n",
        "model.fit(x_train, y_train, epochs = epochs, initial_epoch = latest_epoch,\n",
        "          validation_data = (x_test,y_test), shuffle = True,\n",
        "          callbacks = [check_point_, early_stopping_, csv_logger_])\n",
        "\n",
        "## Remove duplicates as save_best_only option of checkpoint is set to True.\n",
        "pd.options.display.max_rows = 8\n",
        "log_df = pd.read_csv(log_file_path)\n",
        "log_wo_dup_df = log_df.drop_duplicates(subset = ['epoch'], keep='last').reset_index(drop=True)\n",
        "log_wo_dup_df.to_csv((log_file_path[:-len('.csv')] + '_processed.csv'), index=False)"
      ],
      "execution_count": 0,
      "outputs": [
        {
          "output_type": "stream",
          "text": [
            "Use model_epoch000006.hdf5 to resume fitting. \n",
            "Test loss: 0.3950571982860565   Test accuracy: 0.873\n",
            "_________________________________________________________________\n",
            "Layer (type)                 Output Shape              Param #   \n",
            "=================================================================\n",
            "dense (Dense)                (None, 512)               401920    \n",
            "_________________________________________________________________\n",
            "dropout (Dropout)            (None, 512)               0         \n",
            "_________________________________________________________________\n",
            "dense_1 (Dense)              (None, 10)                5130      \n",
            "=================================================================\n",
            "Total params: 407,050\n",
            "Trainable params: 407,050\n",
            "Non-trainable params: 0\n",
            "_________________________________________________________________\n",
            "Train on 1000 samples, validate on 1000 samples\n",
            "Epoch 7/100\n",
            " 768/1000 [======================>.......] - ETA: 0s - loss: 0.0821 - acc: 0.9870\n",
            "Epoch 00007: val_acc improved from -inf to 0.86900, saving model to model_epoch000007.hdf5\n",
            "1000/1000 [==============================] - 0s 395us/step - loss: 0.0863 - acc: 0.9870 - val_loss: 0.4051 - val_acc: 0.8690\n",
            "Epoch 8/100\n",
            " 832/1000 [=======================>......] - ETA: 0s - loss: 0.0637 - acc: 0.9952\n",
            "Epoch 00008: val_acc did not improve from 0.86900\n",
            "1000/1000 [==============================] - 0s 203us/step - loss: 0.0680 - acc: 0.9920 - val_loss: 0.4223 - val_acc: 0.8690\n",
            "Epoch 9/100\n",
            " 864/1000 [========================>.....] - ETA: 0s - loss: 0.0508 - acc: 0.9988\n",
            "Epoch 00009: val_acc improved from 0.86900 to 0.87100, saving model to model_epoch000009.hdf5\n",
            "1000/1000 [==============================] - 0s 246us/step - loss: 0.0491 - acc: 0.9990 - val_loss: 0.3931 - val_acc: 0.8710\n",
            "Epoch 10/100\n",
            " 736/1000 [=====================>........] - ETA: 0s - loss: 0.0404 - acc: 0.9973\n",
            "Epoch 00010: val_acc did not improve from 0.87100\n",
            "1000/1000 [==============================] - 0s 202us/step - loss: 0.0416 - acc: 0.9980 - val_loss: 0.3907 - val_acc: 0.8710\n",
            "Epoch 11/100\n",
            " 832/1000 [=======================>......] - ETA: 0s - loss: 0.0317 - acc: 1.0000\n",
            "Epoch 00011: val_acc improved from 0.87100 to 0.87200, saving model to model_epoch000011.hdf5\n",
            "1000/1000 [==============================] - 0s 248us/step - loss: 0.0310 - acc: 1.0000 - val_loss: 0.4042 - val_acc: 0.8720\n",
            "Epoch 12/100\n",
            " 832/1000 [=======================>......] - ETA: 0s - loss: 0.0271 - acc: 1.0000\n",
            "Epoch 00012: val_acc improved from 0.87200 to 0.87300, saving model to model_epoch000012.hdf5\n",
            "1000/1000 [==============================] - 0s 242us/step - loss: 0.0254 - acc: 1.0000 - val_loss: 0.3955 - val_acc: 0.8730\n",
            "Epoch 13/100\n",
            " 832/1000 [=======================>......] - ETA: 0s - loss: 0.0199 - acc: 1.0000\n",
            "Epoch 00013: val_acc improved from 0.87300 to 0.87600, saving model to model_epoch000013.hdf5\n",
            "1000/1000 [==============================] - 0s 242us/step - loss: 0.0197 - acc: 1.0000 - val_loss: 0.3986 - val_acc: 0.8760\n",
            "Epoch 14/100\n",
            " 832/1000 [=======================>......] - ETA: 0s - loss: 0.0193 - acc: 1.0000\n",
            "Epoch 00014: val_acc did not improve from 0.87600\n",
            "1000/1000 [==============================] - 0s 207us/step - loss: 0.0183 - acc: 1.0000 - val_loss: 0.4040 - val_acc: 0.8690\n",
            "Epoch 15/100\n",
            " 800/1000 [=======================>......] - ETA: 0s - loss: 0.0148 - acc: 1.0000\n",
            "Epoch 00015: val_acc did not improve from 0.87600\n",
            "1000/1000 [==============================] - 0s 200us/step - loss: 0.0147 - acc: 1.0000 - val_loss: 0.4100 - val_acc: 0.8760\n",
            "Epoch 16/100\n",
            " 800/1000 [=======================>......] - ETA: 0s - loss: 0.0144 - acc: 1.0000\n",
            "Epoch 00016: val_acc did not improve from 0.87600\n",
            "1000/1000 [==============================] - 0s 198us/step - loss: 0.0141 - acc: 1.0000 - val_loss: 0.4156 - val_acc: 0.8710\n",
            "Epoch 17/100\n",
            " 832/1000 [=======================>......] - ETA: 0s - loss: 0.0144 - acc: 0.9988\n",
            "Epoch 00017: val_acc did not improve from 0.87600\n",
            "1000/1000 [==============================] - 0s 199us/step - loss: 0.0145 - acc: 0.9990 - val_loss: 0.4319 - val_acc: 0.8710\n",
            "Epoch 18/100\n",
            " 832/1000 [=======================>......] - ETA: 0s - loss: 0.0127 - acc: 1.0000\n",
            "Epoch 00018: val_acc improved from 0.87600 to 0.87800, saving model to model_epoch000018.hdf5\n",
            "1000/1000 [==============================] - 0s 249us/step - loss: 0.0129 - acc: 1.0000 - val_loss: 0.4134 - val_acc: 0.8780\n",
            "Epoch 19/100\n",
            " 768/1000 [======================>.......] - ETA: 0s - loss: 0.0087 - acc: 1.0000\n",
            "Epoch 00019: val_acc did not improve from 0.87800\n",
            "1000/1000 [==============================] - 0s 213us/step - loss: 0.0089 - acc: 1.0000 - val_loss: 0.4319 - val_acc: 0.8750\n",
            "Epoch 20/100\n",
            " 864/1000 [========================>.....] - ETA: 0s - loss: 0.0080 - acc: 1.0000\n",
            "Epoch 00020: val_acc did not improve from 0.87800\n",
            "1000/1000 [==============================] - 0s 192us/step - loss: 0.0080 - acc: 1.0000 - val_loss: 0.4278 - val_acc: 0.8750\n",
            "Epoch 21/100\n",
            " 864/1000 [========================>.....] - ETA: 0s - loss: 0.0063 - acc: 1.0000\n",
            "Epoch 00021: val_acc did not improve from 0.87800\n",
            "1000/1000 [==============================] - 0s 190us/step - loss: 0.0069 - acc: 1.0000 - val_loss: 0.4288 - val_acc: 0.8780\n",
            "Epoch 22/100\n",
            " 832/1000 [=======================>......] - ETA: 0s - loss: 0.0063 - acc: 1.0000\n",
            "Epoch 00022: val_acc did not improve from 0.87800\n",
            "1000/1000 [==============================] - 0s 192us/step - loss: 0.0068 - acc: 1.0000 - val_loss: 0.4454 - val_acc: 0.8720\n",
            "Epoch 23/100\n",
            " 800/1000 [=======================>......] - ETA: 0s - loss: 0.0069 - acc: 1.0000\n",
            "Epoch 00023: val_acc did not improve from 0.87800\n",
            "1000/1000 [==============================] - 0s 198us/step - loss: 0.0069 - acc: 1.0000 - val_loss: 0.4466 - val_acc: 0.8700\n",
            "Epoch 00023: early stopping\n"
          ],
          "name": "stdout"
        }
      ]
    },
    {
      "metadata": {
        "id": "ZmuS2cYrjPiz",
        "colab_type": "code",
        "colab": {}
      },
      "cell_type": "code",
      "source": [
        "### Clean up\n",
        "model_file_list = glob.glob('model_epoch*.hdf5')  \n",
        "if len(model_file_list) >= 2:\n",
        "  ## Delete all model files excpet the latest one to save space\n",
        "  for f in model_file_list[:-1]:\n",
        "    os.remove(f)"
      ],
      "execution_count": 0,
      "outputs": []
    },
    {
      "metadata": {
        "id": "R4CIfQhOYmi8",
        "colab_type": "code",
        "outputId": "144a9377-2b10-4e98-cf42-dac835bfdbcb",
        "colab": {
          "base_uri": "https://localhost:8080/",
          "height": 1047
        }
      },
      "cell_type": "code",
      "source": [
        "display(log_wo_dup_df)\n",
        "log_wo_dup_df[['epoch', 'acc', 'val_acc']].plot(x='epoch')\n",
        "log_wo_dup_df[['epoch', 'loss', 'val_loss']].plot(x='epoch')"
      ],
      "execution_count": 0,
      "outputs": [
        {
          "output_type": "display_data",
          "data": {
            "text/html": [
              "<div>\n",
              "<style scoped>\n",
              "    .dataframe tbody tr th:only-of-type {\n",
              "        vertical-align: middle;\n",
              "    }\n",
              "\n",
              "    .dataframe tbody tr th {\n",
              "        vertical-align: top;\n",
              "    }\n",
              "\n",
              "    .dataframe thead th {\n",
              "        text-align: right;\n",
              "    }\n",
              "</style>\n",
              "<table border=\"1\" class=\"dataframe\">\n",
              "  <thead>\n",
              "    <tr style=\"text-align: right;\">\n",
              "      <th></th>\n",
              "      <th>epoch</th>\n",
              "      <th>acc</th>\n",
              "      <th>loss</th>\n",
              "      <th>val_acc</th>\n",
              "      <th>val_loss</th>\n",
              "    </tr>\n",
              "  </thead>\n",
              "  <tbody>\n",
              "    <tr>\n",
              "      <th>0</th>\n",
              "      <td>0</td>\n",
              "      <td>0.661</td>\n",
              "      <td>1.178872</td>\n",
              "      <td>0.784</td>\n",
              "      <td>0.714422</td>\n",
              "    </tr>\n",
              "    <tr>\n",
              "      <th>1</th>\n",
              "      <td>1</td>\n",
              "      <td>0.882</td>\n",
              "      <td>0.423975</td>\n",
              "      <td>0.834</td>\n",
              "      <td>0.522963</td>\n",
              "    </tr>\n",
              "    <tr>\n",
              "      <th>2</th>\n",
              "      <td>2</td>\n",
              "      <td>0.924</td>\n",
              "      <td>0.291202</td>\n",
              "      <td>0.842</td>\n",
              "      <td>0.487687</td>\n",
              "    </tr>\n",
              "    <tr>\n",
              "      <th>3</th>\n",
              "      <td>3</td>\n",
              "      <td>0.948</td>\n",
              "      <td>0.215452</td>\n",
              "      <td>0.855</td>\n",
              "      <td>0.443378</td>\n",
              "    </tr>\n",
              "    <tr>\n",
              "      <th>...</th>\n",
              "      <td>...</td>\n",
              "      <td>...</td>\n",
              "      <td>...</td>\n",
              "      <td>...</td>\n",
              "      <td>...</td>\n",
              "    </tr>\n",
              "    <tr>\n",
              "      <th>19</th>\n",
              "      <td>19</td>\n",
              "      <td>1.000</td>\n",
              "      <td>0.007961</td>\n",
              "      <td>0.875</td>\n",
              "      <td>0.427789</td>\n",
              "    </tr>\n",
              "    <tr>\n",
              "      <th>20</th>\n",
              "      <td>20</td>\n",
              "      <td>1.000</td>\n",
              "      <td>0.006870</td>\n",
              "      <td>0.878</td>\n",
              "      <td>0.428841</td>\n",
              "    </tr>\n",
              "    <tr>\n",
              "      <th>21</th>\n",
              "      <td>21</td>\n",
              "      <td>1.000</td>\n",
              "      <td>0.006754</td>\n",
              "      <td>0.872</td>\n",
              "      <td>0.445449</td>\n",
              "    </tr>\n",
              "    <tr>\n",
              "      <th>22</th>\n",
              "      <td>22</td>\n",
              "      <td>1.000</td>\n",
              "      <td>0.006942</td>\n",
              "      <td>0.870</td>\n",
              "      <td>0.446590</td>\n",
              "    </tr>\n",
              "  </tbody>\n",
              "</table>\n",
              "<p>23 rows × 5 columns</p>\n",
              "</div>"
            ],
            "text/plain": [
              "    epoch    acc      loss  val_acc  val_loss\n",
              "0       0  0.661  1.178872    0.784  0.714422\n",
              "1       1  0.882  0.423975    0.834  0.522963\n",
              "2       2  0.924  0.291202    0.842  0.487687\n",
              "3       3  0.948  0.215452    0.855  0.443378\n",
              "..    ...    ...       ...      ...       ...\n",
              "19     19  1.000  0.007961    0.875  0.427789\n",
              "20     20  1.000  0.006870    0.878  0.428841\n",
              "21     21  1.000  0.006754    0.872  0.445449\n",
              "22     22  1.000  0.006942    0.870  0.446590\n",
              "\n",
              "[23 rows x 5 columns]"
            ]
          },
          "metadata": {
            "tags": []
          }
        },
        {
          "output_type": "execute_result",
          "data": {
            "text/plain": [
              "<matplotlib.axes._subplots.AxesSubplot at 0x7f9ac4705978>"
            ]
          },
          "metadata": {
            "tags": []
          },
          "execution_count": 8
        },
        {
          "output_type": "display_data",
          "data": {
            "image/png": "[encoded data removed]",
            "text/plain": [
              "<Figure size 576x396 with 1 Axes>"
            ]
          },
          "metadata": {
            "tags": []
          }
        },
        {
          "output_type": "display_data",
          "data": {
            "image/png": "[encoded data removed]",
            "text/plain": [
              "<Figure size 576x396 with 1 Axes>"
            ]
          },
          "metadata": {
            "tags": []
          }
        }
      ]
    },
    {
      "metadata": {
        "id": "K8zre0uERDU2",
        "colab_type": "text"
      },
      "cell_type": "markdown",
      "source": [
        "References:\n",
        "\n",
        "\n",
        "https://keras.io/callbacks/\n",
        "\n",
        "https://www.tensorflow.org/api_docs/python/tf/keras/callbacks/ModelCheckpoint"
      ]
    },
    {
      "metadata": {
        "id": "Hi_bGHxFX_Qs",
        "colab_type": "code",
        "colab": {}
      },
      "cell_type": "code",
      "source": [
        ""
      ],
      "execution_count": 0,
      "outputs": []
    }
  ]
}