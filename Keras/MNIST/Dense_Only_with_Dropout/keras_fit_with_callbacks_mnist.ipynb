{
  "nbformat": 4,
  "nbformat_minor": 0,
  "metadata": {
    "colab": {
      "name": "keras_fit_with_callbacks_mnist.ipynb",
      "version": "0.3.2",
      "provenance": [],
      "collapsed_sections": []
    },
    "kernelspec": {
      "name": "python3",
      "display_name": "Python 3"
    },
    "accelerator": "GPU"
  },
  "cells": [
    {
      "metadata": {
        "id": "vRgMOgH-ajJW",
        "colab_type": "text"
      },
      "cell_type": "markdown",
      "source": [
        "## Set up Google Colab environment"
      ]
    },
    {
      "metadata": {
        "id": "7F29nuHfiiUA",
        "colab_type": "code",
        "outputId": "0658f713-8fa5-4f94-fd44-d20aa2d4e232",
        "colab": {
          "base_uri": "https://localhost:8080/",
          "height": 34
        }
      },
      "cell_type": "code",
      "source": [
        "### Set colaboratory True to run in Google Colaboratory. \n",
        "colab = True\n",
        "\n",
        "if colab:\n",
        "    from google.colab import drive\n",
        "    drive.mount('/content/drive')\n",
        "    import os\n",
        "    ## Specify a directory in Google Drive\n",
        "    dir = '/content/drive/My Drive/Colab Notebooks/Keras_Dense_Only_MNIST'\n",
        "    os.chdir(dir)\n",
        "    #os.getcwd()\n",
        "    #os.listdir()"
      ],
      "execution_count": 1,
      "outputs": [
        {
          "output_type": "stream",
          "text": [
            "Drive already mounted at /content/drive; to attempt to forcibly remount, call drive.mount(\"/content/drive\", force_remount=True).\n"
          ],
          "name": "stdout"
        }
      ]
    },
    {
      "metadata": {
        "id": "ONOUA7xeBoSP",
        "colab_type": "code",
        "outputId": "7a134025-32a5-404a-9d05-cf2c95984f80",
        "colab": {
          "base_uri": "https://localhost:8080/",
          "height": 327
        }
      },
      "cell_type": "code",
      "source": [
        "if colab:\n",
        "    ## Check the uptime. (Google Colab reboots every 12 hours)\n",
        "    !cat /proc/uptime | awk '{print \"Uptime is \" $1 /60 /60 \" hours (\" $1 \" sec)\"}'\n",
        "    ## Check the GPU info\n",
        "    !nvidia-smi\n",
        "    ## Check the Python version\n",
        "    !python --version"
      ],
      "execution_count": 2,
      "outputs": [
        {
          "output_type": "stream",
          "text": [
            "Uptime is 5.48378 hours (19741.60 sec)\n",
            "Mon Jan 28 09:54:30 2019       \n",
            "+-----------------------------------------------------------------------------+\n",
            "| NVIDIA-SMI 396.44                 Driver Version: 396.44                    |\n",
            "|-------------------------------+----------------------+----------------------+\n",
            "| GPU  Name        Persistence-M| Bus-Id        Disp.A | Volatile Uncorr. ECC |\n",
            "| Fan  Temp  Perf  Pwr:Usage/Cap|         Memory-Usage | GPU-Util  Compute M. |\n",
            "|===============================+======================+======================|\n",
            "|   0  Tesla K80           Off  | 00000000:00:04.0 Off |                    0 |\n",
            "| N/A   36C    P0    69W / 149W |   2198MiB / 11441MiB |      0%      Default |\n",
            "+-------------------------------+----------------------+----------------------+\n",
            "                                                                               \n",
            "+-----------------------------------------------------------------------------+\n",
            "| Processes:                                                       GPU Memory |\n",
            "|  GPU       PID   Type   Process name                             Usage      |\n",
            "|=============================================================================|\n",
            "+-----------------------------------------------------------------------------+\n",
            "Python 3.6.7\n"
          ],
          "name": "stdout"
        }
      ]
    },
    {
      "metadata": {
        "id": "KN-GFrsvarFB",
        "colab_type": "text"
      },
      "cell_type": "markdown",
      "source": [
        "## Import modules"
      ]
    },
    {
      "metadata": {
        "id": "HZ219oTUjJXf",
        "colab_type": "code",
        "outputId": "da6123c0-84c9-4a82-b4a1-55ef55ecb8a5",
        "colab": {
          "base_uri": "https://localhost:8080/",
          "height": 34
        }
      },
      "cell_type": "code",
      "source": [
        "import os\n",
        "import numpy as np\n",
        "import pandas as pd\n",
        "from IPython.display import display\n",
        "import matplotlib.pyplot as plt\n",
        "\n",
        "import tensorflow as tf\n",
        "from tensorflow import keras\n",
        "\n",
        "tf.__version__"
      ],
      "execution_count": 3,
      "outputs": [
        {
          "output_type": "execute_result",
          "data": {
            "text/plain": [
              "'1.12.0'"
            ]
          },
          "metadata": {
            "tags": []
          },
          "execution_count": 3
        }
      ]
    },
    {
      "metadata": {
        "id": "QwFUcdCfa4Vs",
        "colab_type": "text"
      },
      "cell_type": "markdown",
      "source": [
        "## Train model"
      ]
    },
    {
      "metadata": {
        "id": "E9G7gnSRShaG",
        "colab_type": "code",
        "colab": {}
      },
      "cell_type": "code",
      "source": [
        "import glob\n",
        "class ModelFileProcessing():\n",
        "    def __init__(self, model_file_prefix = 'model_epoch', model_file_suffix = '.hdf5', verbose = 2):\n",
        "        self.model_file_prefix = model_file_prefix\n",
        "        self.model_file_suffix = model_file_suffix\n",
        "        self.verbose = verbose\n",
        "        model_file_path = model_file_prefix + '{epoch:06d}' + model_file_suffix\n",
        "        self.model_file_path = model_file_path\n",
        "        self.update()\n",
        "    def update(self):\n",
        "        model_file_prefix = self.model_file_prefix\n",
        "        model_file_suffix = self.model_file_suffix\n",
        "        model_file_list = glob.glob(model_file_prefix + '*' + model_file_suffix)\n",
        "        model_file_list.sort()\n",
        "        if self.verbose >= 2:\n",
        "            print('Model files found: ', model_file_list)\n",
        "        self.model_file_list = model_file_list\n",
        "        model_file_exists = len(model_file_list) >= 1\n",
        "        self.model_file_exists = model_file_exists\n",
        "\n",
        "        latest_model_file = model_file_list[-1] if model_file_exists else None\n",
        "        self.latest_model_file = latest_model_file\n",
        "\n",
        "        latest_epoch = int(latest_model_file[len(model_file_prefix):-len(model_file_suffix)]) \\\n",
        "            if model_file_exists else 0\n",
        "        self.latest_epoch = latest_epoch\n",
        "\n",
        "        multiple_model_files_exist = len(model_file_list) >= 2\n",
        "        self.multiple_model_files_exist = multiple_model_files_exist\n",
        "    def clean_up_old(self):\n",
        "        self.update()\n",
        "        ## Delete all model files excpet the latest to save space\n",
        "        if self.multiple_model_files_exist:\n",
        "            for f in self.model_file_list[:-1]:\n",
        "                os.remove(f)  \n",
        "    def clean_up_all(self):\n",
        "        self.update()\n",
        "        ## Delete all model files if they exist.\n",
        "        if self.model_file_exists:\n",
        "            for f in self.model_file_list:\n",
        "                os.remove(f)   \n",
        "\n",
        "class LogFileProcessing():\n",
        "    def __init__(self, log_file_path = 'training_log.csv', verbose = 2):\n",
        "        self.log_file_path = log_file_path\n",
        "        self.verbose = verbose\n",
        "        self.update()\n",
        "    def update(self):\n",
        "        log_file_path = self.log_file_path\n",
        "        log_file_list = glob.glob(log_file_path)\n",
        "        log_file_list.sort()\n",
        "        self.log_file_list = log_file_list\n",
        "        if self.verbose >= 2:\n",
        "            print('Log file found:', log_file_list)\n",
        "        log_file_exists = len(log_file_list) >= 1\n",
        "        self.log_file_exists = log_file_exists\n",
        "    def truncate(self):\n",
        "        log_file_path = self.log_file_path\n",
        "        self.update()\n",
        "        ## Remove rows after the epoch of the latest saved model \n",
        "        ## (needed because save_best_only option of checkpoint is set to True.)\n",
        "        with open(log_file_path, 'r') as f:\n",
        "            lines = f.readlines()\n",
        "        if self.verbose >= 3:\n",
        "            print('Log file contents read:', lines)\n",
        "        lines_truncated = lines[:(mfp.latest_epoch+1)]\n",
        "        with open(log_file_path, 'w') as f:\n",
        "            f.writelines(lines_truncated)\n",
        "        if self.verbose >= 3:\n",
        "            print('New log file contents', lines_truncated)\n",
        "    def clean_up(self):\n",
        "        self.update()\n",
        "        if self.log_file_exists:\n",
        "            for f in self.log_file_list:\n",
        "                os.remove(f) \n",
        "                \n",
        "import time          \n",
        "class CompTime(keras.callbacks.Callback):\n",
        "    def __init__(self, log_file_path = 'training_log.csv', verbose = 2):\n",
        "        self.log_file_path = log_file_path\n",
        "        self.verbose = verbose\n",
        "    def on_epoch_begin(self, batch, logs={}):\n",
        "        self.epoch_time_start = time.time()\n",
        "    def on_epoch_end(self, batch, logs={}):\n",
        "        comp_time = time.time() - self.epoch_time_start\n",
        "        logs['Comp_time'] = comp_time\n",
        "        print('Computation time: {} sec'.format(comp_time))\n",
        "        cum_comp_time_prev = 0.0\n",
        "        try:\n",
        "            log_df = pd.read_csv(self.log_file_path)\n",
        "            if log_df.shape[0] >= 1:\n",
        "                cum_comp_time_prev = float(log_df.iloc[-1]['Cum_comp_time'])\n",
        "        except:\n",
        "            print('Failed to read the previous cumulative computation time, but continue training.')\n",
        "        logs['Cum_comp_time'] = cum_comp_time_prev + comp_time\n",
        "        \n",
        "class OldModelFileCleanup(keras.callbacks.Callback):\n",
        "    def __init__(self, mfp):\n",
        "        self.mfp = mfp\n",
        "    def on_epoch_end(self, batch, logs={}):     \n",
        "        self.mfp.clean_up_old()\n",
        "           \n",
        "def setup_model_and_callbacks(create_model, input_shape, resume_if_possible = True):\n",
        "    mfp = ModelFileProcessing()   \n",
        "    lfp = LogFileProcessing()\n",
        "    resume_flag = resume_if_possible and mfp.model_file_exists and lfp.log_file_exists\n",
        "\n",
        "    if resume_flag:\n",
        "        initial_epoch = mfp.latest_epoch\n",
        "        mfp.clean_up_old() ## To do: should be ok to delete this\n",
        "        lfp.truncate() ## Truncate the log file\n",
        "        ## Load the saved model\n",
        "        model = keras.models.load_model(mfp.latest_model_file)\n",
        "        print('Use {} to resume fitting.'.format(mfp.latest_model_file))\n",
        "\n",
        "    if not resume_flag:\n",
        "        initial_epoch = 0\n",
        "        ## Delete all model files and the log file if they exist.\n",
        "        mfp.clean_up_all()\n",
        "        lfp.clean_up()\n",
        "        ## Create a basic model instance\n",
        "        model = create_model(input_shape)\n",
        "        print('Model created.')\n",
        "\n",
        "    ## Create checkpoint callback\n",
        "    check_point_ = tf.keras.callbacks.ModelCheckpoint(filepath = mfp.model_file_path, \n",
        "        monitor = 'val_acc', verbose = 1, save_best_only = True, mode = 'auto', \n",
        "        save_weights_only = False, period = 1)\n",
        "    \n",
        "    ## Create old model file cleanup callback\n",
        "    old_model_file_cleanup_ = OldModelFileCleanup(mfp)\n",
        "    \n",
        "    ## Create computation time callback\n",
        "    comp_time_ = CompTime()\n",
        "\n",
        "    ## Create CSV logger callback\n",
        "    csv_logger_ = tf.keras.callbacks.CSVLogger(filename = lfp.log_file_path, separator=',',\n",
        "                                               append = resume_flag)\n",
        "\n",
        "    ## Create early stopping callback\n",
        "    early_stopping_ = tf.keras.callbacks.EarlyStopping(monitor='val_acc', \n",
        "        min_delta=0, patience=5, verbose=1, mode='auto', baseline=None)\n",
        "\n",
        "    callbacks = [check_point_, old_model_file_cleanup_, comp_time_, csv_logger_, early_stopping_]\n",
        "\n",
        "    return model, callbacks, initial_epoch"
      ],
      "execution_count": 0,
      "outputs": []
    },
    {
      "metadata": {
        "id": "NOBep63zalLa",
        "colab_type": "code",
        "outputId": "9fee2752-46f0-4ae2-9304-8bd8b265420e",
        "colab": {
          "base_uri": "https://localhost:8080/",
          "height": 51
        }
      },
      "cell_type": "code",
      "source": [
        "from keras.models import Sequential\n",
        "from keras.layers import Dense, Activation, Flatten, Dropout\n",
        "from keras.optimizers import SGD, Adagrad, RMSprop, Adam\n",
        "\n",
        "batch_size_list = []\n",
        "batch_size_list.append(64)\n",
        "\n",
        "optimizer_dict = {}\n",
        "#optimizer_dict['SGD'] = SGD()\n",
        "#optimizer_dict['SGD_momentum_0.5'] = SGD(momentum = 0.5)\n",
        "#optimizer_dict['SGD_momentum_0.9'] = SGD(momentum = 0.9)\n",
        "#optimizer_dict['SGD_momentum_0.99'] = SGD(momentum = 0.99)         \n",
        "#optimizer_dict['Adagrad'] = Adagrad()\n",
        "#optimizer_dict['RMSprop'] = RMSprop()\n",
        "optimizer_dict['Adam'] = Adam()\n",
        "\n",
        "activation_list = []\n",
        "activation_list.append('relu')\n",
        "#activation_list.append('sigmoid')\n",
        "#activation_list.append('elu')\n",
        "\n",
        "dropout_rate_list = []\n",
        "#dropout_rate_list.append(0.0)\n",
        "dropout_rate_list.append(0.2)\n",
        "#dropout_rate_list.append(0.5)\n",
        "#dropout_rate_list.append(0.8)\n",
        "\n",
        "d = {}\n",
        "model_param_dict_list = []\n",
        "i = 0\n",
        "for batch_size in batch_size_list:\n",
        "    for optimizer, _ in optimizer_dict.items():\n",
        "        for activation in activation_list:\n",
        "            for dropout_rate in dropout_rate_list:\n",
        "                d = {}\n",
        "                d['_Model_id'] = '{:06d}'.format(i)\n",
        "                d['Batch_size'] = batch_size\n",
        "                d['Optimizer'] = optimizer\n",
        "                d['Acivation'] = activation\n",
        "                d['Dropout_rate'] = dropout_rate\n",
        "                i += 1\n",
        "                print(d)\n",
        "                model_param_dict_list.append(d)\n",
        "            "
      ],
      "execution_count": 5,
      "outputs": [
        {
          "output_type": "stream",
          "text": [
            "{'_Model_id': '000000', 'Batch_size': 64, 'Optimizer': 'Adam', 'Acivation': 'relu', 'Dropout_rate': 0.2}\n"
          ],
          "name": "stdout"
        },
        {
          "output_type": "stream",
          "text": [
            "Using TensorFlow backend.\n"
          ],
          "name": "stderr"
        }
      ]
    },
    {
      "metadata": {
        "id": "yKAdBR46094l",
        "colab_type": "code",
        "colab": {
          "base_uri": "https://localhost:8080/",
          "height": 189
        },
        "outputId": "5352aa12-ebfc-4a29-c730-b2139215272d"
      },
      "cell_type": "code",
      "source": [
        "(x_train, y_train), (x_test, y_test) = tf.keras.datasets.mnist.load_data()\n",
        "\n",
        "print('x_train: ', x_train.shape)\n",
        "print('y_train', y_train.shape)\n",
        "print('x_test: ', x_test.shape)\n",
        "print('y_test', y_test.shape)\n",
        "\n",
        "\n",
        "input_shape = x_train.shape[1:]\n",
        "print('input_shape: ', input_shape )\n",
        "\n",
        "num_classes = 10\n",
        "\n",
        "x_train = x_train / 255.0\n",
        "x_test = x_test / 255.0\n",
        "\n",
        "#y_train = keras.utils.to_categorical(y_train, num_classes = num_classes)\n",
        "#y_test = keras.utils.to_categorical(y_test, num_classes = num_classes)\n",
        "\n",
        "## Reduce samples size to speed up \n",
        "\n",
        "n = 1000\n",
        "\n",
        "y_train = y_train[:n]\n",
        "y_test = y_test[:n]\n",
        "\n",
        "x_train = x_train[:n]\n",
        "x_test = x_test[:n]\n",
        "\n",
        "print('### data after processing')\n",
        "print('x_train: ', x_train.shape)\n",
        "print('y_train', y_train.shape)\n",
        "print('x_test: ', x_test.shape)\n",
        "print('y_test', y_test.shape)\n"
      ],
      "execution_count": 6,
      "outputs": [
        {
          "output_type": "stream",
          "text": [
            "x_train:  (60000, 28, 28)\n",
            "y_train (60000,)\n",
            "x_test:  (10000, 28, 28)\n",
            "y_test (10000,)\n",
            "input_shape:  (28, 28)\n",
            "### data after processing\n",
            "x_train:  (1000, 28, 28)\n",
            "y_train (1000,)\n",
            "x_test:  (1000, 28, 28)\n",
            "y_test (1000,)\n"
          ],
          "name": "stdout"
        }
      ]
    },
    {
      "metadata": {
        "id": "jrXvLv4kjx-v",
        "colab_type": "code",
        "outputId": "1859672d-11a4-425d-fe15-e8e080efad53",
        "colab": {
          "base_uri": "https://localhost:8080/",
          "height": 1139
        }
      },
      "cell_type": "code",
      "source": [
        "## Set resume_if_possible = True to resume using a model file if available.\n",
        "## Set resume_if_possible = False to force fitting from scratch.\n",
        "resume_if_possible = True\n",
        "#resume_if_possible = False\n",
        "epochs = 100\n",
        "\n",
        "\n",
        "for model_param_dict in model_param_dict_list:\n",
        "    print(model_param_dict)\n",
        "    for key,val in model_param_dict.items():\n",
        "        exec(key + '=val')\n",
        "\n",
        "    def create_model(input_shape):\n",
        "        model = Sequential()\n",
        "        model.add(Flatten(input_shape=input_shape))\n",
        "        model.add(Dense(512, activation=activation))\n",
        "        model.add(Dropout(dropout_rate))\n",
        "        model.add(Dense(10, activation='softmax'))\n",
        "\n",
        "        model.compile(optimizer = optimizer_dict[optimizer], \n",
        "                    loss='sparse_categorical_crossentropy',\n",
        "                    metrics=['accuracy'])\n",
        "        return model\n",
        "    \n",
        "    model, callbacks, initial_epoch = \\\n",
        "    setup_model_and_callbacks(create_model, input_shape, resume_if_possible = resume_if_possible)\n",
        "\n",
        "    model.summary()\n",
        "\n",
        "    ## Fit \n",
        "    model.fit(x_train, y_train, validation_data = (x_test, y_test), shuffle = True,\n",
        "              batch_size = batch_size, epochs = epochs, callbacks = callbacks, initial_epoch = initial_epoch)"
      ],
      "execution_count": 9,
      "outputs": [
        {
          "output_type": "stream",
          "text": [
            "{'_Model_id': '000000', 'Batch_size': 64, 'Optimizer': 'Adam', 'Acivation': 'relu', 'Dropout_rate': 0.2}\n",
            "Model files found:  ['model_epoch000007.hdf5']\n",
            "Log file found: ['training_log.csv']\n",
            "Model files found:  ['model_epoch000007.hdf5']\n",
            "Log file found: ['training_log.csv']\n",
            "Use model_epoch000007.hdf5 to resume fitting.\n",
            "_________________________________________________________________\n",
            "Layer (type)                 Output Shape              Param #   \n",
            "=================================================================\n",
            "flatten_1 (Flatten)          (None, 784)               0         \n",
            "_________________________________________________________________\n",
            "dense_1 (Dense)              (None, 512)               401920    \n",
            "_________________________________________________________________\n",
            "dropout_1 (Dropout)          (None, 512)               0         \n",
            "_________________________________________________________________\n",
            "dense_2 (Dense)              (None, 10)                5130      \n",
            "=================================================================\n",
            "Total params: 407,050\n",
            "Trainable params: 407,050\n",
            "Non-trainable params: 0\n",
            "_________________________________________________________________\n",
            "Train on 1000 samples, validate on 1000 samples\n",
            "Epoch 8/100\n",
            " 768/1000 [======================>.......] - ETA: 0s - loss: 0.1125 - acc: 0.9818\n",
            "Epoch 00008: val_acc improved from -inf to 0.86100, saving model to model_epoch000008.hdf5\n",
            "Model files found:  ['model_epoch000007.hdf5', 'model_epoch000008.hdf5']\n",
            "Computation time: 0.42322278022766113 sec\n",
            "1000/1000 [==============================] - 0s 428us/step - loss: 0.1101 - acc: 0.9800 - val_loss: 0.4225 - val_acc: 0.8610\n",
            "Epoch 9/100\n",
            " 832/1000 [=======================>......] - ETA: 0s - loss: 0.0802 - acc: 0.9916\n",
            "Epoch 00009: val_acc improved from 0.86100 to 0.87100, saving model to model_epoch000009.hdf5\n",
            "Model files found:  ['model_epoch000008.hdf5', 'model_epoch000009.hdf5']\n",
            "Computation time: 0.16516351699829102 sec\n",
            "1000/1000 [==============================] - 0s 169us/step - loss: 0.0864 - acc: 0.9890 - val_loss: 0.4041 - val_acc: 0.8710\n",
            "Epoch 10/100\n",
            " 832/1000 [=======================>......] - ETA: 0s - loss: 0.0675 - acc: 0.9952\n",
            "Epoch 00010: val_acc did not improve from 0.87100\n",
            "Model files found:  ['model_epoch000009.hdf5']\n",
            "Computation time: 0.10873651504516602 sec\n",
            "1000/1000 [==============================] - 0s 114us/step - loss: 0.0702 - acc: 0.9940 - val_loss: 0.3996 - val_acc: 0.8700\n",
            "Epoch 11/100\n",
            " 832/1000 [=======================>......] - ETA: 0s - loss: 0.0620 - acc: 0.9964\n",
            "Epoch 00011: val_acc did not improve from 0.87100\n",
            "Model files found:  ['model_epoch000009.hdf5']\n",
            "Computation time: 0.10782480239868164 sec\n",
            "1000/1000 [==============================] - 0s 112us/step - loss: 0.0613 - acc: 0.9950 - val_loss: 0.4048 - val_acc: 0.8700\n",
            "Epoch 12/100\n",
            " 832/1000 [=======================>......] - ETA: 0s - loss: 0.0491 - acc: 0.9976\n",
            "Epoch 00012: val_acc did not improve from 0.87100\n",
            "Model files found:  ['model_epoch000009.hdf5']\n",
            "Computation time: 0.10733532905578613 sec\n",
            "1000/1000 [==============================] - 0s 111us/step - loss: 0.0495 - acc: 0.9980 - val_loss: 0.4124 - val_acc: 0.8660\n",
            "Epoch 13/100\n",
            " 832/1000 [=======================>......] - ETA: 0s - loss: 0.0460 - acc: 0.9988\n",
            "Epoch 00013: val_acc did not improve from 0.87100\n",
            "Model files found:  ['model_epoch000009.hdf5']\n",
            "Computation time: 0.10880494117736816 sec\n",
            "1000/1000 [==============================] - 0s 113us/step - loss: 0.0433 - acc: 0.9990 - val_loss: 0.4056 - val_acc: 0.8690\n",
            "Epoch 14/100\n",
            " 832/1000 [=======================>......] - ETA: 0s - loss: 0.0340 - acc: 1.0000\n",
            "Epoch 00014: val_acc did not improve from 0.87100\n",
            "Model files found:  ['model_epoch000009.hdf5']\n",
            "Computation time: 0.10668444633483887 sec\n",
            "1000/1000 [==============================] - 0s 111us/step - loss: 0.0342 - acc: 1.0000 - val_loss: 0.4114 - val_acc: 0.8650\n",
            "Epoch 00014: early stopping\n"
          ],
          "name": "stdout"
        }
      ]
    },
    {
      "metadata": {
        "id": "BExHwp6rYaZ3",
        "colab_type": "code",
        "colab": {
          "base_uri": "https://localhost:8080/",
          "height": 1645
        },
        "outputId": "2a69b0ea-c065-4368-9b0d-58937a045e03"
      },
      "cell_type": "code",
      "source": [
        "## Show final model performance metrics\n",
        "mfp = ModelFileProcessing()\n",
        "model = keras.models.load_model(mfp.latest_model_file)\n",
        "val_loss, val_acc = model.evaluate(x_test, y_test, verbose=0)\n",
        "print(\"Final Model:  {}  \\n  val_acc:  {:8.6f}\\n  val_loss: {:8.6f}\".format(mfp.latest_model_file, val_acc, val_loss))\n",
        "\n",
        "## Plot the results\n",
        "lfp = LogFileProcessing()\n",
        "if lfp.log_file_exists:\n",
        "    log_df = pd.read_csv(lfp.log_file_path)\n",
        "    log_df.set_index('epoch')[['acc', 'val_acc']].plot(style='.-', title='Accuracy vs Epoch')\n",
        "    plt.show()\n",
        "    log_df.set_index('epoch')[['loss', 'val_loss']].plot(style='.-', title='Loss vs Epoch')\n",
        "    plt.show()\n",
        "    log_df.set_index('epoch')[['Comp_time', 'Cum_comp_time']].plot(style='.-', title='Computation Time (sec) vs Epoch')\n",
        "    plt.show()\n",
        "    # pd.options.display.max_rows = 8\n",
        "    display(log_df)"
      ],
      "execution_count": 10,
      "outputs": [
        {
          "output_type": "stream",
          "text": [
            "Model files found:  ['model_epoch000009.hdf5']\n",
            "Final Model:  model_epoch000009.hdf5  \n",
            "  val_acc:  0.871000\n",
            "  val_loss: 0.404079\n",
            "Log file found: ['training_log.csv']\n"
          ],
          "name": "stdout"
        },
        {
          "output_type": "display_data",
          "data": {
            "image/png": "[encoded data removed]",
            "text/plain": [
              "<Figure size 576x396 with 1 Axes>"
            ]
          },
          "metadata": {
            "tags": []
          }
        },
        {
          "output_type": "display_data",
          "data": {
            "image/png": "[encoded data removed]",
            "text/plain": [
              "<Figure size 576x396 with 1 Axes>"
            ]
          },
          "metadata": {
            "tags": []
          }
        },
        {
          "output_type": "display_data",
          "data": {
            "image/png": "[encoded data removed]",
            "text/plain": [
              "<Figure size 576x396 with 1 Axes>"
            ]
          },
          "metadata": {
            "tags": []
          }
        },
        {
          "output_type": "display_data",
          "data": {
            "text/html": [
              "<div>\n",
              "<style scoped>\n",
              "    .dataframe tbody tr th:only-of-type {\n",
              "        vertical-align: middle;\n",
              "    }\n",
              "\n",
              "    .dataframe tbody tr th {\n",
              "        vertical-align: top;\n",
              "    }\n",
              "\n",
              "    .dataframe thead th {\n",
              "        text-align: right;\n",
              "    }\n",
              "</style>\n",
              "<table border=\"1\" class=\"dataframe\">\n",
              "  <thead>\n",
              "    <tr style=\"text-align: right;\">\n",
              "      <th></th>\n",
              "      <th>epoch</th>\n",
              "      <th>Comp_time</th>\n",
              "      <th>Cum_comp_time</th>\n",
              "      <th>acc</th>\n",
              "      <th>loss</th>\n",
              "      <th>val_acc</th>\n",
              "      <th>val_loss</th>\n",
              "    </tr>\n",
              "  </thead>\n",
              "  <tbody>\n",
              "    <tr>\n",
              "      <th>0</th>\n",
              "      <td>0</td>\n",
              "      <td>1.030137</td>\n",
              "      <td>1.030137</td>\n",
              "      <td>0.582</td>\n",
              "      <td>1.461231</td>\n",
              "      <td>0.769</td>\n",
              "      <td>0.899532</td>\n",
              "    </tr>\n",
              "    <tr>\n",
              "      <th>1</th>\n",
              "      <td>1</td>\n",
              "      <td>0.161748</td>\n",
              "      <td>1.191885</td>\n",
              "      <td>0.849</td>\n",
              "      <td>0.561450</td>\n",
              "      <td>0.831</td>\n",
              "      <td>0.583043</td>\n",
              "    </tr>\n",
              "    <tr>\n",
              "      <th>2</th>\n",
              "      <td>2</td>\n",
              "      <td>0.164372</td>\n",
              "      <td>1.356256</td>\n",
              "      <td>0.903</td>\n",
              "      <td>0.359694</td>\n",
              "      <td>0.846</td>\n",
              "      <td>0.496123</td>\n",
              "    </tr>\n",
              "    <tr>\n",
              "      <th>3</th>\n",
              "      <td>3</td>\n",
              "      <td>0.167309</td>\n",
              "      <td>1.523566</td>\n",
              "      <td>0.930</td>\n",
              "      <td>0.273300</td>\n",
              "      <td>0.854</td>\n",
              "      <td>0.470933</td>\n",
              "    </tr>\n",
              "    <tr>\n",
              "      <th>4</th>\n",
              "      <td>4</td>\n",
              "      <td>0.162757</td>\n",
              "      <td>1.686323</td>\n",
              "      <td>0.947</td>\n",
              "      <td>0.221405</td>\n",
              "      <td>0.860</td>\n",
              "      <td>0.458392</td>\n",
              "    </tr>\n",
              "    <tr>\n",
              "      <th>5</th>\n",
              "      <td>5</td>\n",
              "      <td>0.170705</td>\n",
              "      <td>1.857028</td>\n",
              "      <td>0.962</td>\n",
              "      <td>0.175937</td>\n",
              "      <td>0.863</td>\n",
              "      <td>0.417373</td>\n",
              "    </tr>\n",
              "    <tr>\n",
              "      <th>6</th>\n",
              "      <td>6</td>\n",
              "      <td>0.166816</td>\n",
              "      <td>2.023844</td>\n",
              "      <td>0.974</td>\n",
              "      <td>0.138330</td>\n",
              "      <td>0.871</td>\n",
              "      <td>0.403255</td>\n",
              "    </tr>\n",
              "    <tr>\n",
              "      <th>7</th>\n",
              "      <td>7</td>\n",
              "      <td>0.423223</td>\n",
              "      <td>2.447067</td>\n",
              "      <td>0.980</td>\n",
              "      <td>0.110128</td>\n",
              "      <td>0.861</td>\n",
              "      <td>0.422542</td>\n",
              "    </tr>\n",
              "    <tr>\n",
              "      <th>8</th>\n",
              "      <td>8</td>\n",
              "      <td>0.165164</td>\n",
              "      <td>2.612230</td>\n",
              "      <td>0.989</td>\n",
              "      <td>0.086429</td>\n",
              "      <td>0.871</td>\n",
              "      <td>0.404079</td>\n",
              "    </tr>\n",
              "    <tr>\n",
              "      <th>9</th>\n",
              "      <td>9</td>\n",
              "      <td>0.108737</td>\n",
              "      <td>2.720967</td>\n",
              "      <td>0.994</td>\n",
              "      <td>0.070249</td>\n",
              "      <td>0.870</td>\n",
              "      <td>0.399621</td>\n",
              "    </tr>\n",
              "    <tr>\n",
              "      <th>10</th>\n",
              "      <td>10</td>\n",
              "      <td>0.107825</td>\n",
              "      <td>2.828792</td>\n",
              "      <td>0.995</td>\n",
              "      <td>0.061333</td>\n",
              "      <td>0.870</td>\n",
              "      <td>0.404754</td>\n",
              "    </tr>\n",
              "    <tr>\n",
              "      <th>11</th>\n",
              "      <td>11</td>\n",
              "      <td>0.107335</td>\n",
              "      <td>2.936127</td>\n",
              "      <td>0.998</td>\n",
              "      <td>0.049503</td>\n",
              "      <td>0.866</td>\n",
              "      <td>0.412376</td>\n",
              "    </tr>\n",
              "    <tr>\n",
              "      <th>12</th>\n",
              "      <td>12</td>\n",
              "      <td>0.108805</td>\n",
              "      <td>3.044932</td>\n",
              "      <td>0.999</td>\n",
              "      <td>0.043271</td>\n",
              "      <td>0.869</td>\n",
              "      <td>0.405579</td>\n",
              "    </tr>\n",
              "    <tr>\n",
              "      <th>13</th>\n",
              "      <td>13</td>\n",
              "      <td>0.106684</td>\n",
              "      <td>3.151616</td>\n",
              "      <td>1.000</td>\n",
              "      <td>0.034212</td>\n",
              "      <td>0.865</td>\n",
              "      <td>0.411351</td>\n",
              "    </tr>\n",
              "  </tbody>\n",
              "</table>\n",
              "</div>"
            ],
            "text/plain": [
              "    epoch  Comp_time  Cum_comp_time    acc      loss  val_acc  val_loss\n",
              "0       0   1.030137       1.030137  0.582  1.461231    0.769  0.899532\n",
              "1       1   0.161748       1.191885  0.849  0.561450    0.831  0.583043\n",
              "2       2   0.164372       1.356256  0.903  0.359694    0.846  0.496123\n",
              "3       3   0.167309       1.523566  0.930  0.273300    0.854  0.470933\n",
              "4       4   0.162757       1.686323  0.947  0.221405    0.860  0.458392\n",
              "5       5   0.170705       1.857028  0.962  0.175937    0.863  0.417373\n",
              "6       6   0.166816       2.023844  0.974  0.138330    0.871  0.403255\n",
              "7       7   0.423223       2.447067  0.980  0.110128    0.861  0.422542\n",
              "8       8   0.165164       2.612230  0.989  0.086429    0.871  0.404079\n",
              "9       9   0.108737       2.720967  0.994  0.070249    0.870  0.399621\n",
              "10     10   0.107825       2.828792  0.995  0.061333    0.870  0.404754\n",
              "11     11   0.107335       2.936127  0.998  0.049503    0.866  0.412376\n",
              "12     12   0.108805       3.044932  0.999  0.043271    0.869  0.405579\n",
              "13     13   0.106684       3.151616  1.000  0.034212    0.865  0.411351"
            ]
          },
          "metadata": {
            "tags": []
          }
        }
      ]
    },
    {
      "metadata": {
        "id": "K8zre0uERDU2",
        "colab_type": "text"
      },
      "cell_type": "markdown",
      "source": [
        "References:\n",
        "\n",
        "\n",
        "https://keras.io/callbacks/\n",
        "\n",
        "https://www.tensorflow.org/api_docs/python/tf/keras/callbacks/ModelCheckpoint\n",
        "\n",
        "https://keras.io/getting-started/sequential-model-guide/"
      ]
    }
  ]
}