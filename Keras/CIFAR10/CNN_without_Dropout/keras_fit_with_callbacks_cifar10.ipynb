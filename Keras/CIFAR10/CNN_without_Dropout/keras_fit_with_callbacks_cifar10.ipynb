{
  "nbformat": 4,
  "nbformat_minor": 0,
  "metadata": {
    "colab": {
      "name": "keras_fit_with_callbacks_cifar10.ipynb",
      "version": "0.3.2",
      "provenance": [],
      "collapsed_sections": []
    },
    "kernelspec": {
      "name": "python3",
      "display_name": "Python 3"
    },
    "accelerator": "GPU"
  },
  "cells": [
    {
      "metadata": {
        "id": "vRgMOgH-ajJW",
        "colab_type": "text"
      },
      "cell_type": "markdown",
      "source": [
        "## Set up Google Colab environment"
      ]
    },
    {
      "metadata": {
        "id": "7F29nuHfiiUA",
        "colab_type": "code",
        "outputId": "a0c3d99f-22e0-4eba-891e-7928d06a120c",
        "colab": {
          "base_uri": "https://localhost:8080/",
          "height": 34
        }
      },
      "cell_type": "code",
      "source": [
        "### Set colaboratory True to run in Google Colaboratory. \n",
        "colab = True\n",
        "\n",
        "if colab:\n",
        "  from google.colab import drive\n",
        "  drive.mount('/content/drive')\n",
        "  import os\n",
        "  ## Specify a directory in Google Drive\n",
        "  dir = '/content/drive/My Drive/Colab Notebooks/Keras_CIFAR10'\n",
        "  os.chdir(dir)\n",
        "  #os.getcwd()\n",
        "  #os.listdir()"
      ],
      "execution_count": 0,
      "outputs": [
        {
          "output_type": "stream",
          "text": [
            "Drive already mounted at /content/drive; to attempt to forcibly remount, call drive.mount(\"/content/drive\", force_remount=True).\n"
          ],
          "name": "stdout"
        }
      ]
    },
    {
      "metadata": {
        "id": "As19XFC8jE-g",
        "colab_type": "code",
        "outputId": "c7efa6de-3434-42fe-8ffc-ad8a9fdbcb06",
        "colab": {
          "base_uri": "https://localhost:8080/",
          "height": 336
        }
      },
      "cell_type": "code",
      "source": [
        "if colab:\n",
        "  ## Check the uptime. (Google Colab reboots every 12 hours)\n",
        "  !cat /proc/uptime | awk '{print \"Uptime is \" $1 /60 /60 \" hours (\" $1 \" sec)\"}'\n",
        "  ## Check the GPU info\n",
        "  !nvidia-smi\n",
        "  ## Check the Python version\n",
        "  !python --version"
      ],
      "execution_count": 0,
      "outputs": [
        {
          "output_type": "stream",
          "text": [
            "Uptime is 3.86339 hours (13908.22 sec)\n",
            "Fri Jan 25 17:09:08 2019       \n",
            "+-----------------------------------------------------------------------------+\n",
            "| NVIDIA-SMI 396.44                 Driver Version: 396.44                    |\n",
            "|-------------------------------+----------------------+----------------------+\n",
            "| GPU  Name        Persistence-M| Bus-Id        Disp.A | Volatile Uncorr. ECC |\n",
            "| Fan  Temp  Perf  Pwr:Usage/Cap|         Memory-Usage | GPU-Util  Compute M. |\n",
            "|===============================+======================+======================|\n",
            "|   0  Tesla K80           Off  | 00000000:00:04.0 Off |                    0 |\n",
            "| N/A   30C    P8    27W / 149W |      0MiB / 11441MiB |      0%      Default |\n",
            "+-------------------------------+----------------------+----------------------+\n",
            "                                                                               \n",
            "+-----------------------------------------------------------------------------+\n",
            "| Processes:                                                       GPU Memory |\n",
            "|  GPU       PID   Type   Process name                             Usage      |\n",
            "|=============================================================================|\n",
            "|  No running processes found                                                 |\n",
            "+-----------------------------------------------------------------------------+\n",
            "Python 3.6.7\n"
          ],
          "name": "stdout"
        }
      ]
    },
    {
      "metadata": {
        "id": "KN-GFrsvarFB",
        "colab_type": "text"
      },
      "cell_type": "markdown",
      "source": [
        "## Import modules"
      ]
    },
    {
      "metadata": {
        "id": "HZ219oTUjJXf",
        "colab_type": "code",
        "outputId": "657fbb28-d72a-405e-9e34-1de8d511cfa6",
        "colab": {
          "base_uri": "https://localhost:8080/",
          "height": 34
        }
      },
      "cell_type": "code",
      "source": [
        "import os\n",
        "import glob\n",
        "import numpy as np\n",
        "import pandas as pd\n",
        "from IPython.display import display\n",
        "\n",
        "import tensorflow as tf\n",
        "from tensorflow import keras\n",
        "\n",
        "tf.__version__"
      ],
      "execution_count": 0,
      "outputs": [
        {
          "output_type": "execute_result",
          "data": {
            "text/plain": [
              "'1.12.0'"
            ]
          },
          "metadata": {
            "tags": []
          },
          "execution_count": 3
        }
      ]
    },
    {
      "metadata": {
        "id": "t6bn6IwDfK8b",
        "colab_type": "code",
        "outputId": "a5aab7df-176f-40a8-e2b7-dfad89b1aa40",
        "colab": {
          "base_uri": "https://localhost:8080/",
          "height": 34
        }
      },
      "cell_type": "code",
      "source": [
        "import keras\n",
        "from keras.models import Sequential\n",
        "from keras.layers import Dense, Dropout, Activation, Flatten\n",
        "from keras.layers import Conv2D, MaxPooling2D"
      ],
      "execution_count": 0,
      "outputs": [
        {
          "output_type": "stream",
          "text": [
            "Using TensorFlow backend.\n"
          ],
          "name": "stderr"
        }
      ]
    },
    {
      "metadata": {
        "id": "MpoVWvOdxUgf",
        "colab_type": "text"
      },
      "cell_type": "markdown",
      "source": [
        "## Set up data"
      ]
    },
    {
      "metadata": {
        "id": "Y3mzIuRfevKm",
        "colab_type": "code",
        "colab": {}
      },
      "cell_type": "code",
      "source": [
        "(x_train, y_train), (x_test, y_test) = tf.keras.datasets.cifar10.load_data()"
      ],
      "execution_count": 0,
      "outputs": []
    },
    {
      "metadata": {
        "id": "feKRA_oSffMa",
        "colab_type": "code",
        "colab": {}
      },
      "cell_type": "code",
      "source": [
        "num_classes = 10\n",
        "# Convert class vectors to binary class matrices.\n",
        "y_train = keras.utils.to_categorical(y_train, num_classes)\n",
        "y_test = keras.utils.to_categorical(y_test, num_classes)\n",
        "\n",
        "\n"
      ],
      "execution_count": 0,
      "outputs": []
    },
    {
      "metadata": {
        "id": "-_Hx-CTbgthc",
        "colab_type": "code",
        "colab": {}
      },
      "cell_type": "code",
      "source": [
        "x_train = x_train.astype('float32')\n",
        "x_test = x_test.astype('float32')\n",
        "x_train /= 255\n",
        "x_test /= 255"
      ],
      "execution_count": 0,
      "outputs": []
    },
    {
      "metadata": {
        "id": "q95svqIyiguC",
        "colab_type": "code",
        "colab": {}
      },
      "cell_type": "code",
      "source": [
        "input_shape = x_train.shape[1:]"
      ],
      "execution_count": 0,
      "outputs": []
    },
    {
      "metadata": {
        "id": "ciSTm1zha2ki",
        "colab_type": "text"
      },
      "cell_type": "markdown",
      "source": [
        "## Define model"
      ]
    },
    {
      "metadata": {
        "id": "k8pNftRxLT1i",
        "colab_type": "code",
        "colab": {}
      },
      "cell_type": "code",
      "source": [
        "# Returns a short sequential model\n",
        "def create_model(input_shape):\n",
        "  model = Sequential()\n",
        "  model.add(Conv2D(32, (3, 3), padding='same',\n",
        "                   input_shape=input_shape))\n",
        "  model.add(Activation('relu'))\n",
        "  model.add(Conv2D(32, (3, 3)))\n",
        "  model.add(Activation('relu'))\n",
        "  model.add(MaxPooling2D(pool_size=(2, 2)))\n",
        "  #model.add(Dropout(0.25))\n",
        "\n",
        "  model.add(Conv2D(64, (3, 3), padding='same'))\n",
        "  model.add(Activation('relu'))\n",
        "  model.add(Conv2D(64, (3, 3)))\n",
        "  model.add(Activation('relu'))\n",
        "  model.add(MaxPooling2D(pool_size=(2, 2)))\n",
        "  #model.add(Dropout(0.25))\n",
        "\n",
        "  model.add(Flatten())\n",
        "  model.add(Dense(512))\n",
        "  model.add(Activation('relu'))\n",
        "  #model.add(Dropout(0.5))\n",
        "  model.add(Dense(num_classes))\n",
        "  model.add(Activation('softmax'))\n",
        "  \n",
        "  # initiate RMSprop optimizer\n",
        "  opt = keras.optimizers.rmsprop(lr=0.0001, decay=1e-6)\n",
        "\n",
        "  # Let's train the model using RMSprop\n",
        "  model.compile(loss='categorical_crossentropy',\n",
        "                optimizer=opt,\n",
        "                metrics=['accuracy'])\n",
        "  return model"
      ],
      "execution_count": 0,
      "outputs": []
    },
    {
      "metadata": {
        "id": "QwFUcdCfa4Vs",
        "colab_type": "text"
      },
      "cell_type": "markdown",
      "source": [
        "## Fit model"
      ]
    },
    {
      "metadata": {
        "id": "jrXvLv4kjx-v",
        "colab_type": "code",
        "outputId": "0409d3dd-ba02-4077-daae-e4efbdce2c92",
        "colab": {
          "base_uri": "https://localhost:8080/",
          "height": 2285
        }
      },
      "cell_type": "code",
      "source": [
        "### If resume_if_possible = True, fitting can resume using a model file. \n",
        "resume_if_possible = True \n",
        "\n",
        "### Set resume_if_possible = False to force fitting from scratch.\n",
        "#resume_if_possible = False \n",
        "\n",
        "epochs = 100\n",
        "log_file_path = 'training_log.csv'\n",
        "model_file_path = 'model_epoch{epoch:06d}.hdf5'\n",
        "\n",
        "model_file_list = glob.glob('model_epoch*.hdf5')\n",
        "log_file_list = glob.glob(log_file_path)\n",
        "\n",
        "if resume_if_possible:\n",
        "  resume_flag = (len(model_file_list) >= 1) \n",
        "  \n",
        "if not resume_if_possible:\n",
        "  resume_flag = False\n",
        "  for f in model_file_list:\n",
        "    os.remove(f)\n",
        "\n",
        "if resume_flag:\n",
        "  latest_model_file = model_file_list[-1]\n",
        "  latest_epoch = int(latest_model_file[len('model_epoch'):-len('.hdf5')])\n",
        "  ## Load the saved model\n",
        "  model = keras.models.load_model(latest_model_file)\n",
        "\n",
        "  score = model.evaluate(x_test,y_test, verbose=0)\n",
        "  print('Use {} to resume fitting. \\nTest loss: {}   Test accuracy: {}'.format(latest_model_file, score[0], score[1]))\n",
        "\n",
        "  if len(model_file_list) >= 2:\n",
        "    ## Delete all model files excpet the latest to save space\n",
        "    for f in model_file_list[:-1]:\n",
        "      os.remove(f)\n",
        "\n",
        "if not resume_flag:\n",
        "  latest_epoch = 0\n",
        "  ## Create a basic model instance\n",
        "  model = create_model(input_shape)\n",
        "  for f in log_file_list:\n",
        "    os.remove(f)\n",
        "\n",
        "model.summary()\n",
        "\n",
        "## Create checkpoint callback\n",
        "check_point_ = tf.keras.callbacks.ModelCheckpoint(filepath = model_file_path, \n",
        "                                                 monitor = 'val_acc',\n",
        "                                                 verbose=1,\n",
        "                                                 save_best_only = True,\n",
        "                                                 mode='auto',\n",
        "                                                 save_weights_only=False,\n",
        "                                                 period = 1)\n",
        "\n",
        "## Create early stopping callback\n",
        "early_stopping_ = tf.keras.callbacks.EarlyStopping(monitor='val_acc', \n",
        "                                                   min_delta=0, \n",
        "                                                   patience=5, \n",
        "                                                   verbose=1, \n",
        "                                                   mode='auto', \n",
        "                                                   baseline=None)\n",
        "\n",
        "## Create CSV logger callback\n",
        "csv_logger_ = tf.keras.callbacks.CSVLogger(filename = log_file_path, separator=',',\n",
        "                                           append = resume_flag)\n",
        "\n",
        "## Fit \n",
        "model.fit(x_train, y_train, epochs = epochs, initial_epoch = latest_epoch,\n",
        "          validation_data = (x_test,y_test), shuffle = True,\n",
        "          callbacks = [check_point_, early_stopping_, csv_logger_])\n",
        "\n",
        "## Remove duplicates as save_best_only option of checkpoint is set to True.\n",
        "pd.options.display.max_rows = 8\n",
        "log_df = pd.read_csv(log_file_path)\n",
        "log_wo_dup_df = log_df.drop_duplicates(subset = ['epoch'], keep='last').reset_index(drop=True)\n",
        "log_wo_dup_df.to_csv((log_file_path[:-len('.csv')] + '_processed.csv'), index=False)\n"
      ],
      "execution_count": 0,
      "outputs": [
        {
          "output_type": "stream",
          "text": [
            "_________________________________________________________________\n",
            "Layer (type)                 Output Shape              Param #   \n",
            "=================================================================\n",
            "conv2d_1 (Conv2D)            (None, 32, 32, 32)        896       \n",
            "_________________________________________________________________\n",
            "activation_1 (Activation)    (None, 32, 32, 32)        0         \n",
            "_________________________________________________________________\n",
            "conv2d_2 (Conv2D)            (None, 30, 30, 32)        9248      \n",
            "_________________________________________________________________\n",
            "activation_2 (Activation)    (None, 30, 30, 32)        0         \n",
            "_________________________________________________________________\n",
            "max_pooling2d_1 (MaxPooling2 (None, 15, 15, 32)        0         \n",
            "_________________________________________________________________\n",
            "conv2d_3 (Conv2D)            (None, 15, 15, 64)        18496     \n",
            "_________________________________________________________________\n",
            "activation_3 (Activation)    (None, 15, 15, 64)        0         \n",
            "_________________________________________________________________\n",
            "conv2d_4 (Conv2D)            (None, 13, 13, 64)        36928     \n",
            "_________________________________________________________________\n",
            "activation_4 (Activation)    (None, 13, 13, 64)        0         \n",
            "_________________________________________________________________\n",
            "max_pooling2d_2 (MaxPooling2 (None, 6, 6, 64)          0         \n",
            "_________________________________________________________________\n",
            "flatten_1 (Flatten)          (None, 2304)              0         \n",
            "_________________________________________________________________\n",
            "dense_1 (Dense)              (None, 512)               1180160   \n",
            "_________________________________________________________________\n",
            "activation_5 (Activation)    (None, 512)               0         \n",
            "_________________________________________________________________\n",
            "dense_2 (Dense)              (None, 10)                5130      \n",
            "_________________________________________________________________\n",
            "activation_6 (Activation)    (None, 10)                0         \n",
            "=================================================================\n",
            "Total params: 1,250,858\n",
            "Trainable params: 1,250,858\n",
            "Non-trainable params: 0\n",
            "_________________________________________________________________\n",
            "Train on 50000 samples, validate on 10000 samples\n",
            "Epoch 1/100\n",
            "50000/50000 [==============================] - 20s 407us/step - loss: 1.6506 - acc: 0.4067 - val_loss: 1.4332 - val_acc: 0.4843\n",
            "\n",
            "Epoch 00001: val_acc improved from -inf to 0.48430, saving model to model_epoch000001.hdf5\n",
            "Epoch 2/100\n",
            "50000/50000 [==============================] - 19s 371us/step - loss: 1.3440 - acc: 0.5221 - val_loss: 1.2619 - val_acc: 0.5525\n",
            "\n",
            "Epoch 00002: val_acc improved from 0.48430 to 0.55250, saving model to model_epoch000002.hdf5\n",
            "Epoch 3/100\n",
            "50000/50000 [==============================] - 19s 371us/step - loss: 1.1974 - acc: 0.5765 - val_loss: 1.2994 - val_acc: 0.5540\n",
            "\n",
            "Epoch 00003: val_acc improved from 0.55250 to 0.55400, saving model to model_epoch000003.hdf5\n",
            "Epoch 4/100\n",
            "50000/50000 [==============================] - 19s 370us/step - loss: 1.0841 - acc: 0.6214 - val_loss: 1.0917 - val_acc: 0.6220\n",
            "\n",
            "Epoch 00004: val_acc improved from 0.55400 to 0.62200, saving model to model_epoch000004.hdf5\n",
            "Epoch 5/100\n",
            "50000/50000 [==============================] - 19s 371us/step - loss: 0.9935 - acc: 0.6552 - val_loss: 1.0021 - val_acc: 0.6532\n",
            "\n",
            "Epoch 00005: val_acc improved from 0.62200 to 0.65320, saving model to model_epoch000005.hdf5\n",
            "Epoch 6/100\n",
            "50000/50000 [==============================] - 19s 370us/step - loss: 0.9142 - acc: 0.6837 - val_loss: 1.0916 - val_acc: 0.6194\n",
            "\n",
            "Epoch 00006: val_acc did not improve from 0.65320\n",
            "Epoch 7/100\n",
            "50000/50000 [==============================] - 18s 369us/step - loss: 0.8479 - acc: 0.7079 - val_loss: 1.0554 - val_acc: 0.6435\n",
            "\n",
            "Epoch 00007: val_acc did not improve from 0.65320\n",
            "Epoch 8/100\n",
            "50000/50000 [==============================] - 18s 369us/step - loss: 0.7862 - acc: 0.7296 - val_loss: 0.9063 - val_acc: 0.6855\n",
            "\n",
            "Epoch 00008: val_acc improved from 0.65320 to 0.68550, saving model to model_epoch000008.hdf5\n",
            "Epoch 9/100\n",
            "50000/50000 [==============================] - 18s 370us/step - loss: 0.7311 - acc: 0.7485 - val_loss: 0.8883 - val_acc: 0.6930\n",
            "\n",
            "Epoch 00009: val_acc improved from 0.68550 to 0.69300, saving model to model_epoch000009.hdf5\n",
            "Epoch 10/100\n",
            "50000/50000 [==============================] - 19s 371us/step - loss: 0.6781 - acc: 0.7675 - val_loss: 0.9164 - val_acc: 0.6902\n",
            "\n",
            "Epoch 00010: val_acc did not improve from 0.69300\n",
            "Epoch 11/100\n",
            "50000/50000 [==============================] - 18s 368us/step - loss: 0.6285 - acc: 0.7854 - val_loss: 0.8753 - val_acc: 0.7048\n",
            "\n",
            "Epoch 00011: val_acc improved from 0.69300 to 0.70480, saving model to model_epoch000011.hdf5\n",
            "Epoch 12/100\n",
            "50000/50000 [==============================] - 18s 368us/step - loss: 0.5771 - acc: 0.8025 - val_loss: 0.9335 - val_acc: 0.6943\n",
            "\n",
            "Epoch 00012: val_acc did not improve from 0.70480\n",
            "Epoch 13/100\n",
            "50000/50000 [==============================] - 18s 368us/step - loss: 0.5311 - acc: 0.8200 - val_loss: 0.8396 - val_acc: 0.7246\n",
            "\n",
            "Epoch 00013: val_acc improved from 0.70480 to 0.72460, saving model to model_epoch000013.hdf5\n",
            "Epoch 14/100\n",
            "50000/50000 [==============================] - 18s 368us/step - loss: 0.4867 - acc: 0.8365 - val_loss: 0.8853 - val_acc: 0.7171\n",
            "\n",
            "Epoch 00014: val_acc did not improve from 0.72460\n",
            "Epoch 15/100\n",
            "50000/50000 [==============================] - 18s 369us/step - loss: 0.4421 - acc: 0.8499 - val_loss: 0.8960 - val_acc: 0.7142\n",
            "\n",
            "Epoch 00015: val_acc did not improve from 0.72460\n",
            "Epoch 16/100\n",
            "50000/50000 [==============================] - 18s 370us/step - loss: 0.3991 - acc: 0.8657 - val_loss: 0.8368 - val_acc: 0.7343\n",
            "\n",
            "Epoch 00016: val_acc improved from 0.72460 to 0.73430, saving model to model_epoch000016.hdf5\n",
            "Epoch 17/100\n",
            "50000/50000 [==============================] - 19s 370us/step - loss: 0.3588 - acc: 0.8799 - val_loss: 0.9183 - val_acc: 0.7238\n",
            "\n",
            "Epoch 00017: val_acc did not improve from 0.73430\n",
            "Epoch 18/100\n",
            "50000/50000 [==============================] - 18s 369us/step - loss: 0.3174 - acc: 0.8936 - val_loss: 0.9308 - val_acc: 0.7354\n",
            "\n",
            "Epoch 00018: val_acc improved from 0.73430 to 0.73540, saving model to model_epoch000018.hdf5\n",
            "Epoch 19/100\n",
            "50000/50000 [==============================] - 18s 370us/step - loss: 0.2792 - acc: 0.9069 - val_loss: 0.9472 - val_acc: 0.7360\n",
            "\n",
            "Epoch 00019: val_acc improved from 0.73540 to 0.73600, saving model to model_epoch000019.hdf5\n",
            "Epoch 20/100\n",
            "50000/50000 [==============================] - 18s 370us/step - loss: 0.2435 - acc: 0.9194 - val_loss: 1.0939 - val_acc: 0.7104\n",
            "\n",
            "Epoch 00020: val_acc did not improve from 0.73600\n",
            "Epoch 21/100\n",
            "50000/50000 [==============================] - 18s 368us/step - loss: 0.2106 - acc: 0.9303 - val_loss: 1.0515 - val_acc: 0.7309\n",
            "\n",
            "Epoch 00021: val_acc did not improve from 0.73600\n",
            "Epoch 22/100\n",
            "50000/50000 [==============================] - 18s 368us/step - loss: 0.1790 - acc: 0.9422 - val_loss: 1.0951 - val_acc: 0.7289\n",
            "\n",
            "Epoch 00022: val_acc did not improve from 0.73600\n",
            "Epoch 23/100\n",
            "50000/50000 [==============================] - 18s 368us/step - loss: 0.1510 - acc: 0.9523 - val_loss: 1.2113 - val_acc: 0.7266\n",
            "\n",
            "Epoch 00023: val_acc did not improve from 0.73600\n",
            "Epoch 24/100\n",
            "50000/50000 [==============================] - 18s 369us/step - loss: 0.1262 - acc: 0.9593 - val_loss: 1.2723 - val_acc: 0.7203\n",
            "\n",
            "Epoch 00024: val_acc did not improve from 0.73600\n",
            "Epoch 00024: early stopping\n"
          ],
          "name": "stdout"
        }
      ]
    },
    {
      "metadata": {
        "id": "-Cltp5pakeBc",
        "colab_type": "code",
        "colab": {}
      },
      "cell_type": "code",
      "source": [
        "### Clean up\n",
        "model_file_list = glob.glob('model_epoch*.hdf5')  \n",
        "if len(model_file_list) >= 2:\n",
        "  ## Delete all model files excpet the latest one to save space\n",
        "  for f in model_file_list[:-1]:\n",
        "    os.remove(f)"
      ],
      "execution_count": 0,
      "outputs": []
    },
    {
      "metadata": {
        "id": "zxUwoI89bCNT",
        "colab_type": "code",
        "outputId": "aa069fbc-0d29-4934-dd69-640f9abf19af",
        "colab": {
          "base_uri": "https://localhost:8080/",
          "height": 1047
        }
      },
      "cell_type": "code",
      "source": [
        "display(log_wo_dup_df)\n",
        "log_wo_dup_df[['epoch', 'acc', 'val_acc']].plot(x='epoch')\n",
        "log_wo_dup_df[['epoch', 'loss', 'val_loss']].plot(x='epoch')"
      ],
      "execution_count": 0,
      "outputs": [
        {
          "output_type": "display_data",
          "data": {
            "text/html": [
              "<div>\n",
              "<style scoped>\n",
              "    .dataframe tbody tr th:only-of-type {\n",
              "        vertical-align: middle;\n",
              "    }\n",
              "\n",
              "    .dataframe tbody tr th {\n",
              "        vertical-align: top;\n",
              "    }\n",
              "\n",
              "    .dataframe thead th {\n",
              "        text-align: right;\n",
              "    }\n",
              "</style>\n",
              "<table border=\"1\" class=\"dataframe\">\n",
              "  <thead>\n",
              "    <tr style=\"text-align: right;\">\n",
              "      <th></th>\n",
              "      <th>epoch</th>\n",
              "      <th>acc</th>\n",
              "      <th>loss</th>\n",
              "      <th>val_acc</th>\n",
              "      <th>val_loss</th>\n",
              "    </tr>\n",
              "  </thead>\n",
              "  <tbody>\n",
              "    <tr>\n",
              "      <th>0</th>\n",
              "      <td>0</td>\n",
              "      <td>0.40672</td>\n",
              "      <td>1.650632</td>\n",
              "      <td>0.4843</td>\n",
              "      <td>1.433208</td>\n",
              "    </tr>\n",
              "    <tr>\n",
              "      <th>1</th>\n",
              "      <td>1</td>\n",
              "      <td>0.52212</td>\n",
              "      <td>1.343988</td>\n",
              "      <td>0.5525</td>\n",
              "      <td>1.261863</td>\n",
              "    </tr>\n",
              "    <tr>\n",
              "      <th>2</th>\n",
              "      <td>2</td>\n",
              "      <td>0.57650</td>\n",
              "      <td>1.197377</td>\n",
              "      <td>0.5540</td>\n",
              "      <td>1.299413</td>\n",
              "    </tr>\n",
              "    <tr>\n",
              "      <th>3</th>\n",
              "      <td>3</td>\n",
              "      <td>0.62144</td>\n",
              "      <td>1.084134</td>\n",
              "      <td>0.6220</td>\n",
              "      <td>1.091660</td>\n",
              "    </tr>\n",
              "    <tr>\n",
              "      <th>...</th>\n",
              "      <td>...</td>\n",
              "      <td>...</td>\n",
              "      <td>...</td>\n",
              "      <td>...</td>\n",
              "      <td>...</td>\n",
              "    </tr>\n",
              "    <tr>\n",
              "      <th>20</th>\n",
              "      <td>20</td>\n",
              "      <td>0.93030</td>\n",
              "      <td>0.210556</td>\n",
              "      <td>0.7309</td>\n",
              "      <td>1.051481</td>\n",
              "    </tr>\n",
              "    <tr>\n",
              "      <th>21</th>\n",
              "      <td>21</td>\n",
              "      <td>0.94218</td>\n",
              "      <td>0.178960</td>\n",
              "      <td>0.7289</td>\n",
              "      <td>1.095149</td>\n",
              "    </tr>\n",
              "    <tr>\n",
              "      <th>22</th>\n",
              "      <td>22</td>\n",
              "      <td>0.95226</td>\n",
              "      <td>0.150979</td>\n",
              "      <td>0.7266</td>\n",
              "      <td>1.211292</td>\n",
              "    </tr>\n",
              "    <tr>\n",
              "      <th>23</th>\n",
              "      <td>23</td>\n",
              "      <td>0.95928</td>\n",
              "      <td>0.126168</td>\n",
              "      <td>0.7203</td>\n",
              "      <td>1.272289</td>\n",
              "    </tr>\n",
              "  </tbody>\n",
              "</table>\n",
              "<p>24 rows × 5 columns</p>\n",
              "</div>"
            ],
            "text/plain": [
              "    epoch      acc      loss  val_acc  val_loss\n",
              "0       0  0.40672  1.650632   0.4843  1.433208\n",
              "1       1  0.52212  1.343988   0.5525  1.261863\n",
              "2       2  0.57650  1.197377   0.5540  1.299413\n",
              "3       3  0.62144  1.084134   0.6220  1.091660\n",
              "..    ...      ...       ...      ...       ...\n",
              "20     20  0.93030  0.210556   0.7309  1.051481\n",
              "21     21  0.94218  0.178960   0.7289  1.095149\n",
              "22     22  0.95226  0.150979   0.7266  1.211292\n",
              "23     23  0.95928  0.126168   0.7203  1.272289\n",
              "\n",
              "[24 rows x 5 columns]"
            ]
          },
          "metadata": {
            "tags": []
          }
        },
        {
          "output_type": "execute_result",
          "data": {
            "text/plain": [
              "<matplotlib.axes._subplots.AxesSubplot at 0x7ffb86b2bb38>"
            ]
          },
          "metadata": {
            "tags": []
          },
          "execution_count": 12
        },
        {
          "output_type": "display_data",
          "data": {
            "image/png": "[encoded data removed]",
            "text/plain": [
              "<Figure size 576x396 with 1 Axes>"
            ]
          },
          "metadata": {
            "tags": []
          }
        },
        {
          "output_type": "display_data",
          "data": {
            "image/png": "[encoded data removed]",
            "text/plain": [
              "<Figure size 576x396 with 1 Axes>"
            ]
          },
          "metadata": {
            "tags": []
          }
        }
      ]
    },
    {
      "metadata": {
        "id": "K8zre0uERDU2",
        "colab_type": "text"
      },
      "cell_type": "markdown",
      "source": [
        "References:\n",
        "\n",
        "\n",
        "https://keras.io/callbacks/\n",
        "\n",
        "https://www.tensorflow.org/api_docs/python/tf/keras/callbacks/ModelCheckpoint"
      ]
    }
  ]
}